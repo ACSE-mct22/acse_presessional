{
 "cells": [
  {
   "cell_type": "code",
   "execution_count": null,
   "metadata": {
    "execution": {
     "iopub.execute_input": "2021-08-06T15:02:29.293478Z",
     "iopub.status.busy": "2021-08-06T15:02:29.293077Z",
     "iopub.status.idle": "2021-08-06T15:02:29.764920Z",
     "shell.execute_reply": "2021-08-06T15:02:29.763999Z"
    }
   },
   "outputs": [],
   "source": [
    "import pybryt\n",
    "from lecture import ok, pybryt_reference"
   ]
  },
  {
   "cell_type": "markdown",
   "metadata": {
    "nbpresent": {
     "id": "82db8e87-ce21-4456-a53a-3f54a2fee020"
    },
    "slideshow": {
     "slide_type": "slide"
    }
   },
   "source": [
    "# Introduction to programming in Python\n",
    "\n",
    "# Lecture 2"
   ]
  },
  {
   "cell_type": "markdown",
   "metadata": {
    "nbpresent": {
     "id": "c9ae4148-a67c-4845-91ec-d17016071d1f"
    },
    "slideshow": {
     "slide_type": "slide"
    }
   },
   "source": [
    "Learning objectives:\n",
    "\n",
    "* Learn how to modify elements in a list.\n",
    "* Learn how to iterate through different combinations of lists.\n",
    "* Know how to use a *tuple* to store data elements and understand how it differs from a *list*.\n",
    "* Know the difference between locally-scoped and globally-scoped variables.\n",
    "* Be able to use an *if* statement to execute some code blocks conditionally.\n",
    "* Learn how to compute using [Numerical Python (*NumPy*)](http://www.numpy.org/).\n",
    "* Know how to handle multidimensional arrays."
   ]
  },
  {
   "cell_type": "markdown",
   "metadata": {
    "nbpresent": {
     "id": "f2af93fa-2e4b-46f7-b762-cf6df11749f8"
    },
    "slideshow": {
     "slide_type": "slide"
    }
   },
   "source": [
    "# Changing elements in a list\n",
    "Let's say we want to add 2 to all the numbers in a list:"
   ]
  },
  {
   "cell_type": "code",
   "execution_count": null,
   "metadata": {
    "execution": {
     "iopub.execute_input": "2021-08-06T15:02:29.768817Z",
     "iopub.status.busy": "2021-08-06T15:02:29.768388Z",
     "iopub.status.idle": "2021-08-06T15:02:29.773434Z",
     "shell.execute_reply": "2021-08-06T15:02:29.773079Z"
    },
    "nbpresent": {
     "id": "4f4e8e71-aebe-4191-9f6f-f456945d3e9f"
    },
    "slideshow": {
     "slide_type": "fragment"
    }
   },
   "outputs": [],
   "source": [
    "v = [-1, 1, 10]\n",
    "for e in v:\n",
    "    e += 2  # note that e += 2 is equivalent to e = e + 2\n",
    "print(v)"
   ]
  },
  {
   "cell_type": "markdown",
   "metadata": {
    "nbpresent": {
     "id": "1e66489c-88c3-4112-b9d1-37eb8b1970a3"
    },
    "slideshow": {
     "slide_type": "subslide"
    }
   },
   "source": [
    "We can see that the list `v` is unaltered! This is because inside the loop, `e` is an ordinary (`int`) variable. At the start of the iteration, `e` is assigned a *copy* of the next element in the list. Inside the loop, we can change `e`, but `v` remains unaltered. If we want to change `v`, we have to use an index to access and modify its elements:"
   ]
  },
  {
   "cell_type": "code",
   "execution_count": null,
   "metadata": {
    "execution": {
     "iopub.execute_input": "2021-08-06T15:02:29.776475Z",
     "iopub.status.busy": "2021-08-06T15:02:29.776035Z",
     "iopub.status.idle": "2021-08-06T15:02:29.779674Z",
     "shell.execute_reply": "2021-08-06T15:02:29.779333Z"
    },
    "nbpresent": {
     "id": "06618fed-61ff-443d-b1f2-0777a4719338"
    },
    "slideshow": {
     "slide_type": "fragment"
    }
   },
   "outputs": [],
   "source": [
    "v[1] = 4  # assign 4 to the 2nd element (index 1) in v\n",
    "print(v)"
   ]
  },
  {
   "cell_type": "markdown",
   "metadata": {
    "nbpresent": {
     "id": "7ede01a3-9bb3-4a8a-9aa0-a31f76e8b424"
    },
    "slideshow": {
     "slide_type": "subslide"
    }
   },
   "source": [
    "To add 2 to all values we need a `for` loop over indices:"
   ]
  },
  {
   "cell_type": "code",
   "execution_count": null,
   "metadata": {
    "execution": {
     "iopub.execute_input": "2021-08-06T15:02:29.782690Z",
     "iopub.status.busy": "2021-08-06T15:02:29.782287Z",
     "iopub.status.idle": "2021-08-06T15:02:29.787248Z",
     "shell.execute_reply": "2021-08-06T15:02:29.786877Z"
    },
    "nbpresent": {
     "id": "0358d409-1512-43e9-a94b-147ca8d61701"
    },
    "slideshow": {
     "slide_type": "fragment"
    }
   },
   "outputs": [],
   "source": [
    "for i in range(len(v)):\n",
    "    v[i] = v[i] + 2\n",
    "print(v)"
   ]
  },
  {
   "cell_type": "markdown",
   "metadata": {},
   "source": [
    "Note that this time we iterate over the indices of the list elements\n",
    "\n",
    "```python\n",
    "for i in range(len(v)):\n",
    "    ...\n",
    "```\n",
    "\n",
    "instead of iterating over the values of elements in the list\n",
    "\n",
    "```python\n",
    "for e in v:\n",
    "    ...\n",
    "```"
   ]
  },
  {
   "cell_type": "markdown",
   "metadata": {
    "nbpresent": {
     "id": "e6d3aa98-dde7-4c7e-ae3d-a077d553fb3d"
    }
   },
   "source": [
    "## Exercise 2.1: Create a list and modify it.\n",
    "\n",
    "Write a Python function `mult(vector, n)` which takes list `vector` and number `n` as an input arguments. The function should multiply each element in the list by `n` using a `for` loop and return the resulting list."
   ]
  },
  {
   "cell_type": "code",
   "execution_count": null,
   "metadata": {
    "execution": {
     "iopub.execute_input": "2021-08-06T15:02:29.790020Z",
     "iopub.status.busy": "2021-08-06T15:02:29.789617Z",
     "iopub.status.idle": "2021-08-06T15:02:29.792408Z",
     "shell.execute_reply": "2021-08-06T15:02:29.792049Z"
    },
    "nbpresent": {
     "id": "8183a872-d8d8-4a55-a14e-fd98afa3ecfc"
    }
   },
   "outputs": [],
   "source": [
    "# Uncomment and modify the following lines. Do not change any variable names for testing purposes.\n",
    "\n",
    "# def mult(vector, n):\n",
    "#     ..."
   ]
  },
  {
   "cell_type": "code",
   "execution_count": null,
   "metadata": {
    "execution": {
     "iopub.execute_input": "2021-08-06T15:02:29.800947Z",
     "iopub.status.busy": "2021-08-06T15:02:29.799805Z",
     "iopub.status.idle": "2021-08-06T15:02:29.809787Z",
     "shell.execute_reply": "2021-08-06T15:02:29.809450Z"
    },
    "tags": [
     "pybryt"
    ]
   },
   "outputs": [],
   "source": [
    "with pybryt.check(pybryt_reference(2, 1)):\n",
    "    mult([2.1, 99.9, -10, 2], 3)"
   ]
  },
  {
   "cell_type": "code",
   "execution_count": null,
   "metadata": {
    "execution": {
     "iopub.execute_input": "2021-08-06T15:02:29.813036Z",
     "iopub.status.busy": "2021-08-06T15:02:29.812647Z",
     "iopub.status.idle": "2021-08-06T15:02:29.832654Z",
     "shell.execute_reply": "2021-08-06T15:02:29.832988Z"
    },
    "nbpresent": {
     "id": "1d0a4d7c-b292-486a-b84e-61c3a65b5c4e"
    },
    "tags": [
     "okpy"
    ]
   },
   "outputs": [],
   "source": [
    "ok.grade('exercise-2_1')"
   ]
  },
  {
   "cell_type": "markdown",
   "metadata": {
    "nbpresent": {
     "id": "19cc8075-dfee-473f-912e-ec504dcde2f0"
    },
    "slideshow": {
     "slide_type": "slide"
    }
   },
   "source": [
    "## Traversing multiple lists simultaneously: `zip(list1, list2, ...)`\n",
    "Let us consider how we can loop over elements in both `Cdegrees` and `Fdegrees` at the same time. One approach would be to use list indices:"
   ]
  },
  {
   "cell_type": "code",
   "execution_count": null,
   "metadata": {
    "execution": {
     "iopub.execute_input": "2021-08-06T15:02:29.847219Z",
     "iopub.status.busy": "2021-08-06T15:02:29.845536Z",
     "iopub.status.idle": "2021-08-06T15:02:29.880651Z",
     "shell.execute_reply": "2021-08-06T15:02:29.871762Z"
    },
    "nbpresent": {
     "id": "6c699b8c-adcb-4a73-a1fa-b3c9bd61e2d6"
    },
    "slideshow": {
     "slide_type": "fragment"
    }
   },
   "outputs": [],
   "source": [
    "# First, we have to recreate the data from the previous lecture\n",
    "Cdegrees = [deg for deg in range(-20, 41, 5)]\n",
    "Fdegrees = [(9/5)*deg + 32 for deg in Cdegrees]\n",
    "\n",
    "for i in range(len(Cdegrees)):\n",
    "    print(Cdegrees[i], Fdegrees[i])"
   ]
  },
  {
   "cell_type": "markdown",
   "metadata": {
    "nbpresent": {
     "id": "f3a61755-9040-4250-bddf-09ba66d940ad"
    },
    "slideshow": {
     "slide_type": "subslide"
    }
   },
   "source": [
    "An alternative construct, regarded as more ”Pythonic”, uses the `zip` function:"
   ]
  },
  {
   "cell_type": "code",
   "execution_count": null,
   "metadata": {
    "execution": {
     "iopub.execute_input": "2021-08-06T15:02:29.884011Z",
     "iopub.status.busy": "2021-08-06T15:02:29.883609Z",
     "iopub.status.idle": "2021-08-06T15:02:29.916759Z",
     "shell.execute_reply": "2021-08-06T15:02:29.910319Z"
    },
    "nbpresent": {
     "id": "a3b3c9c8-b797-4bcb-8af0-301a0c2e81c1"
    },
    "slideshow": {
     "slide_type": "fragment"
    }
   },
   "outputs": [],
   "source": [
    "for C, F in zip(Cdegrees, Fdegrees):\n",
    "    print(C, F)"
   ]
  },
  {
   "cell_type": "markdown",
   "metadata": {
    "nbpresent": {
     "id": "c38f5999-bdd5-4eba-b8b7-036d6883f1ff"
    },
    "slideshow": {
     "slide_type": "subslide"
    }
   },
   "source": [
    "Using `zip`, we can also traverse three lists simultaneously:"
   ]
  },
  {
   "cell_type": "code",
   "execution_count": null,
   "metadata": {
    "execution": {
     "iopub.execute_input": "2021-08-06T15:02:29.920776Z",
     "iopub.status.busy": "2021-08-06T15:02:29.920350Z",
     "iopub.status.idle": "2021-08-06T15:02:29.929932Z",
     "shell.execute_reply": "2021-08-06T15:02:29.929453Z"
    },
    "nbpresent": {
     "id": "dfad409b-2ca3-4c4c-9578-4a3dfb1f1949"
    },
    "slideshow": {
     "slide_type": "fragment"
    }
   },
   "outputs": [],
   "source": [
    "l1 = [3, 6, 1]; l2 = [1.5, 1, 0]; l3 = [9.1, 3, 2]\n",
    "\n",
    "for e1, e2, e3 in zip(l1, l2, l3):\n",
    "    print(f'e1: {e1}, e2: {e2}, e3: {e3}')"
   ]
  },
  {
   "cell_type": "markdown",
   "metadata": {
    "nbpresent": {
     "id": "87213cfd-ba47-4fab-88e8-917cd5c5f183"
    },
    "slideshow": {
     "slide_type": "subslide"
    }
   },
   "source": [
    "If the lists are of unequal length, then the loop stops when we reach the end of the shortest list. Experiment with this:"
   ]
  },
  {
   "cell_type": "code",
   "execution_count": null,
   "metadata": {
    "execution": {
     "iopub.execute_input": "2021-08-06T15:02:29.934407Z",
     "iopub.status.busy": "2021-08-06T15:02:29.933989Z",
     "iopub.status.idle": "2021-08-06T15:02:29.942718Z",
     "shell.execute_reply": "2021-08-06T15:02:29.942363Z"
    },
    "nbpresent": {
     "id": "720d5ba3-4001-4abe-8956-a125c1f35845"
    },
    "slideshow": {
     "slide_type": "fragment"
    }
   },
   "outputs": [],
   "source": [
    "l1 = [3, 6, 1, 4, 6]  # len(l1) == 5\n",
    "l2 = [1.5, 1, 0, 7]  # len(l1) == 4\n",
    "l3 = [9.1, 3, 2, 0, 9]  # len(l1) == 5\n",
    "\n",
    "for e1, e2, e3 in zip(l1, l2, l3):\n",
    "    print(f'e1: {e1}, e2: {e2}, e3: {e3}')"
   ]
  },
  {
   "cell_type": "markdown",
   "metadata": {
    "nbpresent": {
     "id": "8ab146b4-7ec7-45b3-88a4-49860f5b6cc6"
    },
    "slideshow": {
     "slide_type": "slide"
    }
   },
   "source": [
    "## Nested lists: list of lists\n",
    "A `list` can contain **any** object, including another `list`. To illustrate this, consider storing the conversion table as a single Python list rather than two separate lists."
   ]
  },
  {
   "cell_type": "code",
   "execution_count": null,
   "metadata": {
    "execution": {
     "iopub.execute_input": "2021-08-06T15:02:29.946642Z",
     "iopub.status.busy": "2021-08-06T15:02:29.946226Z",
     "iopub.status.idle": "2021-08-06T15:02:29.956726Z",
     "shell.execute_reply": "2021-08-06T15:02:29.956311Z"
    },
    "nbpresent": {
     "id": "a6fcd4d1-9f61-4b3b-8ec3-12843952ec20"
    },
    "slideshow": {
     "slide_type": "fragment"
    }
   },
   "outputs": [],
   "source": [
    "Cdegrees = [C for C in range(-20, 41, 5)]\n",
    "Fdegrees = [(9/5)*C + 32 for C in Cdegrees]\n",
    "table1 = [Cdegrees, Fdegrees]  # List of two lists\n",
    "\n",
    "print(\"table1 = \", table1)\n",
    "print(\"table1[0] = \", table1[0])  # access the first element of list table1 - Cdegrees list\n",
    "print(\"table1[1] = \", table1[1])  # access the second element of list table1 - Fdegrees list\n",
    "print(\"table1[1][3] = \", table1[1][3])  # access 4th element in the 2nd list"
   ]
  },
  {
   "cell_type": "markdown",
   "metadata": {
    "nbpresent": {
     "id": "89a35110-151d-4836-8dde-76da53991134"
    },
    "slideshow": {
     "slide_type": "subslide"
    }
   },
   "source": [
    "This gives us a table with two rows. How do we create a table of columns instead:"
   ]
  },
  {
   "cell_type": "code",
   "execution_count": null,
   "metadata": {
    "execution": {
     "iopub.execute_input": "2021-08-06T15:02:29.960668Z",
     "iopub.status.busy": "2021-08-06T15:02:29.959951Z",
     "iopub.status.idle": "2021-08-06T15:02:29.963458Z",
     "shell.execute_reply": "2021-08-06T15:02:29.963125Z"
    },
    "nbpresent": {
     "id": "950a8775-cf1b-4b7b-a571-b79406b0f1e5"
    },
    "slideshow": {
     "slide_type": "fragment"
    }
   },
   "outputs": [],
   "source": [
    "table2 = []\n",
    "for C, F in zip(Cdegrees, Fdegrees):\n",
    "    row = [C, F]\n",
    "    table2.append(row)\n",
    "\n",
    "print(table2)"
   ]
  },
  {
   "cell_type": "markdown",
   "metadata": {
    "nbpresent": {
     "id": "51044f5c-75c9-4bdc-be04-0c8953317416"
    },
    "slideshow": {
     "slide_type": "subslide"
    }
   },
   "source": [
    "We can also use list comprehension to do this more elegantly:"
   ]
  },
  {
   "cell_type": "code",
   "execution_count": null,
   "metadata": {
    "execution": {
     "iopub.execute_input": "2021-08-06T15:02:29.966548Z",
     "iopub.status.busy": "2021-08-06T15:02:29.966144Z",
     "iopub.status.idle": "2021-08-06T15:02:29.970760Z",
     "shell.execute_reply": "2021-08-06T15:02:29.971162Z"
    },
    "nbpresent": {
     "id": "c747c897-af59-46a2-b52f-de9dcd1b7762"
    },
    "slideshow": {
     "slide_type": "fragment"
    }
   },
   "outputs": [],
   "source": [
    "table2 = [[C, F] for C, F in zip(Cdegrees, Fdegrees)]\n",
    "print(table2)"
   ]
  },
  {
   "cell_type": "markdown",
   "metadata": {
    "nbpresent": {
     "id": "b7dd1233-53f8-43ed-ba94-fbca4f4def19"
    },
    "slideshow": {
     "slide_type": "subslide"
    }
   },
   "source": [
    "And we can loop through this list as before:"
   ]
  },
  {
   "cell_type": "code",
   "execution_count": null,
   "metadata": {
    "execution": {
     "iopub.execute_input": "2021-08-06T15:02:29.974135Z",
     "iopub.status.busy": "2021-08-06T15:02:29.973665Z",
     "iopub.status.idle": "2021-08-06T15:02:30.006280Z",
     "shell.execute_reply": "2021-08-06T15:02:29.997807Z"
    },
    "nbpresent": {
     "id": "3eeeb7bf-67f7-49bc-88a3-11ccff9a3a6d"
    },
    "slideshow": {
     "slide_type": "fragment"
    }
   },
   "outputs": [],
   "source": [
    "for C, F in table2:\n",
    "    print(C, F)"
   ]
  },
  {
   "cell_type": "markdown",
   "metadata": {},
   "source": [
    "Since elements of `table2` are length-2 lists, in each iteration, we *unpack* each of the length-2 elements to `C` and `F`."
   ]
  },
  {
   "cell_type": "markdown",
   "metadata": {
    "nbpresent": {
     "id": "0fc837cc-fdec-435c-8ccf-a22a7a743a0d"
    },
    "slideshow": {
     "slide_type": "slide"
    }
   },
   "source": [
    "## Tuples: lists that cannot be changed\n",
    "\n",
    "Tuples are **constant** lists, i.e. we can use them in much the same way as lists except we cannot modify them. They are an example of an [**immutable**](http://en.wikipedia.org/wiki/Immutable_object) type."
   ]
  },
  {
   "cell_type": "code",
   "execution_count": null,
   "metadata": {
    "execution": {
     "iopub.execute_input": "2021-08-06T15:02:30.009670Z",
     "iopub.status.busy": "2021-08-06T15:02:30.009266Z",
     "iopub.status.idle": "2021-08-06T15:02:30.012249Z",
     "shell.execute_reply": "2021-08-06T15:02:30.011871Z"
    },
    "nbpresent": {
     "id": "0095674c-61c3-4972-a8dd-47a223010482"
    },
    "slideshow": {
     "slide_type": "fragment"
    }
   },
   "outputs": [],
   "source": [
    "t = (2, 4, 6, 'temp.pdf')  # Define a tuple.\n",
    "t = 2, 4, 6, 'temp.pdf'  # Can skip parenthesis as it is assumed in this context."
   ]
  },
  {
   "cell_type": "markdown",
   "metadata": {
    "nbpresent": {
     "id": "032624f9-fdc9-488f-881c-9a1329ca393c"
    },
    "slideshow": {
     "slide_type": "subslide"
    }
   },
   "source": [
    "Let us see what happens when we try to modify the tuple like we did with a list:"
   ]
  },
  {
   "cell_type": "markdown",
   "metadata": {
    "nbpresent": {
     "id": "56f3d86e-714a-4475-8540-605cf08aadcd"
    },
    "slideshow": {
     "slide_type": "fragment"
    }
   },
   "source": [
    "```python\n",
    "t[1] = -1\n",
    "\n",
    "---------------------------------------------------------------------------\n",
    "TypeError                                 Traceback (most recent call last)\n",
    "<ipython-input-3-593c03edf054> in <module>()\n",
    "----> 1 t[1] = -1\n",
    "\n",
    "TypeError: 'tuple' object does not support item assignment\n",
    "```"
   ]
  },
  {
   "cell_type": "markdown",
   "metadata": {
    "nbpresent": {
     "id": "dfdb2267-7c95-466a-8bc4-9ebddd4bfd23"
    },
    "slideshow": {
     "slide_type": "subslide"
    }
   },
   "source": [
    "```python\n",
    "t.append(0)\n",
    "\n",
    "---------------------------------------------------------------------------\n",
    "AttributeError                            Traceback (most recent call last)\n",
    "<ipython-input-19-78592bf72d62> in <module>()\n",
    "----> 1 t.append(0)\n",
    "\n",
    "AttributeError: 'tuple' object has no attribute 'append'\n",
    "```"
   ]
  },
  {
   "cell_type": "markdown",
   "metadata": {
    "nbpresent": {
     "id": "58223f11-d1d1-4857-850b-8d0749d15fc9"
    },
    "slideshow": {
     "slide_type": "subslide"
    }
   },
   "source": [
    "```python\n",
    "del t[1]\n",
    "\n",
    "---------------------------------------------------------------------------\n",
    "TypeError                                 Traceback (most recent call last)\n",
    "<ipython-input-20-0193a527a912> in <module>()\n",
    "----> 1 del t[1]\n",
    "\n",
    "TypeError: 'tuple' object doesn't support item deletion\n",
    "```"
   ]
  },
  {
   "cell_type": "markdown",
   "metadata": {
    "nbpresent": {
     "id": "6786d3d8-b078-416b-9ea0-4da6945520bd"
    },
    "slideshow": {
     "slide_type": "subslide"
    }
   },
   "source": [
    "However, we can use the tuple to compose a new tuple:"
   ]
  },
  {
   "cell_type": "code",
   "execution_count": null,
   "metadata": {
    "execution": {
     "iopub.execute_input": "2021-08-06T15:02:30.015376Z",
     "iopub.status.busy": "2021-08-06T15:02:30.014973Z",
     "iopub.status.idle": "2021-08-06T15:02:30.019895Z",
     "shell.execute_reply": "2021-08-06T15:02:30.019540Z"
    },
    "nbpresent": {
     "id": "a1b2cfa3-a234-4439-bd21-d717ff867609"
    },
    "slideshow": {
     "slide_type": "fragment"
    }
   },
   "outputs": [],
   "source": [
    "t = t + (-1.0, -2.0)\n",
    "print(t)"
   ]
  },
  {
   "cell_type": "markdown",
   "metadata": {
    "nbpresent": {
     "id": "fde43ef7-d6f0-4e00-93c6-0d1df9df3854"
    },
    "slideshow": {
     "slide_type": "subslide"
    }
   },
   "source": [
    "So, why would we use tuples when lists have more functionality?\n",
    "\n",
    "* Tuples are constant and thus *protected against accidental changes*.\n",
    "* Tuples are *faster* than lists.\n",
    "* Tuples are *widely used* in Python software (so you need to know about tuples to understand other people's code!)\n",
    "* Tuples (but not lists) can be used as *keys in dictionaries* (more about dictionaries later)."
   ]
  },
  {
   "cell_type": "markdown",
   "metadata": {
    "nbpresent": {
     "id": "490e889a-3913-458b-8370-2fb16070b37d"
    },
    "slideshow": {
     "slide_type": "slide"
    }
   },
   "source": [
    "## Exercise 2.2: Make a table (a list of lists) of function values\n",
    "\n",
    "* Write a loop that evaluates the expression $y(t) = v_0 t − {1\\over2}gt^2$ for 11 evenly spaced $t$ values ranging from $0$, to $2v_0/g$ (remember that dividing a range into $n$ intervals results in $n+1$ values). You can assume that $v_0 = 1\\,$ms$^{-1}$ and $g = 9.81\\,$ms$^{-2}$.\n",
    "* Store the time values and displacement ($y$) values as a nested list, i.e.\n",
    "```python\n",
    "tlist = [t0, t1, t2, ...]\n",
    "ylist = [y0, y1, y2, ...]\n",
    "displacement = [tlist, ylist]\n",
    "```\n",
    "* Use the variable names `tlist`, `ylist` and `displacement` as illustrated in the above example for testing purposes."
   ]
  },
  {
   "cell_type": "code",
   "execution_count": null,
   "metadata": {
    "execution": {
     "iopub.execute_input": "2021-08-06T15:02:30.022628Z",
     "iopub.status.busy": "2021-08-06T15:02:30.022227Z",
     "iopub.status.idle": "2021-08-06T15:02:30.025117Z",
     "shell.execute_reply": "2021-08-06T15:02:30.024764Z"
    },
    "nbpresent": {
     "id": "270a3317-0720-4cb3-8a81-083445ec3330"
    },
    "slideshow": {
     "slide_type": "subslide"
    }
   },
   "outputs": [],
   "source": [
    "# Uncomment and modify the following lines. Do not change variable names for testing purposes.\n",
    "\n",
    "# tlist = ...\n",
    "# ylist = ...\n",
    "# displacement = ..."
   ]
  },
  {
   "cell_type": "code",
   "execution_count": null,
   "metadata": {
    "execution": {
     "iopub.execute_input": "2021-08-06T15:02:30.033953Z",
     "iopub.status.busy": "2021-08-06T15:02:30.033552Z",
     "iopub.status.idle": "2021-08-06T15:02:30.040053Z",
     "shell.execute_reply": "2021-08-06T15:02:30.039719Z"
    },
    "tags": [
     "pybryt"
    ]
   },
   "outputs": [],
   "source": [
    "with pybryt.check(pybryt_reference(2, 2)):\n",
    "    tlist, ylist, displacement"
   ]
  },
  {
   "cell_type": "code",
   "execution_count": null,
   "metadata": {
    "execution": {
     "iopub.execute_input": "2021-08-06T15:02:30.045213Z",
     "iopub.status.busy": "2021-08-06T15:02:30.044781Z",
     "iopub.status.idle": "2021-08-06T15:02:30.071865Z",
     "shell.execute_reply": "2021-08-06T15:02:30.072238Z"
    },
    "nbpresent": {
     "id": "4a1ad97a-50a1-4a52-83ea-a240da7bce2c"
    },
    "tags": [
     "okpy"
    ]
   },
   "outputs": [],
   "source": [
    "ok.grade('exercise-2_2')"
   ]
  },
  {
   "cell_type": "markdown",
   "metadata": {
    "nbpresent": {
     "id": "e5c7ed02-153d-409a-a595-93528696a35e"
    },
    "slideshow": {
     "slide_type": "slide"
    }
   },
   "source": [
    "## The `if` construct\n",
    "Let us consider we need to program the following function:\n",
    "$$\n",
    "f(x)= \n",
    "\\begin{cases}\n",
    "    \\sin(x),& \\text{if } 0 \\leq x \\leq \\pi\\\\\n",
    "    0,              & \\text{otherwise}\n",
    "\\end{cases}\n",
    "$$\n",
    "To do this, we need the `if` construct:"
   ]
  },
  {
   "cell_type": "code",
   "execution_count": null,
   "metadata": {
    "execution": {
     "iopub.execute_input": "2021-08-06T15:02:30.083710Z",
     "iopub.status.busy": "2021-08-06T15:02:30.083105Z",
     "iopub.status.idle": "2021-08-06T15:02:30.095893Z",
     "shell.execute_reply": "2021-08-06T15:02:30.096249Z"
    },
    "nbpresent": {
     "id": "b3ce7c44-884a-4602-94b1-e647ddf5ac88"
    },
    "slideshow": {
     "slide_type": "fragment"
    }
   },
   "outputs": [],
   "source": [
    "from math import sin, pi\n",
    "\n",
    "\n",
    "def f(x):\n",
    "    if 0 <= x <= pi:\n",
    "        return sin(x)\n",
    "    else:\n",
    "        return 0\n",
    "\n",
    "\n",
    "print('f(-pi/2) =', f(-pi/2))\n",
    "print('f(pi/2) =', f(pi/2))\n",
    "print('f(3*pi/2) =', f(3*pi/2))"
   ]
  },
  {
   "cell_type": "markdown",
   "metadata": {
    "nbpresent": {
     "id": "3abe0d4c-8b40-4710-8198-c60707fe67a5"
    },
    "slideshow": {
     "slide_type": "subslide"
    }
   },
   "source": [
    "Please note the indentations we used to define which statements belong to which condition. Sometimes, it is clearer to write this as an *inline* statement:"
   ]
  },
  {
   "cell_type": "code",
   "execution_count": null,
   "metadata": {
    "execution": {
     "iopub.execute_input": "2021-08-06T15:02:30.099938Z",
     "iopub.status.busy": "2021-08-06T15:02:30.099533Z",
     "iopub.status.idle": "2021-08-06T15:02:30.114297Z",
     "shell.execute_reply": "2021-08-06T15:02:30.113954Z"
    },
    "nbpresent": {
     "id": "1f47e475-25a2-4a5b-89dd-7f66d2f4b30f"
    },
    "slideshow": {
     "slide_type": "fragment"
    }
   },
   "outputs": [],
   "source": [
    "def f(x):\n",
    "    return (sin(x) if 0 <= x <= pi else 0)\n",
    "\n",
    "\n",
    "print('f(-pi/2) =', f(-pi/2))\n",
    "print('f(pi/2) =', f(pi/2))\n",
    "print('f(3*pi/2) =', f(3*pi/2))"
   ]
  },
  {
   "cell_type": "markdown",
   "metadata": {
    "nbpresent": {
     "id": "8f2b5db4-b6d4-460e-a902-a8cbc99fef87"
    },
    "slideshow": {
     "slide_type": "subslide"
    }
   },
   "source": [
    "The *else* block can be skipped if there are no statements to be executed when `False`. In general, we can put together multiple conditions. Only the first condition that is `True` is executed.\n",
    "\n",
    "```python\n",
    "if condition1:\n",
    "    <block of statements, executed if condition1 is True>\n",
    "elif condition2:\n",
    "    <block of statements, executed if condition1 is False and condition2 is True>\n",
    "elif condition3:\n",
    "    <block of statements, executed if conditions 1 and 2 are False and condition3 is True>\n",
    "else:\n",
    "    <block of statements, executed if conditions 1, 2, and 3 are False>\n",
    "    \n",
    "<next statement of the program>\n",
    "```"
   ]
  },
  {
   "cell_type": "markdown",
   "metadata": {
    "nbpresent": {
     "id": "27c74d2e-711a-4130-85e1-a16a5983c101"
    },
    "slideshow": {
     "slide_type": "slide"
    }
   },
   "source": [
    "## Exercise 2.3: Express a step (Heaviside) function as a Python function\n",
    "The following \"step\" function is known as the Heaviside function and it is widely used in mathematics:\n",
    "$$\n",
    "H(x)=\n",
    "\\begin{cases}\n",
    "    0, & \\text{if}\\; x < 0\\\\\n",
    "    1, & \\text{if}\\; x \\ge 0.\n",
    "\\end{cases}\n",
    "$$\n",
    "Write a Python function `heaviside(x)` that computes $H(x)$."
   ]
  },
  {
   "cell_type": "code",
   "execution_count": null,
   "metadata": {
    "execution": {
     "iopub.execute_input": "2021-08-06T15:02:30.117471Z",
     "iopub.status.busy": "2021-08-06T15:02:30.116761Z",
     "iopub.status.idle": "2021-08-06T15:02:30.118634Z",
     "shell.execute_reply": "2021-08-06T15:02:30.118206Z"
    },
    "nbpresent": {
     "id": "110a818c-1c96-43cb-811b-47340d649582"
    },
    "slideshow": {
     "slide_type": "subslide"
    }
   },
   "outputs": [],
   "source": [
    "# Uncomment and modify the following lines. Do not change variable names for testing purposes.\n",
    "\n",
    "# def heaviside(x):\n",
    "#     ..."
   ]
  },
  {
   "cell_type": "code",
   "execution_count": null,
   "metadata": {
    "execution": {
     "iopub.execute_input": "2021-08-06T15:02:30.125952Z",
     "iopub.status.busy": "2021-08-06T15:02:30.125550Z",
     "iopub.status.idle": "2021-08-06T15:02:30.131943Z",
     "shell.execute_reply": "2021-08-06T15:02:30.131610Z"
    },
    "tags": [
     "pybryt"
    ]
   },
   "outputs": [],
   "source": [
    "with pybryt.check(pybryt_reference(2, 3)):\n",
    "    heaviside(-1000), heaviside(1000), heaviside(0)"
   ]
  },
  {
   "cell_type": "code",
   "execution_count": null,
   "metadata": {
    "execution": {
     "iopub.execute_input": "2021-08-06T15:02:30.136760Z",
     "iopub.status.busy": "2021-08-06T15:02:30.136344Z",
     "iopub.status.idle": "2021-08-06T15:02:30.153810Z",
     "shell.execute_reply": "2021-08-06T15:02:30.152106Z"
    },
    "nbpresent": {
     "id": "176d53da-c726-4205-bf4a-1c50f7f24111"
    },
    "tags": [
     "okpy"
    ]
   },
   "outputs": [],
   "source": [
    "ok.grade('exercise-2_3')"
   ]
  },
  {
   "cell_type": "markdown",
   "metadata": {},
   "source": [
    "## Exercise 2.4: Implement the factorial function\n",
    "\n",
    "The factorial of $n$, written as $n!$, is defined as\n",
    "\n",
    "$$n! = n(n − 1)(n − 2) \\cdot \\ldots \\cdot 2 \\cdot 1,$$\n",
    "\n",
    "with the special cases\n",
    "\n",
    "$$1! = 1,$$ $$0! = 1.$$\n",
    "\n",
    "For example, $4! = 4 \\cdot 3 \\cdot 2 \\cdot 1 = 24$, and $2! = 2 \\cdot 1 = 2$.\n",
    "\n",
    "Implement your own factorial function to calculate $n!$. Return $1$ immediately if $n$ is $1$ or $0$; otherwise use a loop to compute $n!$. You can use Python's own [math.factorial(x)](https://docs.python.org/3/library/math.html) to check your code."
   ]
  },
  {
   "cell_type": "code",
   "execution_count": null,
   "metadata": {
    "execution": {
     "iopub.execute_input": "2021-08-06T15:02:30.162227Z",
     "iopub.status.busy": "2021-08-06T15:02:30.161819Z",
     "iopub.status.idle": "2021-08-06T15:02:30.163748Z",
     "shell.execute_reply": "2021-08-06T15:02:30.163276Z"
    }
   },
   "outputs": [],
   "source": [
    "# Uncomment and complete this code - keep the names the same for testing purposes.\n",
    "\n",
    "# def my_factorial(n):\n",
    "#     ..."
   ]
  },
  {
   "cell_type": "code",
   "execution_count": null,
   "metadata": {
    "execution": {
     "iopub.execute_input": "2021-08-06T15:02:30.171285Z",
     "iopub.status.busy": "2021-08-06T15:02:30.170880Z",
     "iopub.status.idle": "2021-08-06T15:02:30.184744Z",
     "shell.execute_reply": "2021-08-06T15:02:30.185046Z"
    },
    "tags": [
     "pybryt"
    ]
   },
   "outputs": [],
   "source": [
    "with pybryt.check(pybryt_reference(2, 4)):\n",
    "    my_factorial(10)"
   ]
  },
  {
   "cell_type": "code",
   "execution_count": null,
   "metadata": {
    "execution": {
     "iopub.execute_input": "2021-08-06T15:02:30.187677Z",
     "iopub.status.busy": "2021-08-06T15:02:30.187319Z",
     "iopub.status.idle": "2021-08-06T15:02:30.206463Z",
     "shell.execute_reply": "2021-08-06T15:02:30.206138Z"
    },
    "tags": [
     "okpy"
    ]
   },
   "outputs": [],
   "source": [
    "ok.grade('exercise-2_4')"
   ]
  },
  {
   "cell_type": "markdown",
   "metadata": {},
   "source": [
    "## Exercise 2.5: Compute the length of a path\n",
    "\n",
    "Some object is moving along a path in the plane. At $n$ points of time, we have recorded the corresponding $(x, y)$ positions of the object:\n",
    "$(x_0, y_0), (x_1, y_1), \\ldots, (x_{n-1}, y_{n-1})$. The total length $L$ of the path from $(x_0, y_0)$ to $(x_{n-1}, y_{n-1})$ is the sum of all the individual line segments $(x_{i-1}, y_{i-1})$ to $(x_i, y_i)$, $i = 1, \\ldots, n-1$:\n",
    "\n",
    "$$L = \\sum_{i=1}^{n-1}{\\sqrt{(x_i - x_{i-1})^2 + (y_i - y_{i-1})^2}}.$$\n",
    "\n",
    "Create a function `path_length(x, y)` for computing $L$ according to the formula. The arguments `x` and `y` are two lists that hold all the $x_0, \\ldots, x_{n-1}$ and $y_0, \\ldots, y_{n-1}$ coordinates, respectively. Test the function on a triangular path with the four points (1, 1), (2, 1), (1, 2), and (1, 1)."
   ]
  },
  {
   "cell_type": "code",
   "execution_count": null,
   "metadata": {
    "execution": {
     "iopub.execute_input": "2021-08-06T15:02:30.214535Z",
     "iopub.status.busy": "2021-08-06T15:02:30.214178Z",
     "iopub.status.idle": "2021-08-06T15:02:30.216532Z",
     "shell.execute_reply": "2021-08-06T15:02:30.216811Z"
    }
   },
   "outputs": [],
   "source": [
    "# Uncomment and complete this code - keep the names the same for testing purposes.\n",
    "\n",
    "# def path_length(x, y):\n",
    "#     ..."
   ]
  },
  {
   "cell_type": "code",
   "execution_count": null,
   "metadata": {
    "execution": {
     "iopub.execute_input": "2021-08-06T15:02:30.224728Z",
     "iopub.status.busy": "2021-08-06T15:02:30.224361Z",
     "iopub.status.idle": "2021-08-06T15:02:30.234721Z",
     "shell.execute_reply": "2021-08-06T15:02:30.234332Z"
    },
    "tags": [
     "pybryt"
    ]
   },
   "outputs": [],
   "source": [
    "with pybryt.check(pybryt_reference(2, 5)):\n",
    "    path_length([-100, 200, -561, 231], [11, 1.1, 2.9, 165.4])"
   ]
  },
  {
   "cell_type": "code",
   "execution_count": null,
   "metadata": {
    "execution": {
     "iopub.execute_input": "2021-08-06T15:02:30.240551Z",
     "iopub.status.busy": "2021-08-06T15:02:30.240097Z",
     "iopub.status.idle": "2021-08-06T15:02:30.256684Z",
     "shell.execute_reply": "2021-08-06T15:02:30.254219Z"
    },
    "tags": [
     "okpy"
    ]
   },
   "outputs": [],
   "source": [
    "ok.grade('exercise-2_5')"
   ]
  },
  {
   "cell_type": "markdown",
   "metadata": {},
   "source": [
    "## Exercise 2.6: Approximate $\\pi$\n",
    "\n",
    "As you know, the circumference of a circle is $2 \\pi r$ where $r$ is the circle's radius.  $\\pi$ is therefore the circumference of a circle with $r= \\frac{1}{2}$. We can approximate this circumference by a many-sided polygon through points on the circle. The sum of the lengths of the sides of the polygon will approximate the circumference.\n",
    "\n",
    "Firstly compute $n+1$ points around a circle according to the formulae:\n",
    "\n",
    "$ x_i = \\frac{1}{2} \\cos(\\frac{2 \\pi i}{n}),   y_i = \\frac{1}{2} \\sin(\\frac{2 \\pi i}{n}),   i = 0 \\cdots n$\n",
    "\n",
    "Then use your `path_length` function from the previous question to approximate $\\pi$.  Name your function for estimating $\\pi$ `approx_pi` for testing purposes."
   ]
  },
  {
   "cell_type": "code",
   "execution_count": null,
   "metadata": {
    "execution": {
     "iopub.execute_input": "2021-08-06T15:02:30.266582Z",
     "iopub.status.busy": "2021-08-06T15:02:30.266146Z",
     "iopub.status.idle": "2021-08-06T15:02:30.268944Z",
     "shell.execute_reply": "2021-08-06T15:02:30.268594Z"
    }
   },
   "outputs": [],
   "source": [
    "# Uncomment and complete this code - keep the names the same for testing purposes.\n",
    "\n",
    "# def approx_pi(n):\n",
    "#     ..."
   ]
  },
  {
   "cell_type": "code",
   "execution_count": null,
   "metadata": {
    "execution": {
     "iopub.execute_input": "2021-08-06T15:02:30.277238Z",
     "iopub.status.busy": "2021-08-06T15:02:30.276829Z",
     "iopub.status.idle": "2021-08-06T15:02:30.406287Z",
     "shell.execute_reply": "2021-08-06T15:02:30.406621Z"
    },
    "tags": [
     "pybryt"
    ]
   },
   "outputs": [],
   "source": [
    "with pybryt.check(pybryt_reference(2, 6)):\n",
    "    approx_pi(100)"
   ]
  },
  {
   "cell_type": "code",
   "execution_count": null,
   "metadata": {
    "execution": {
     "iopub.execute_input": "2021-08-06T15:02:30.409783Z",
     "iopub.status.busy": "2021-08-06T15:02:30.409371Z",
     "iopub.status.idle": "2021-08-06T15:02:30.432634Z",
     "shell.execute_reply": "2021-08-06T15:02:30.432955Z"
    },
    "tags": [
     "okpy"
    ]
   },
   "outputs": [],
   "source": [
    "ok.grade('exercise-2_6')"
   ]
  },
  {
   "cell_type": "markdown",
   "metadata": {},
   "source": [
    "## Exercise 2.7: Make a list of prime numbers\n",
    "\n",
    "Define a function called `prime_list` that lists all the prime numbers up to a given $n$. \n",
    "\n",
    "**Hint**: Google the Sieve of Eratosthenes."
   ]
  },
  {
   "cell_type": "code",
   "execution_count": null,
   "metadata": {
    "execution": {
     "iopub.execute_input": "2021-08-06T15:02:30.442521Z",
     "iopub.status.busy": "2021-08-06T15:02:30.441801Z",
     "iopub.status.idle": "2021-08-06T15:02:30.443303Z",
     "shell.execute_reply": "2021-08-06T15:02:30.443619Z"
    }
   },
   "outputs": [],
   "source": [
    "# Uncomment and complete this code - keep the names the same for testing purposes.\n",
    "\n",
    "# def prime_list(n):\n",
    "#     ..."
   ]
  },
  {
   "cell_type": "code",
   "execution_count": null,
   "metadata": {
    "execution": {
     "iopub.execute_input": "2021-08-06T15:02:30.451702Z",
     "iopub.status.busy": "2021-08-06T15:02:30.451300Z",
     "iopub.status.idle": "2021-08-06T15:02:30.546573Z",
     "shell.execute_reply": "2021-08-06T15:02:30.546197Z"
    },
    "tags": [
     "pybryt"
    ]
   },
   "outputs": [],
   "source": [
    "with pybryt.check(pybryt_reference(2, 7)):\n",
    "    prime_list(100)"
   ]
  },
  {
   "cell_type": "code",
   "execution_count": null,
   "metadata": {
    "execution": {
     "iopub.execute_input": "2021-08-06T15:02:30.551665Z",
     "iopub.status.busy": "2021-08-06T15:02:30.551202Z",
     "iopub.status.idle": "2021-08-06T15:02:30.571642Z",
     "shell.execute_reply": "2021-08-06T15:02:30.571272Z"
    },
    "tags": [
     "okpy"
    ]
   },
   "outputs": [],
   "source": [
    "ok.grade('exercise-2_7')"
   ]
  },
  {
   "cell_type": "markdown",
   "metadata": {
    "slideshow": {
     "slide_type": "slide"
    }
   },
   "source": [
    "## Vectors and arrays\n",
    "\n",
    "You have known **vectors** since high school mathematics, e.g. point $(x, y)$ in the plane, point $(x, y, z)$ in space. In general, we can describe a vector $v$ as an $n$-tuple of numbers: $v=(v_0, \\ldots, v_{n-1})$. One way to store vectors in Python is by using *lists*: $v_i$ is stored as `v[i]`."
   ]
  },
  {
   "cell_type": "markdown",
   "metadata": {
    "slideshow": {
     "slide_type": "subslide"
    }
   },
   "source": [
    "**Arrays** are a generalisation of vectors where we can have multiple indices: $A_{i, j}$, $A_{i, j, k}$. In Python, this is represented as a nested list, accessed as `A[i][j]`, `A[i][j][k]`.\n",
    "\n",
    "**Example**: Matrix, a table of numbers with one index for the row and one for the column\n",
    "$$\n",
    "\\left\\lbrack\\begin{array}{cccc}\n",
    "0 & 12 & -1 & 5q\\cr\n",
    "11 & 5 & 5 & -2\n",
    "\\end{array}\\right\\rbrack\n",
    "\\hspace{1cm}\n",
    "A =\n",
    "\\left\\lbrack\\begin{array}{ccc}\n",
    "A_{0,0} & \\cdots &  A_{0,n-1}\\cr\n",
    "\\vdots & \\ddots &  \\vdots\\cr\n",
    "A_{m-1,0} & \\cdots & A_{m-1,n-1}\n",
    "\\end{array}\\right\\rbrack\n",
    "$$\n",
    "The number of indices in an array is the *number of dimensions*. Using these terms, a vector can be described as a one-dimensional array or dimension-1 array."
   ]
  },
  {
   "cell_type": "markdown",
   "metadata": {
    "slideshow": {
     "slide_type": "subslide"
    }
   },
   "source": [
    "In practice, we use [Numerical Python (*NumPy*)](http://www.numpy.org/) arrays instead of lists to represent mathematical arrays because it is **much** faster for large arrays.\n",
    "\n",
    "Let us consider an example where we store $(x,y)$ points along a curve in Python lists and numpy arrays:"
   ]
  },
  {
   "cell_type": "code",
   "execution_count": null,
   "metadata": {
    "execution": {
     "iopub.execute_input": "2021-08-06T15:02:30.582309Z",
     "iopub.status.busy": "2021-08-06T15:02:30.581602Z",
     "iopub.status.idle": "2021-08-06T15:02:30.583401Z",
     "shell.execute_reply": "2021-08-06T15:02:30.583050Z"
    },
    "slideshow": {
     "slide_type": "subslide"
    }
   },
   "outputs": [],
   "source": [
    "# Sample function\n",
    "def f(x):\n",
    "    return x**3\n",
    "\n",
    "\n",
    "# Generate n points in [0, 1]\n",
    "n = 5\n",
    "dx = 1/(n-1)  # x spacing\n",
    "\n",
    "X = [i*dx for i in range(n)]  # Python list\n",
    "Y = [f(x) for x in X]\n",
    "\n",
    "# Turn these Python lists into Numerical Python (NumPy) arrays:\n",
    "import numpy as np\n",
    "\n",
    "x2 = np.array(X)\n",
    "y2 = np.array(Y)"
   ]
  },
  {
   "cell_type": "markdown",
   "metadata": {
    "slideshow": {
     "slide_type": "subslide"
    }
   },
   "source": [
    "Instead of first making lists with $x$ and $y = f (x)$ data, and then turning lists into arrays, we can make NumPy arrays\n",
    "directly:"
   ]
  },
  {
   "cell_type": "code",
   "execution_count": null,
   "metadata": {
    "execution": {
     "iopub.execute_input": "2021-08-06T15:02:30.587231Z",
     "iopub.status.busy": "2021-08-06T15:02:30.586512Z",
     "iopub.status.idle": "2021-08-06T15:02:30.588366Z",
     "shell.execute_reply": "2021-08-06T15:02:30.587994Z"
    },
    "slideshow": {
     "slide_type": "fragment"
    }
   },
   "outputs": [],
   "source": [
    "n = 5                        # number of points\n",
    "x2 = np.linspace(0, 1, n)    # generates n points between 0 and 1\n",
    "y2 = np.zeros(n)             # n zeros (float data type by default)\n",
    "for i in range(n):\n",
    "    y2[i] = f(x2[i])"
   ]
  },
  {
   "cell_type": "markdown",
   "metadata": {
    "slideshow": {
     "slide_type": "subslide"
    }
   },
   "source": [
    "List comprehensions create lists, not arrays, but we can do:"
   ]
  },
  {
   "cell_type": "code",
   "execution_count": null,
   "metadata": {
    "execution": {
     "iopub.execute_input": "2021-08-06T15:02:30.591718Z",
     "iopub.status.busy": "2021-08-06T15:02:30.591022Z",
     "iopub.status.idle": "2021-08-06T15:02:30.592824Z",
     "shell.execute_reply": "2021-08-06T15:02:30.592471Z"
    },
    "slideshow": {
     "slide_type": "fragment"
    }
   },
   "outputs": [],
   "source": [
    "y2 = np.array([f(xi) for xi in x2])  # list -> array"
   ]
  },
  {
   "cell_type": "markdown",
   "metadata": {
    "slideshow": {
     "slide_type": "slide"
    }
   },
   "source": [
    "### When and where to use NumPy arrays\n",
    "\n",
    "* Python lists can hold any sequence of any Python objects. However, NumPy arrays can only hold objects of the same type.\n",
    "* Arrays are most efficient when the elements are basic number types (*float*, *int*, *complex*).\n",
    "* In that case, arrays are stored efficiently in the computer's memory, and we can compute very efficiently with the array elements.\n",
    "* We can compute mathematical operations on whole arrays without loops in Python. For example,"
   ]
  },
  {
   "cell_type": "code",
   "execution_count": null,
   "metadata": {
    "execution": {
     "iopub.execute_input": "2021-08-06T15:02:30.595917Z",
     "iopub.status.busy": "2021-08-06T15:02:30.595506Z",
     "iopub.status.idle": "2021-08-06T15:02:30.601262Z",
     "shell.execute_reply": "2021-08-06T15:02:30.600838Z"
    },
    "slideshow": {
     "slide_type": "subslide"
    }
   },
   "outputs": [],
   "source": [
    "x = np.linspace(0, 2, 10001)\n",
    "y = np.zeros(10001)\n",
    "for i in range(len(x)):\n",
    "    y[i] = math.sin(x[i])"
   ]
  },
  {
   "cell_type": "markdown",
   "metadata": {
    "slideshow": {
     "slide_type": "fragment"
    }
   },
   "source": [
    "can be coded as"
   ]
  },
  {
   "cell_type": "code",
   "execution_count": null,
   "metadata": {
    "execution": {
     "iopub.execute_input": "2021-08-06T15:02:30.604025Z",
     "iopub.status.busy": "2021-08-06T15:02:30.603606Z",
     "iopub.status.idle": "2021-08-06T15:02:30.605551Z",
     "shell.execute_reply": "2021-08-06T15:02:30.605202Z"
    },
    "slideshow": {
     "slide_type": "fragment"
    }
   },
   "outputs": [],
   "source": [
    "y = np.sin(x)"
   ]
  },
  {
   "cell_type": "markdown",
   "metadata": {
    "slideshow": {
     "slide_type": "subslide"
    }
   },
   "source": [
    "In the latter case, the loop over all elements is now performed in a very efficient C-function. Instead of using Python `for`-loops, operations on whole arrays are called vectorisation, and they are a very **convenient**, **efficient**, and therefore an **important** programming technique to master."
   ]
  },
  {
   "cell_type": "markdown",
   "metadata": {
    "slideshow": {
     "slide_type": "subslide"
    }
   },
   "source": [
    "Let us consider a simple vectorisation example: a loop to compute $x$ coordinates (`x2`) and $y=f(x)$ coordinates (`y2`) along a function curve:"
   ]
  },
  {
   "cell_type": "code",
   "execution_count": null,
   "metadata": {
    "execution": {
     "iopub.execute_input": "2021-08-06T15:02:30.609175Z",
     "iopub.status.busy": "2021-08-06T15:02:30.608435Z",
     "iopub.status.idle": "2021-08-06T15:02:30.610267Z",
     "shell.execute_reply": "2021-08-06T15:02:30.609915Z"
    },
    "slideshow": {
     "slide_type": "fragment"
    }
   },
   "outputs": [],
   "source": [
    "x2 = np.linspace(0, 1, n)\n",
    "y2 = np.zeros(n)\n",
    "for i in range(n):\n",
    "    y2[i] = f(x2[i])"
   ]
  },
  {
   "cell_type": "markdown",
   "metadata": {
    "slideshow": {
     "slide_type": "fragment"
    }
   },
   "source": [
    "This computation can be replaced by:"
   ]
  },
  {
   "cell_type": "code",
   "execution_count": null,
   "metadata": {
    "execution": {
     "iopub.execute_input": "2021-08-06T15:02:30.613623Z",
     "iopub.status.busy": "2021-08-06T15:02:30.612909Z",
     "iopub.status.idle": "2021-08-06T15:02:30.614752Z",
     "shell.execute_reply": "2021-08-06T15:02:30.614414Z"
    },
    "slideshow": {
     "slide_type": "fragment"
    }
   },
   "outputs": [],
   "source": [
    "x2 = np.linspace(0, 1, n)\n",
    "y2 = f(x2)"
   ]
  },
  {
   "cell_type": "markdown",
   "metadata": {
    "slideshow": {
     "slide_type": "subslide"
    }
   },
   "source": [
    "The advantage of this approach is:\n",
    "\n",
    "* There is no need to allocate space for `y2` (via the NumPy *zeros* function).\n",
    "* There is no need for a loop.\n",
    "* It is *much faster*."
   ]
  },
  {
   "cell_type": "markdown",
   "metadata": {
    "slideshow": {
     "slide_type": "slide"
    }
   },
   "source": [
    "## How vectorised functions work\n",
    "Consider the function"
   ]
  },
  {
   "cell_type": "code",
   "execution_count": null,
   "metadata": {
    "execution": {
     "iopub.execute_input": "2021-08-06T15:02:30.617939Z",
     "iopub.status.busy": "2021-08-06T15:02:30.617223Z",
     "iopub.status.idle": "2021-08-06T15:02:30.619051Z",
     "shell.execute_reply": "2021-08-06T15:02:30.618694Z"
    },
    "slideshow": {
     "slide_type": "fragment"
    }
   },
   "outputs": [],
   "source": [
    "def f(x):\n",
    "    return x**3"
   ]
  },
  {
   "cell_type": "markdown",
   "metadata": {
    "slideshow": {
     "slide_type": "subslide"
    }
   },
   "source": [
    "$f(x)$ is intended for a number $x$, i.e. a *scalar*. So, what happens when we call `f(x2)`, where `x2` is a NumPy array? **The function evaluates $x^3$ for an array $x$**. NumPy supports arithmetic operations on arrays, which correspond to the equivalent operations on each element. For example,"
   ]
  },
  {
   "cell_type": "code",
   "execution_count": null,
   "metadata": {
    "execution": {
     "iopub.execute_input": "2021-08-06T15:02:30.621943Z",
     "iopub.status.busy": "2021-08-06T15:02:30.621534Z",
     "iopub.status.idle": "2021-08-06T15:02:30.624679Z",
     "shell.execute_reply": "2021-08-06T15:02:30.624319Z"
    },
    "slideshow": {
     "slide_type": "fragment"
    }
   },
   "outputs": [],
   "source": [
    "r1 = x**3                   # x[i]**3 for all i\n",
    "r2 = np.cos(x)              # cos(x[i]) for all i\n",
    "r3 = x**3 + x*np.cos(x)     # x[i]**3 + x[i]*cos(x[i]) for all i\n",
    "r4 = x/3*np.exp(-x*0.5)     # x[i]/3*exp(-x[i]*0.5) for all i"
   ]
  },
  {
   "cell_type": "markdown",
   "metadata": {
    "slideshow": {
     "slide_type": "subslide"
    }
   },
   "source": [
    "In each of these cases, a highly optimised C-function is actually called to evaluate the expression. In this example, the *cos* function called for an *array* is imported from *numpy* rather than from the *math* module which only acts on scalars.\n",
    "\n",
    "Notes:\n",
    "\n",
    "* Functions that can operate on arrays are called **vectorised functions**.\n",
    "* Vectorisation is the process of turning a non-vectorised expression/algorithm into a vectorised expression/algorithm.\n",
    "* Mathematical functions in Python automatically work for both scalar and array (vector) arguments, i.e. no vectorisation is needed by the programmer."
   ]
  },
  {
   "cell_type": "markdown",
   "metadata": {
    "slideshow": {
     "slide_type": "slide"
    }
   },
   "source": [
    "### Watch out for references vs. copies of arrays!\n",
    "Consider this code:"
   ]
  },
  {
   "cell_type": "code",
   "execution_count": null,
   "metadata": {
    "execution": {
     "iopub.execute_input": "2021-08-06T15:02:30.628563Z",
     "iopub.status.busy": "2021-08-06T15:02:30.628119Z",
     "iopub.status.idle": "2021-08-06T15:02:30.631003Z",
     "shell.execute_reply": "2021-08-06T15:02:30.630655Z"
    },
    "slideshow": {
     "slide_type": "fragment"
    }
   },
   "outputs": [],
   "source": [
    "a = x\n",
    "a[-1] = 42\n",
    "print(x[-1])"
   ]
  },
  {
   "cell_type": "markdown",
   "metadata": {
    "slideshow": {
     "slide_type": "subslide"
    }
   },
   "source": [
    "Notice what happened here - we changed a value in `a`, but the corresponding value in `x` was also changed! This is because `a` refers to the same array as `x`. If we want a separate copy of `x`, then we have to make an explicit copy:"
   ]
  },
  {
   "cell_type": "code",
   "execution_count": null,
   "metadata": {
    "execution": {
     "iopub.execute_input": "2021-08-06T15:02:30.633813Z",
     "iopub.status.busy": "2021-08-06T15:02:30.633400Z",
     "iopub.status.idle": "2021-08-06T15:02:30.635352Z",
     "shell.execute_reply": "2021-08-06T15:02:30.634998Z"
    },
    "slideshow": {
     "slide_type": "fragment"
    }
   },
   "outputs": [],
   "source": [
    "a = x.copy()"
   ]
  },
  {
   "cell_type": "markdown",
   "metadata": {
    "slideshow": {
     "slide_type": "slide"
    }
   },
   "source": [
    "## Exercise 2.8: Fill lists and arrays with function values\n",
    "\n",
    "A function with many applications in science is defined as:\n",
    "\n",
    "$$h(x) = \\frac{1}{\\sqrt{2\\pi}}\\text{e}^{-\\frac{1}{2}x^2}$$\n",
    "\n",
    "* Implement the above formula as a Python function. Call the function `h` and it should take just one argument, `x`.\n",
    "* Create a NumPy array (call it `x`) that has 9 uniformly spaced points in $[−4, 4]$.\n",
    "* Create a second NumPy array (call it `y`) with the function `h(x)`."
   ]
  },
  {
   "cell_type": "code",
   "execution_count": null,
   "metadata": {
    "execution": {
     "iopub.execute_input": "2021-08-06T15:02:30.638146Z",
     "iopub.status.busy": "2021-08-06T15:02:30.637542Z",
     "iopub.status.idle": "2021-08-06T15:02:30.639410Z",
     "shell.execute_reply": "2021-08-06T15:02:30.639052Z"
    },
    "slideshow": {
     "slide_type": "subslide"
    }
   },
   "outputs": [],
   "source": [
    "# Uncomment and complete this code - keep the names the same for testing purposes.\n",
    "\n",
    "# def h(x):\n",
    "#     ..."
   ]
  },
  {
   "cell_type": "code",
   "execution_count": null,
   "metadata": {
    "execution": {
     "iopub.execute_input": "2021-08-06T15:02:30.648262Z",
     "iopub.status.busy": "2021-08-06T15:02:30.646714Z",
     "iopub.status.idle": "2021-08-06T15:02:30.675394Z",
     "shell.execute_reply": "2021-08-06T15:02:30.675021Z"
    },
    "tags": [
     "pybryt"
    ]
   },
   "outputs": [],
   "source": [
    "with pybryt.check(pybryt_reference(2, 8)):\n",
    "    h(5), x, y"
   ]
  },
  {
   "cell_type": "code",
   "execution_count": null,
   "metadata": {
    "execution": {
     "iopub.execute_input": "2021-08-06T15:02:30.680602Z",
     "iopub.status.busy": "2021-08-06T15:02:30.680170Z",
     "iopub.status.idle": "2021-08-06T15:02:30.704344Z",
     "shell.execute_reply": "2021-08-06T15:02:30.703980Z"
    },
    "tags": [
     "okpy"
    ]
   },
   "outputs": [],
   "source": [
    "ok.grade('exercise-2_8')"
   ]
  },
  {
   "cell_type": "markdown",
   "metadata": {
    "slideshow": {
     "slide_type": "slide"
    }
   },
   "source": [
    "## Generalised array indexing\n",
    "\n",
    "We can select a slice of an array using `a[start:stop:inc]`, where the slice `start:stop:inc` implies a set of indices starting from `start`, up to `stop` in increments `inc`. Any integer list or array can be used to indicate a set of indices:"
   ]
  },
  {
   "cell_type": "code",
   "execution_count": null,
   "metadata": {
    "execution": {
     "iopub.execute_input": "2021-08-06T15:02:30.715762Z",
     "iopub.status.busy": "2021-08-06T15:02:30.715343Z",
     "iopub.status.idle": "2021-08-06T15:02:30.718123Z",
     "shell.execute_reply": "2021-08-06T15:02:30.717773Z"
    },
    "slideshow": {
     "slide_type": "fragment"
    }
   },
   "outputs": [],
   "source": [
    "a = np.linspace(1, 8, 8)\n",
    "print(a)"
   ]
  },
  {
   "cell_type": "code",
   "execution_count": null,
   "metadata": {
    "execution": {
     "iopub.execute_input": "2021-08-06T15:02:30.721078Z",
     "iopub.status.busy": "2021-08-06T15:02:30.720673Z",
     "iopub.status.idle": "2021-08-06T15:02:30.725380Z",
     "shell.execute_reply": "2021-08-06T15:02:30.725029Z"
    },
    "slideshow": {
     "slide_type": "subslide"
    }
   },
   "outputs": [],
   "source": [
    "a[[1, 6, 7]] = 10  # i.e. set the elements with indicies 1, 6, and 7 in the array to 10.\n",
    "print(a)"
   ]
  },
  {
   "cell_type": "code",
   "execution_count": null,
   "metadata": {
    "execution": {
     "iopub.execute_input": "2021-08-06T15:02:30.729262Z",
     "iopub.status.busy": "2021-08-06T15:02:30.728844Z",
     "iopub.status.idle": "2021-08-06T15:02:30.732205Z",
     "shell.execute_reply": "2021-08-06T15:02:30.731647Z"
    },
    "slideshow": {
     "slide_type": "fragment"
    }
   },
   "outputs": [],
   "source": [
    "a[range(2, 8, 3)] = -2   # same as a[2:8:3] = -2\n",
    "print(a)"
   ]
  },
  {
   "cell_type": "markdown",
   "metadata": {
    "slideshow": {
     "slide_type": "subslide"
    }
   },
   "source": [
    "Even boolean expressions can be used to select part of an array(!)"
   ]
  },
  {
   "cell_type": "code",
   "execution_count": null,
   "metadata": {
    "execution": {
     "iopub.execute_input": "2021-08-06T15:02:30.736095Z",
     "iopub.status.busy": "2021-08-06T15:02:30.735671Z",
     "iopub.status.idle": "2021-08-06T15:02:30.738639Z",
     "shell.execute_reply": "2021-08-06T15:02:30.738288Z"
    },
    "slideshow": {
     "slide_type": "fragment"
    }
   },
   "outputs": [],
   "source": [
    "print(a[a < 0])  # pick out all negative elements"
   ]
  },
  {
   "cell_type": "code",
   "execution_count": null,
   "metadata": {
    "execution": {
     "iopub.execute_input": "2021-08-06T15:02:30.742794Z",
     "iopub.status.busy": "2021-08-06T15:02:30.742034Z",
     "iopub.status.idle": "2021-08-06T15:02:30.744882Z",
     "shell.execute_reply": "2021-08-06T15:02:30.745214Z"
    },
    "slideshow": {
     "slide_type": "fragment"
    }
   },
   "outputs": [],
   "source": [
    "a[a < 0] = a.max()  # if a[i]<0, set a[i]=10\n",
    "print(a)"
   ]
  },
  {
   "cell_type": "markdown",
   "metadata": {
    "slideshow": {
     "slide_type": "slide"
    }
   },
   "source": [
    "## Exercise 2.9: Explore array slicing\n",
    "\n",
    "* Create a NumPy array called `w` with 31 uniformly spaced values ranging from 0 to 3.\n",
    "* Using array slicing, create a NumPy array called `wbits` that starts from the $4^{th}$ element of `w`, excludes the final element of `w` and selects every $3^{rd}$ element."
   ]
  },
  {
   "cell_type": "code",
   "execution_count": null,
   "metadata": {
    "execution": {
     "iopub.execute_input": "2021-08-06T15:02:30.748240Z",
     "iopub.status.busy": "2021-08-06T15:02:30.747522Z",
     "iopub.status.idle": "2021-08-06T15:02:30.749332Z",
     "shell.execute_reply": "2021-08-06T15:02:30.748984Z"
    }
   },
   "outputs": [],
   "source": [
    "# Uncomment and complete this code - keep the names the same for testing purposes.\n",
    "\n",
    "# w = ...\n",
    "# wbits = ..."
   ]
  },
  {
   "cell_type": "code",
   "execution_count": null,
   "metadata": {
    "execution": {
     "iopub.execute_input": "2021-08-06T15:02:30.756854Z",
     "iopub.status.busy": "2021-08-06T15:02:30.756451Z",
     "iopub.status.idle": "2021-08-06T15:02:30.764332Z",
     "shell.execute_reply": "2021-08-06T15:02:30.764674Z"
    },
    "tags": [
     "pybryt"
    ]
   },
   "outputs": [],
   "source": [
    "with pybryt.check(pybryt_reference(2, 9)):\n",
    "    w, wbits"
   ]
  },
  {
   "cell_type": "code",
   "execution_count": null,
   "metadata": {
    "execution": {
     "iopub.execute_input": "2021-08-06T15:02:30.769430Z",
     "iopub.status.busy": "2021-08-06T15:02:30.768999Z",
     "iopub.status.idle": "2021-08-06T15:02:30.783787Z",
     "shell.execute_reply": "2021-08-06T15:02:30.784101Z"
    },
    "tags": [
     "okpy"
    ]
   },
   "outputs": [],
   "source": [
    "ok.grade('exercise-2_9')"
   ]
  },
  {
   "cell_type": "markdown",
   "metadata": {
    "slideshow": {
     "slide_type": "slide"
    }
   },
   "source": [
    "## 2D arrays\n",
    "When we have a table of numbers,\n",
    "\n",
    "$$\n",
    "\\left\\lbrack\\begin{array}{cccc}\n",
    "0 & 12 & -1 & 5\\cr\n",
    "-1 & -1 & -1 & 0\\cr\n",
    "11 & 5 & 5 & -2\n",
    "\\end{array}\\right\\rbrack\n",
    "$$\n",
    "\n",
    "(i.e. a *matrix*) it is natural to use a two-dimensional array $A_{i, j}$ with one index for the rows and one for the columns:\n",
    "\n",
    "$$\n",
    "A = \n",
    "\\left\\lbrack\\begin{array}{ccc}\n",
    "A_{0,0} & \\cdots &  A_{0,n-1}\\cr\n",
    "\\vdots & \\ddots &  \\vdots\\cr\n",
    "A_{m-1,0} & \\cdots & A_{m-1,n-1}\n",
    "\\end{array}\\right\\rbrack\n",
    "$$\n",
    "\n",
    "Let us recreate this array using NumPy:"
   ]
  },
  {
   "cell_type": "code",
   "execution_count": null,
   "metadata": {
    "execution": {
     "iopub.execute_input": "2021-08-06T15:02:30.795330Z",
     "iopub.status.busy": "2021-08-06T15:02:30.794889Z",
     "iopub.status.idle": "2021-08-06T15:02:30.799508Z",
     "shell.execute_reply": "2021-08-06T15:02:30.799154Z"
    },
    "slideshow": {
     "slide_type": "subslide"
    }
   },
   "outputs": [],
   "source": [
    "A = np.zeros((3, 4))\n",
    "\n",
    "A[0, 0] = 0\n",
    "A[1, 0] = -1\n",
    "A[2, 0] = 11\n",
    "\n",
    "A[0, 1] = 12\n",
    "A[1, 1] = -1\n",
    "A[2, 1] = 5\n",
    "\n",
    "A[0, 2] = -1\n",
    "A[1, 2] = -1\n",
    "A[2, 2] = 5\n",
    "\n",
    "# we can also use the same syntax that we used for nested lists\n",
    "\n",
    "A[0][3] = 5\n",
    "A[1][3] = 0\n",
    "A[2][3] = -2\n",
    "\n",
    "print(A)"
   ]
  },
  {
   "cell_type": "markdown",
   "metadata": {
    "slideshow": {
     "slide_type": "subslide"
    }
   },
   "source": [
    "Next, let us convert a nested list from a previous example into a 2D array:"
   ]
  },
  {
   "cell_type": "code",
   "execution_count": null,
   "metadata": {
    "execution": {
     "iopub.execute_input": "2021-08-06T15:02:30.802993Z",
     "iopub.status.busy": "2021-08-06T15:02:30.802522Z",
     "iopub.status.idle": "2021-08-06T15:02:30.807341Z",
     "shell.execute_reply": "2021-08-06T15:02:30.806769Z"
    },
    "slideshow": {
     "slide_type": "fragment"
    }
   },
   "outputs": [],
   "source": [
    "Cdegrees = range(0, 101, 10)\n",
    "Fdegrees = [9/5*C + 32 for C in Cdegrees]\n",
    "table = [[C, F] for C, F in zip(Cdegrees, Fdegrees)]\n",
    "print(table)"
   ]
  },
  {
   "cell_type": "code",
   "execution_count": null,
   "metadata": {
    "execution": {
     "iopub.execute_input": "2021-08-06T15:02:30.810349Z",
     "iopub.status.busy": "2021-08-06T15:02:30.809945Z",
     "iopub.status.idle": "2021-08-06T15:02:30.814823Z",
     "shell.execute_reply": "2021-08-06T15:02:30.814471Z"
    },
    "slideshow": {
     "slide_type": "subslide"
    }
   },
   "outputs": [],
   "source": [
    "# Convert this nested list into a NumPy array:\n",
    "table2 = np.array(table)\n",
    "print(table2)"
   ]
  },
  {
   "cell_type": "markdown",
   "metadata": {
    "slideshow": {
     "slide_type": "subslide"
    }
   },
   "source": [
    "To see the number of elements in each dimension:"
   ]
  },
  {
   "cell_type": "code",
   "execution_count": null,
   "metadata": {
    "execution": {
     "iopub.execute_input": "2021-08-06T15:02:30.817568Z",
     "iopub.status.busy": "2021-08-06T15:02:30.817168Z",
     "iopub.status.idle": "2021-08-06T15:02:30.820612Z",
     "shell.execute_reply": "2021-08-06T15:02:30.820947Z"
    },
    "slideshow": {
     "slide_type": "fragment"
    }
   },
   "outputs": [],
   "source": [
    "print(table2.shape)"
   ]
  },
  {
   "cell_type": "markdown",
   "metadata": {
    "slideshow": {
     "slide_type": "fragment"
    }
   },
   "source": [
    "i.e. our table has 11 rows and 2 columns.\n",
    "\n",
    "Let us write a loop over all array elements of A:"
   ]
  },
  {
   "cell_type": "code",
   "execution_count": null,
   "metadata": {
    "execution": {
     "iopub.execute_input": "2021-08-06T15:02:30.825040Z",
     "iopub.status.busy": "2021-08-06T15:02:30.824615Z",
     "iopub.status.idle": "2021-08-06T15:02:30.861542Z",
     "shell.execute_reply": "2021-08-06T15:02:30.850532Z"
    },
    "slideshow": {
     "slide_type": "fragment"
    }
   },
   "outputs": [],
   "source": [
    "for i in range(table2.shape[0]):\n",
    "    for j in range(table2.shape[1]):\n",
    "        print('table2[%d, %d] = %g' % (i, j, table2[i, j]))"
   ]
  },
  {
   "cell_type": "markdown",
   "metadata": {
    "slideshow": {
     "slide_type": "subslide"
    }
   },
   "source": [
    "Alternatively:"
   ]
  },
  {
   "cell_type": "code",
   "execution_count": null,
   "metadata": {
    "execution": {
     "iopub.execute_input": "2021-08-06T15:02:30.864723Z",
     "iopub.status.busy": "2021-08-06T15:02:30.864329Z",
     "iopub.status.idle": "2021-08-06T15:02:30.893563Z",
     "shell.execute_reply": "2021-08-06T15:02:30.882913Z"
    },
    "slideshow": {
     "slide_type": "fragment"
    }
   },
   "outputs": [],
   "source": [
    "for index_tuple, value in np.ndenumerate(table2):\n",
    "    print('index %s has value %g' % (index_tuple, value))"
   ]
  },
  {
   "cell_type": "markdown",
   "metadata": {
    "slideshow": {
     "slide_type": "subslide"
    }
   },
   "source": [
    "We can also extract slices from multi-dimensional arrays as before. For example, extract the second column:"
   ]
  },
  {
   "cell_type": "code",
   "execution_count": null,
   "metadata": {
    "execution": {
     "iopub.execute_input": "2021-08-06T15:02:30.897504Z",
     "iopub.status.busy": "2021-08-06T15:02:30.896600Z",
     "iopub.status.idle": "2021-08-06T15:02:30.901509Z",
     "shell.execute_reply": "2021-08-06T15:02:30.901846Z"
    },
    "slideshow": {
     "slide_type": "fragment"
    }
   },
   "outputs": [],
   "source": [
    "print(table2[:, 1])  # 2nd column (index 1)"
   ]
  },
  {
   "cell_type": "markdown",
   "metadata": {
    "slideshow": {
     "slide_type": "subslide"
    }
   },
   "source": [
    "Play with this more complicated example:"
   ]
  },
  {
   "cell_type": "code",
   "execution_count": null,
   "metadata": {
    "execution": {
     "iopub.execute_input": "2021-08-06T15:02:30.905341Z",
     "iopub.status.busy": "2021-08-06T15:02:30.904931Z",
     "iopub.status.idle": "2021-08-06T15:02:30.919347Z",
     "shell.execute_reply": "2021-08-06T15:02:30.918911Z"
    },
    "slideshow": {
     "slide_type": "fragment"
    }
   },
   "outputs": [],
   "source": [
    "t = np.linspace(1, 30, 30).reshape(5, 6)\n",
    "print(t)"
   ]
  },
  {
   "cell_type": "code",
   "execution_count": null,
   "metadata": {
    "execution": {
     "iopub.execute_input": "2021-08-06T15:02:30.923317Z",
     "iopub.status.busy": "2021-08-06T15:02:30.922894Z",
     "iopub.status.idle": "2021-08-06T15:02:30.926688Z",
     "shell.execute_reply": "2021-08-06T15:02:30.926332Z"
    },
    "slideshow": {
     "slide_type": "fragment"
    }
   },
   "outputs": [],
   "source": [
    "print(t[1:-1:2, 2:])"
   ]
  },
  {
   "cell_type": "markdown",
   "metadata": {
    "slideshow": {
     "slide_type": "slide"
    }
   },
   "source": [
    "## Exercise 2.10: Matrix-vector multiplication\n",
    "A matrix $\\mathbf{A}$ and a vector $\\mathbf{b}$, represented in Python as a 2D array and a 1D array, respectively, are given by:\n",
    "\n",
    "$$\n",
    "\\mathbf{A} = \\left\\lbrack\\begin{array}{ccc}\n",
    "0 & 12 & -1\\cr\n",
    "-1 & -1 & -1\\cr\n",
    "11 & 5 & 5\n",
    "\\end{array}\\right\\rbrack\n",
    "$$\n",
    "\n",
    "$$\n",
    "\\mathbf{b} = \\left\\lbrack\\begin{array}{c}\n",
    "-2\\cr\n",
    "1\\cr\n",
    "7\n",
    "\\end{array}\\right\\rbrack\n",
    "$$\n",
    "\n",
    "Multiplying a matrix by a vector results in another vector $\\mathbf{c}$, whose components are defined by the general rule:\n",
    "\n",
    "$$\\mathbf{c}_i = \\sum_j\\mathbf{A}_{i, j}\\mathbf{b}_j$$\n",
    "\n",
    "* Define $\\mathbf{A}$ and $\\mathbf{b}$ as NumPy arrays\n",
    "* Write a function called `multiply` that takes two arguments, a matrix and a vector in the form of NumPy arrays, and returns a NumPy array containing their product.\n",
    "* Call this function on $\\mathbf{A}$ and $\\mathbf{b}$, and store the result in a variable $c$."
   ]
  },
  {
   "cell_type": "code",
   "execution_count": null,
   "metadata": {
    "execution": {
     "iopub.execute_input": "2021-08-06T15:02:30.930016Z",
     "iopub.status.busy": "2021-08-06T15:02:30.929106Z",
     "iopub.status.idle": "2021-08-06T15:02:30.930499Z",
     "shell.execute_reply": "2021-08-06T15:02:30.930832Z"
    }
   },
   "outputs": [],
   "source": [
    "# Uncomment and complete this code - keep the names the same for testing purposes.\n",
    "\n",
    "# def multiply(A, b):\n",
    "#     ...\n",
    "\n",
    "# A = ...\n",
    "# b = ...\n",
    "# c = ..."
   ]
  },
  {
   "cell_type": "code",
   "execution_count": null,
   "metadata": {
    "execution": {
     "iopub.execute_input": "2021-08-06T15:02:30.951216Z",
     "iopub.status.busy": "2021-08-06T15:02:30.946421Z",
     "iopub.status.idle": "2021-08-06T15:02:31.044128Z",
     "shell.execute_reply": "2021-08-06T15:02:31.043697Z"
    },
    "tags": [
     "pybryt"
    ]
   },
   "outputs": [],
   "source": [
    "with pybryt.check(pybryt_reference(2, 10)):\n",
    "    A, b, c, multiply(A, b)"
   ]
  },
  {
   "cell_type": "code",
   "execution_count": null,
   "metadata": {
    "execution": {
     "iopub.execute_input": "2021-08-06T15:02:31.049039Z",
     "iopub.status.busy": "2021-08-06T15:02:31.048617Z",
     "iopub.status.idle": "2021-08-06T15:02:31.072794Z",
     "shell.execute_reply": "2021-08-06T15:02:31.072414Z"
    },
    "tags": [
     "okpy"
    ]
   },
   "outputs": [],
   "source": [
    "ok.grade('exercise-2_10')"
   ]
  },
  {
   "cell_type": "markdown",
   "metadata": {},
   "source": [
    "## Exercise 2.11: Vectorised function\n",
    "\n",
    "Let $A_{33}$ be the two-dimensional array\n",
    "\n",
    "$$\n",
    "\\mathbf{A_{33}} = \\left\\lbrack\\begin{array}{ccc}\n",
    "0 & 12 & -1\\cr\n",
    "-1 & -1 & -1\\cr\n",
    "11 & 5 & 5\n",
    "\\end{array}\\right\\rbrack\n",
    "$$\n",
    "\n",
    "Implement and apply the function\n",
    "\n",
    "$$f(x) = x^3 + xe^x + 1$$\n",
    "\n",
    "to each element in $A_{33}$. Then calculate the result of the array expression ${A_{33}}^3 + A_{33}e^{A_{33}} + 1$, and demonstrate that the end result of the two methods are the same."
   ]
  },
  {
   "cell_type": "code",
   "execution_count": null,
   "metadata": {
    "execution": {
     "iopub.execute_input": "2021-08-06T15:02:31.086876Z",
     "iopub.status.busy": "2021-08-06T15:02:31.086150Z",
     "iopub.status.idle": "2021-08-06T15:02:31.088071Z",
     "shell.execute_reply": "2021-08-06T15:02:31.087618Z"
    }
   },
   "outputs": [],
   "source": [
    "# Uncomment and complete this code - keep the names the same for testing purposes.\n",
    "\n",
    "# A33 = ...\n",
    "\n",
    "# def f_cubic(A):\n",
    "#     ..."
   ]
  },
  {
   "cell_type": "code",
   "execution_count": null,
   "metadata": {
    "execution": {
     "iopub.execute_input": "2021-08-06T15:02:31.096413Z",
     "iopub.status.busy": "2021-08-06T15:02:31.095987Z",
     "iopub.status.idle": "2021-08-06T15:02:31.191923Z",
     "shell.execute_reply": "2021-08-06T15:02:31.191499Z"
    },
    "tags": [
     "pybryt"
    ]
   },
   "outputs": [],
   "source": [
    "with pybryt.check(pybryt_reference(2, 11)):\n",
    "    f_cubic(np.array([[1, 2, -6], [2, 2, -5]])), A33"
   ]
  },
  {
   "cell_type": "code",
   "execution_count": null,
   "metadata": {
    "execution": {
     "iopub.execute_input": "2021-08-06T15:02:31.197194Z",
     "iopub.status.busy": "2021-08-06T15:02:31.196738Z",
     "iopub.status.idle": "2021-08-06T15:02:31.213430Z",
     "shell.execute_reply": "2021-08-06T15:02:31.209389Z"
    },
    "tags": [
     "okpy"
    ]
   },
   "outputs": [],
   "source": [
    "ok.grade('exercise-2_11')"
   ]
  },
  {
   "cell_type": "markdown",
   "metadata": {},
   "source": [
    "## Exercise 2.12: Matrix-matrix multiplication\n",
    "\n",
    "The general rule for multiplying an $n \\times m$ matrix $\\mathbf{A}$ by a $m \\times p$ matrix $\\mathbf{B}$ results in a $n \\times p$ matrix $\\mathbf{C}$, whose components are defined by the general rule\n",
    "\n",
    "$$\\mathbf{C}_{i,j} = \\sum^m_{k=1}\\mathbf{A}_{i,k}\\mathbf{B}_{k,j}$$\n",
    "\n",
    "Again let $\\mathbf{A}$ be the two-dimensional array\n",
    "\n",
    "$$\n",
    "\\mathbf{A} = \\left\\lbrack\\begin{array}{ccc}\n",
    "0 & 12 & -1\\cr\n",
    "-1 & -1 & -1\\cr\n",
    "11 & 5 & 5\n",
    "\\end{array}\\right\\rbrack\n",
    "$$\n",
    "\n",
    "and let $\\mathbf{B}$ be the two-dimensional array\n",
    "\n",
    "$$\n",
    "\\mathbf{B} = \\left\\lbrack\\begin{array}{ccc}\n",
    "-2 & 1 & 7\\cr\n",
    "3 & 0 & 6\\cr\n",
    "2 & 3 & 5\n",
    "\\end{array}\\right\\rbrack.\n",
    "$$\n",
    "\n",
    "Define `A` and `B` as NumPy arrays, and write a function `f_mult` which multiplies them together using the above rule to create a the NumPy array called `C`."
   ]
  },
  {
   "cell_type": "code",
   "execution_count": null,
   "metadata": {
    "execution": {
     "iopub.execute_input": "2021-08-06T15:02:31.224889Z",
     "iopub.status.busy": "2021-08-06T15:02:31.224479Z",
     "iopub.status.idle": "2021-08-06T15:02:31.227280Z",
     "shell.execute_reply": "2021-08-06T15:02:31.226941Z"
    }
   },
   "outputs": [],
   "source": [
    "# Uncomment and complete this code - keep the names the same for testing purposes.\n",
    "\n",
    "# def f_mult(A, B):\n",
    "#     if A.shape[1] != B.shape[0]:\n",
    "#         raise RuntimeError('Matrix A should have the same number of columns as B has rows.')\n",
    "#     C = np.zeros([A.shape[0], B.shape[1]])\n",
    "#     ..."
   ]
  },
  {
   "cell_type": "code",
   "execution_count": null,
   "metadata": {
    "execution": {
     "iopub.execute_input": "2021-08-06T15:02:31.238275Z",
     "iopub.status.busy": "2021-08-06T15:02:31.237677Z",
     "iopub.status.idle": "2021-08-06T15:02:31.274505Z",
     "shell.execute_reply": "2021-08-06T15:02:31.274142Z"
    },
    "tags": [
     "pybryt"
    ]
   },
   "outputs": [],
   "source": [
    "with pybryt.check(pybryt_reference(2, 12)):\n",
    "    f_mult(np.array([[5, 6], [11, 17]]), np.array([[91, -6], [21, 14]])), A, B"
   ]
  },
  {
   "cell_type": "code",
   "execution_count": null,
   "metadata": {
    "execution": {
     "iopub.execute_input": "2021-08-06T15:02:31.277433Z",
     "iopub.status.busy": "2021-08-06T15:02:31.277003Z",
     "iopub.status.idle": "2021-08-06T15:02:31.300609Z",
     "shell.execute_reply": "2021-08-06T15:02:31.300940Z"
    },
    "tags": [
     "okpy"
    ]
   },
   "outputs": [],
   "source": [
    "ok.grade('exercise-2_12')"
   ]
  },
  {
   "cell_type": "markdown",
   "metadata": {},
   "source": [
    "## Exercise 2.13: 2D array slicing\n",
    "\n",
    "\n",
    "* Create a 1D NumPy array called `odd` with all of the odd numbers from 1 to 55\n",
    "* Create a 2D NumPy array called `odd_sq` with all of the odd numbers from 1 to 55 in a matrix with 4 rows and 7 columns\n",
    "* Using array slicing, create a 2D NumPy array called, `odd_bits`, that starts from the $2^{nd}$ column of `odd_sq` and selects every other column, of only the $2^{nd}$ and $3^{rd}$ rows of `odd_sq`."
   ]
  },
  {
   "cell_type": "code",
   "execution_count": null,
   "metadata": {
    "execution": {
     "iopub.execute_input": "2021-08-06T15:02:31.314110Z",
     "iopub.status.busy": "2021-08-06T15:02:31.313213Z",
     "iopub.status.idle": "2021-08-06T15:02:31.314596Z",
     "shell.execute_reply": "2021-08-06T15:02:31.314928Z"
    }
   },
   "outputs": [],
   "source": [
    "# Uncomment and complete this code - keep the names the same for testing purposes.\n",
    "\n",
    "# odd = ...\n",
    "# odd_sq = ...\n",
    "# odd_bits = ..."
   ]
  },
  {
   "cell_type": "code",
   "execution_count": null,
   "metadata": {
    "execution": {
     "iopub.execute_input": "2021-08-06T15:02:31.322295Z",
     "iopub.status.busy": "2021-08-06T15:02:31.321891Z",
     "iopub.status.idle": "2021-08-06T15:02:31.330067Z",
     "shell.execute_reply": "2021-08-06T15:02:31.329678Z"
    },
    "tags": [
     "pybryt"
    ]
   },
   "outputs": [],
   "source": [
    "with pybryt.check(pybryt_reference(2, 13)):\n",
    "    odd, odd_sq, odd_bits"
   ]
  },
  {
   "cell_type": "code",
   "execution_count": null,
   "metadata": {
    "execution": {
     "iopub.execute_input": "2021-08-06T15:02:31.334803Z",
     "iopub.status.busy": "2021-08-06T15:02:31.334383Z",
     "iopub.status.idle": "2021-08-06T15:02:31.350578Z",
     "shell.execute_reply": "2021-08-06T15:02:31.346551Z"
    },
    "tags": [
     "okpy"
    ]
   },
   "outputs": [],
   "source": [
    "ok.grade('exercise-2_13')"
   ]
  },
  {
   "cell_type": "code",
   "execution_count": null,
   "metadata": {
    "execution": {
     "iopub.execute_input": "2021-08-06T15:02:31.360916Z",
     "iopub.status.busy": "2021-08-06T15:02:31.360555Z",
     "iopub.status.idle": "2021-08-06T15:02:31.515221Z",
     "shell.execute_reply": "2021-08-06T15:02:31.486701Z"
    },
    "tags": [
     "okpy"
    ]
   },
   "outputs": [],
   "source": [
    "ok.score()"
   ]
  }
 ],
 "metadata": {
  "celltoolbar": "Tags",
  "kernelspec": {
   "display_name": "Python 3",
   "language": "python",
   "name": "python3"
  },
  "language_info": {
   "codemirror_mode": {
    "name": "ipython",
    "version": 3
   },
   "file_extension": ".py",
   "mimetype": "text/x-python",
   "name": "python",
   "nbconvert_exporter": "python",
   "pygments_lexer": "ipython3",
   "version": "3.8.11"
  }
 },
 "nbformat": 4,
 "nbformat_minor": 4
}
