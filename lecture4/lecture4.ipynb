{
 "cells": [
  {
   "cell_type": "code",
   "execution_count": null,
   "metadata": {
    "execution": {
     "iopub.execute_input": "2021-08-06T15:02:37.219750Z",
     "iopub.status.busy": "2021-08-06T15:02:37.219271Z",
     "iopub.status.idle": "2021-08-06T15:02:37.626302Z",
     "shell.execute_reply": "2021-08-06T15:02:37.625592Z"
    }
   },
   "outputs": [],
   "source": [
    "import pybryt\n",
    "from lecture import ok, pybryt_reference"
   ]
  },
  {
   "cell_type": "markdown",
   "metadata": {},
   "source": [
    "# Introduction to programming in Python\n",
    "\n",
    "# Lecture 4"
   ]
  },
  {
   "cell_type": "markdown",
   "metadata": {},
   "source": [
    "Learning objectives: You will learn how to:\n",
    "\n",
    "* Parse strings to extract specific data of interest.\n",
    "* Use dictionaries to index data using any type of key.\n",
    "* Learn how to create your own **objects** in Python and develop **member functions** for these new data types."
   ]
  },
  {
   "cell_type": "markdown",
   "metadata": {},
   "source": [
    "## Python dictionaries\n",
    "Suppose we need to store the temperatures in Oslo, London, and Paris. The Python list solution might look like:"
   ]
  },
  {
   "cell_type": "code",
   "execution_count": null,
   "metadata": {
    "execution": {
     "iopub.execute_input": "2021-08-06T15:02:37.629538Z",
     "iopub.status.busy": "2021-08-06T15:02:37.629061Z",
     "iopub.status.idle": "2021-08-06T15:02:37.631925Z",
     "shell.execute_reply": "2021-08-06T15:02:37.631562Z"
    }
   },
   "outputs": [],
   "source": [
    "temps = [13, 15.4, 17.5]\n",
    "# temps[0]: Oslo\n",
    "# temps[1]: London\n",
    "# temps[2]: Paris"
   ]
  },
  {
   "cell_type": "markdown",
   "metadata": {},
   "source": [
    "In this case, we need to remember the mapping between the index and the city name. It would be easier to specify the name of the city to get the temperature. Containers such as lists and arrays use a continuous series of integers to index elements. However, for many applications, such an integer index is not useful.\n",
    "\n",
    "**Dictionaries** are containers where any Python object can be used as an index. Let us rewrite the previous example using a Python dictionary:"
   ]
  },
  {
   "cell_type": "code",
   "execution_count": null,
   "metadata": {
    "execution": {
     "iopub.execute_input": "2021-08-06T15:02:37.634955Z",
     "iopub.status.busy": "2021-08-06T15:02:37.634483Z",
     "iopub.status.idle": "2021-08-06T15:02:37.641342Z",
     "shell.execute_reply": "2021-08-06T15:02:37.640980Z"
    }
   },
   "outputs": [],
   "source": [
    "temps = {\"Oslo\": 13, \"London\": 15.4, \"Paris\": 17.5}\n",
    "print(\"The temperature in London is\", temps[\"London\"])"
   ]
  },
  {
   "cell_type": "markdown",
   "metadata": {},
   "source": [
    "Add a new item to a dictionary:"
   ]
  },
  {
   "cell_type": "code",
   "execution_count": null,
   "metadata": {
    "execution": {
     "iopub.execute_input": "2021-08-06T15:02:37.645006Z",
     "iopub.status.busy": "2021-08-06T15:02:37.644590Z",
     "iopub.status.idle": "2021-08-06T15:02:37.647671Z",
     "shell.execute_reply": "2021-08-06T15:02:37.647100Z"
    }
   },
   "outputs": [],
   "source": [
    "temps[\"Madrid\"] = 26.0\n",
    "print(temps)"
   ]
  },
  {
   "cell_type": "markdown",
   "metadata": {},
   "source": [
    "Loop (iterate) over a dictionary:"
   ]
  },
  {
   "cell_type": "code",
   "execution_count": null,
   "metadata": {
    "execution": {
     "iopub.execute_input": "2021-08-06T15:02:37.651073Z",
     "iopub.status.busy": "2021-08-06T15:02:37.650435Z",
     "iopub.status.idle": "2021-08-06T15:02:37.662278Z",
     "shell.execute_reply": "2021-08-06T15:02:37.661243Z"
    }
   },
   "outputs": [],
   "source": [
    "for city in temps:\n",
    "    print(\"The temperature in %s is %g\" % (city, temps[city]))"
   ]
  },
  {
   "cell_type": "markdown",
   "metadata": {},
   "source": [
    "The index in a dictionary is called the **key**. A dictionary is said to hold key–value pairs. So, in general:\n",
    "\n",
    "```python\n",
    "for key in dictionary:\n",
    "    value = dictionary[key]\n",
    "    print(value)\n",
    "```"
   ]
  },
  {
   "cell_type": "markdown",
   "metadata": {},
   "source": [
    "Does the dictionary have a particular key (i.e. a particular data entry)?"
   ]
  },
  {
   "cell_type": "code",
   "execution_count": null,
   "metadata": {
    "execution": {
     "iopub.execute_input": "2021-08-06T15:02:37.669149Z",
     "iopub.status.busy": "2021-08-06T15:02:37.668370Z",
     "iopub.status.idle": "2021-08-06T15:02:37.671225Z",
     "shell.execute_reply": "2021-08-06T15:02:37.670865Z"
    }
   },
   "outputs": [],
   "source": [
    "if \"Berlin\" in temps:\n",
    "    print(\"We have Berlin and its temperature is \", temps[\"Berlin\"])\n",
    "else:\n",
    "    print(\"I don't know Berlin' temperature.\")"
   ]
  },
  {
   "cell_type": "code",
   "execution_count": null,
   "metadata": {
    "execution": {
     "iopub.execute_input": "2021-08-06T15:02:37.675413Z",
     "iopub.status.busy": "2021-08-06T15:02:37.674992Z",
     "iopub.status.idle": "2021-08-06T15:02:37.678053Z",
     "shell.execute_reply": "2021-08-06T15:02:37.677608Z"
    }
   },
   "outputs": [],
   "source": [
    "print(\"Oslo\" in temps)  # i.e. standard boolean expression"
   ]
  },
  {
   "cell_type": "markdown",
   "metadata": {},
   "source": [
    "The keys and values can be reached as lists:"
   ]
  },
  {
   "cell_type": "code",
   "execution_count": null,
   "metadata": {
    "execution": {
     "iopub.execute_input": "2021-08-06T15:02:37.684492Z",
     "iopub.status.busy": "2021-08-06T15:02:37.683502Z",
     "iopub.status.idle": "2021-08-06T15:02:37.689853Z",
     "shell.execute_reply": "2021-08-06T15:02:37.686976Z"
    }
   },
   "outputs": [],
   "source": [
    "print(\"Keys = \", temps.keys())\n",
    "print(\"Values = \", temps.values())"
   ]
  },
  {
   "cell_type": "markdown",
   "metadata": {},
   "source": [
    "Note that the sequence of keys is **arbitrary**! Never rely on it, if you need a specific order of the keys then you should explicitly sort:"
   ]
  },
  {
   "cell_type": "code",
   "execution_count": null,
   "metadata": {
    "execution": {
     "iopub.execute_input": "2021-08-06T15:02:37.692679Z",
     "iopub.status.busy": "2021-08-06T15:02:37.692245Z",
     "iopub.status.idle": "2021-08-06T15:02:37.706342Z",
     "shell.execute_reply": "2021-08-06T15:02:37.703438Z"
    }
   },
   "outputs": [],
   "source": [
    "for key in sorted(temps):\n",
    "    value = temps[key]\n",
    "    print(key, value)"
   ]
  },
  {
   "cell_type": "markdown",
   "metadata": {},
   "source": [
    "Remove Oslo key-value pair:"
   ]
  },
  {
   "cell_type": "code",
   "execution_count": null,
   "metadata": {
    "execution": {
     "iopub.execute_input": "2021-08-06T15:02:37.709435Z",
     "iopub.status.busy": "2021-08-06T15:02:37.708959Z",
     "iopub.status.idle": "2021-08-06T15:02:37.716011Z",
     "shell.execute_reply": "2021-08-06T15:02:37.715676Z"
    }
   },
   "outputs": [],
   "source": [
    "del temps[\"Oslo\"]  # remove Oslo key w/value\n",
    "print(temps)\n",
    "print(len(temps))"
   ]
  },
  {
   "cell_type": "markdown",
   "metadata": {},
   "source": [
    "Similarly to what we saw for arrays, two variables can refer to the same dictionary:"
   ]
  },
  {
   "cell_type": "code",
   "execution_count": null,
   "metadata": {
    "execution": {
     "iopub.execute_input": "2021-08-06T15:02:37.719313Z",
     "iopub.status.busy": "2021-08-06T15:02:37.718888Z",
     "iopub.status.idle": "2021-08-06T15:02:37.723025Z",
     "shell.execute_reply": "2021-08-06T15:02:37.722669Z"
    }
   },
   "outputs": [],
   "source": [
    "t1 = temps\n",
    "t1[\"Stockholm\"] = 10.0\n",
    "print(temps)"
   ]
  },
  {
   "cell_type": "markdown",
   "metadata": {},
   "source": [
    "So, we can see that while we modified `t1`, the `temps` dictionary was also changed."
   ]
  },
  {
   "cell_type": "markdown",
   "metadata": {},
   "source": [
    "Let us look at a simple example of reading the same data from a file and putting it into a dictionary. We will be reading the file [data/deg2.dat](./data/deg2.dat)."
   ]
  },
  {
   "cell_type": "code",
   "execution_count": null,
   "metadata": {
    "execution": {
     "iopub.execute_input": "2021-08-06T15:02:37.727572Z",
     "iopub.status.busy": "2021-08-06T15:02:37.727112Z",
     "iopub.status.idle": "2021-08-06T15:02:37.730165Z",
     "shell.execute_reply": "2021-08-06T15:02:37.729809Z"
    }
   },
   "outputs": [],
   "source": [
    "infile = open(\"data/deg2.dat\", \"r\")\n",
    "# Start with an empty dictionary\n",
    "temps = {}\n",
    "for line in infile:\n",
    "    # If you examine the file you will see a ':' after the city name,\n",
    "    # so let's use this as the delimiter for splitting the line.\n",
    "    city, temp = line.split(\":\")\n",
    "    temps[city] = float(temp)\n",
    "infile.close()\n",
    "\n",
    "print(temps)"
   ]
  },
  {
   "cell_type": "markdown",
   "metadata": {},
   "source": [
    "## Exercise 4.1: Make a dictionary from a table\n",
    "\n",
    "The file [data/constants.txt](data/constants.txt) contains a table of the values and the dimensions of some fundamental constants from physics. We want to load this table into a dictionary `constants`, where the keys are the names of the constants. For example, `constants['gravitational constant']` holds the value of the gravitational constant (6.67259 $\\times$ 10$^{-11}$) in Newton's law of gravitation. Make a function `read_constants(file_path)` that reads and interprets the text in the file passed as an argument, and after that returns the dictionary."
   ]
  },
  {
   "cell_type": "code",
   "execution_count": null,
   "metadata": {
    "execution": {
     "iopub.execute_input": "2021-08-06T15:02:37.733055Z",
     "iopub.status.busy": "2021-08-06T15:02:37.732334Z",
     "iopub.status.idle": "2021-08-06T15:02:37.734167Z",
     "shell.execute_reply": "2021-08-06T15:02:37.733799Z"
    }
   },
   "outputs": [],
   "source": [
    "# Uncomment and modify the following code. Do not change variable names for testing purposes.\n",
    "\n",
    "# def read_constants(file_path):\n",
    "#     ..."
   ]
  },
  {
   "cell_type": "code",
   "execution_count": null,
   "metadata": {
    "execution": {
     "iopub.execute_input": "2021-08-06T15:02:37.742170Z",
     "iopub.status.busy": "2021-08-06T15:02:37.741768Z",
     "iopub.status.idle": "2021-08-06T15:02:37.763574Z",
     "shell.execute_reply": "2021-08-06T15:02:37.763208Z"
    },
    "tags": [
     "pybryt"
    ]
   },
   "outputs": [],
   "source": [
    "with pybryt.check(pybryt_reference(4, 1)):\n",
    "    read_constants('./data/constants.txt')"
   ]
  },
  {
   "cell_type": "code",
   "execution_count": null,
   "metadata": {
    "execution": {
     "iopub.execute_input": "2021-08-06T15:02:37.768509Z",
     "iopub.status.busy": "2021-08-06T15:02:37.768047Z",
     "iopub.status.idle": "2021-08-06T15:02:37.784393Z",
     "shell.execute_reply": "2021-08-06T15:02:37.784792Z"
    },
    "tags": [
     "okpy"
    ]
   },
   "outputs": [],
   "source": [
    "ok.grade('exercise-4_1')"
   ]
  },
  {
   "cell_type": "markdown",
   "metadata": {},
   "source": [
    "## Exercise 4.2: Reverse a dictionary\n",
    "\n",
    "Consider the following dictionary translating some English words to German:\n",
    "\n",
    "```python\n",
    "my_dict = {'dog': 'Hund', 'cat': 'Katze', 'house': 'Haus', 'bicycle': 'Fahrrad'}\n",
    "```\n",
    "\n",
    "Write a Python function `reverse_dict(dictionary)` that takes any dictionary as input and reverses it. For instance, if `my_dict` is passed, a German-English dictionary with key-value pairs (items) is returned."
   ]
  },
  {
   "cell_type": "code",
   "execution_count": null,
   "metadata": {
    "execution": {
     "iopub.execute_input": "2021-08-06T15:02:37.793944Z",
     "iopub.status.busy": "2021-08-06T15:02:37.793223Z",
     "iopub.status.idle": "2021-08-06T15:02:37.794760Z",
     "shell.execute_reply": "2021-08-06T15:02:37.795085Z"
    }
   },
   "outputs": [],
   "source": [
    "# Uncomment and modify the following code. Do not change variable names for testing purposes.\n",
    "\n",
    "# def reverse_dict(dictionary):\n",
    "#     ..."
   ]
  },
  {
   "cell_type": "code",
   "execution_count": null,
   "metadata": {
    "execution": {
     "iopub.execute_input": "2021-08-06T15:02:37.804153Z",
     "iopub.status.busy": "2021-08-06T15:02:37.803680Z",
     "iopub.status.idle": "2021-08-06T15:02:37.811153Z",
     "shell.execute_reply": "2021-08-06T15:02:37.810751Z"
    },
    "tags": [
     "pybryt"
    ]
   },
   "outputs": [],
   "source": [
    "with pybryt.check(pybryt_reference(4, 2)):\n",
    "    reverse_dict({'a': 'b', 'c': 'd', 'e': 'f', 'g': 'h'})"
   ]
  },
  {
   "cell_type": "code",
   "execution_count": null,
   "metadata": {
    "execution": {
     "iopub.execute_input": "2021-08-06T15:02:37.815852Z",
     "iopub.status.busy": "2021-08-06T15:02:37.815427Z",
     "iopub.status.idle": "2021-08-06T15:02:37.830717Z",
     "shell.execute_reply": "2021-08-06T15:02:37.826667Z"
    },
    "tags": [
     "okpy"
    ]
   },
   "outputs": [],
   "source": [
    "ok.grade('exercise-4_2')"
   ]
  },
  {
   "cell_type": "markdown",
   "metadata": {},
   "source": [
    "## Exercise 4.3: Compute the area of a triangle\n",
    "\n",
    "An arbitrary triangle can be described by the coordinates of its three vertices: $(x_1, y_1), (x_2, y_2), (x_3, y_3)$, numbered in a counterclockwise direction. The area of the triangle is given by the formula:\n",
    "\n",
    "$$A = \\frac{1}{2}|x_2y_3 - x_3y_2 - x_1y_3 + x_3y_1 + x_1y_2 - x_2y_1|.$$\n",
    "\n",
    "Write a function `triangle_area(vertices)` that returns the area of a triangle whose vertices are specified by the argument `vertices`, which is a dictionary and not a list. The keys in the dictionary correspond to the vertex number (1, 2, or 3) while the values are 2-tuples with the $x$ and $y$ coordinates of the vertex - $(x, y)$. For example, for a triangle with vertices $(0, 0)$, $(1, 0)$, and $(0, 2)$ the `vertices` argument is: `{1: (0, 0), 2: (1, 0), 3: (0, 2)}`.\n",
    "\n",
    "**Question**: Can the function `triangle_area(vertices)` accept both a nested list and a dictionary as an argument?"
   ]
  },
  {
   "cell_type": "code",
   "execution_count": null,
   "metadata": {
    "execution": {
     "iopub.execute_input": "2021-08-06T15:02:37.839747Z",
     "iopub.status.busy": "2021-08-06T15:02:37.839337Z",
     "iopub.status.idle": "2021-08-06T15:02:37.842456Z",
     "shell.execute_reply": "2021-08-06T15:02:37.842102Z"
    }
   },
   "outputs": [],
   "source": [
    "# Uncomment and modify the following code. Do not change variable names for testing purposes.\n",
    "\n",
    "# def triangle_area(vertices):\n",
    "#     ..."
   ]
  },
  {
   "cell_type": "code",
   "execution_count": null,
   "metadata": {
    "execution": {
     "iopub.execute_input": "2021-08-06T15:02:37.851058Z",
     "iopub.status.busy": "2021-08-06T15:02:37.850653Z",
     "iopub.status.idle": "2021-08-06T15:02:37.858231Z",
     "shell.execute_reply": "2021-08-06T15:02:37.857862Z"
    },
    "tags": [
     "pybryt"
    ]
   },
   "outputs": [],
   "source": [
    "with pybryt.check(pybryt_reference(4, 3)):\n",
    "    triangle_area({1: (100, 20), 2: (101, 130), 3: (-50, 22)})"
   ]
  },
  {
   "cell_type": "code",
   "execution_count": null,
   "metadata": {
    "execution": {
     "iopub.execute_input": "2021-08-06T15:02:37.864156Z",
     "iopub.status.busy": "2021-08-06T15:02:37.862651Z",
     "iopub.status.idle": "2021-08-06T15:02:37.876239Z",
     "shell.execute_reply": "2021-08-06T15:02:37.875863Z"
    },
    "tags": [
     "okpy"
    ]
   },
   "outputs": [],
   "source": [
    "ok.grade('exercise-4_3')"
   ]
  },
  {
   "cell_type": "markdown",
   "metadata": {},
   "source": [
    "## String manipulation\n",
    "\n",
    "Text in Python is represented as **strings**. Programming with strings is therefore the key to interpret text in files and construct new text (i.e. **parsing**). First we show some common string operations and then we apply them to real examples. Our sample string used for illustration is:"
   ]
  },
  {
   "cell_type": "code",
   "execution_count": null,
   "metadata": {
    "execution": {
     "iopub.execute_input": "2021-08-06T15:02:37.885437Z",
     "iopub.status.busy": "2021-08-06T15:02:37.885027Z",
     "iopub.status.idle": "2021-08-06T15:02:37.887828Z",
     "shell.execute_reply": "2021-08-06T15:02:37.887470Z"
    }
   },
   "outputs": [],
   "source": [
    "s = \"Berlin: 18.4 C at 4 pm\""
   ]
  },
  {
   "cell_type": "markdown",
   "metadata": {},
   "source": [
    "Strings behave much like lists/tuples - they are simply a sequence of characters:"
   ]
  },
  {
   "cell_type": "code",
   "execution_count": null,
   "metadata": {
    "execution": {
     "iopub.execute_input": "2021-08-06T15:02:37.890804Z",
     "iopub.status.busy": "2021-08-06T15:02:37.890400Z",
     "iopub.status.idle": "2021-08-06T15:02:37.898790Z",
     "shell.execute_reply": "2021-08-06T15:02:37.898453Z"
    }
   },
   "outputs": [],
   "source": [
    "print(\"s[0] =\", s[0])\n",
    "print(\"s[1] =\", s[1])"
   ]
  },
  {
   "cell_type": "markdown",
   "metadata": {},
   "source": [
    "Substrings are just slices of lists and arrays:"
   ]
  },
  {
   "cell_type": "code",
   "execution_count": null,
   "metadata": {
    "execution": {
     "iopub.execute_input": "2021-08-06T15:02:37.901497Z",
     "iopub.status.busy": "2021-08-06T15:02:37.901096Z",
     "iopub.status.idle": "2021-08-06T15:02:37.905790Z",
     "shell.execute_reply": "2021-08-06T15:02:37.905456Z"
    }
   },
   "outputs": [],
   "source": [
    "# from index 8 to the end of the string\n",
    "print(s[8:])"
   ]
  },
  {
   "cell_type": "code",
   "execution_count": null,
   "metadata": {
    "execution": {
     "iopub.execute_input": "2021-08-06T15:02:37.908436Z",
     "iopub.status.busy": "2021-08-06T15:02:37.908007Z",
     "iopub.status.idle": "2021-08-06T15:02:37.911148Z",
     "shell.execute_reply": "2021-08-06T15:02:37.910796Z"
    }
   },
   "outputs": [],
   "source": [
    "# indices 8, 9, 10 and 11 (not 12!)\n",
    "print(s[8:12])"
   ]
  },
  {
   "cell_type": "code",
   "execution_count": null,
   "metadata": {
    "execution": {
     "iopub.execute_input": "2021-08-06T15:02:37.913913Z",
     "iopub.status.busy": "2021-08-06T15:02:37.913512Z",
     "iopub.status.idle": "2021-08-06T15:02:37.918376Z",
     "shell.execute_reply": "2021-08-06T15:02:37.918009Z"
    }
   },
   "outputs": [],
   "source": [
    "# from index 8 to 8 from the end of the string\n",
    "print(s[8:-8])"
   ]
  },
  {
   "cell_type": "markdown",
   "metadata": {},
   "source": [
    "You can also find the start index of a substring:"
   ]
  },
  {
   "cell_type": "code",
   "execution_count": null,
   "metadata": {
    "execution": {
     "iopub.execute_input": "2021-08-06T15:02:37.921064Z",
     "iopub.status.busy": "2021-08-06T15:02:37.920657Z",
     "iopub.status.idle": "2021-08-06T15:02:37.925367Z",
     "shell.execute_reply": "2021-08-06T15:02:37.925030Z"
    }
   },
   "outputs": [],
   "source": [
    "# where does \"Berlin\" start?\n",
    "print(s.find(\"Berlin\"))"
   ]
  },
  {
   "cell_type": "code",
   "execution_count": null,
   "metadata": {
    "execution": {
     "iopub.execute_input": "2021-08-06T15:02:37.927822Z",
     "iopub.status.busy": "2021-08-06T15:02:37.927417Z",
     "iopub.status.idle": "2021-08-06T15:02:37.931810Z",
     "shell.execute_reply": "2021-08-06T15:02:37.931468Z"
    }
   },
   "outputs": [],
   "source": [
    "print(s.find(\"pm\"))"
   ]
  },
  {
   "cell_type": "code",
   "execution_count": null,
   "metadata": {
    "execution": {
     "iopub.execute_input": "2021-08-06T15:02:37.934924Z",
     "iopub.status.busy": "2021-08-06T15:02:37.934522Z",
     "iopub.status.idle": "2021-08-06T15:02:37.939224Z",
     "shell.execute_reply": "2021-08-06T15:02:37.938869Z"
    }
   },
   "outputs": [],
   "source": [
    "print(s.find(\"Oslo\"))"
   ]
  },
  {
   "cell_type": "markdown",
   "metadata": {},
   "source": [
    "In this last example, `Oslo` does not exist in the list so the return value is -1."
   ]
  },
  {
   "cell_type": "markdown",
   "metadata": {},
   "source": [
    "We can also check if a substring is contained in a string:"
   ]
  },
  {
   "cell_type": "code",
   "execution_count": null,
   "metadata": {
    "execution": {
     "iopub.execute_input": "2021-08-06T15:02:37.941957Z",
     "iopub.status.busy": "2021-08-06T15:02:37.941557Z",
     "iopub.status.idle": "2021-08-06T15:02:37.946250Z",
     "shell.execute_reply": "2021-08-06T15:02:37.945898Z"
    }
   },
   "outputs": [],
   "source": [
    "print(\"Berlin\" in s)"
   ]
  },
  {
   "cell_type": "code",
   "execution_count": null,
   "metadata": {
    "execution": {
     "iopub.execute_input": "2021-08-06T15:02:37.949865Z",
     "iopub.status.busy": "2021-08-06T15:02:37.949447Z",
     "iopub.status.idle": "2021-08-06T15:02:37.952299Z",
     "shell.execute_reply": "2021-08-06T15:02:37.951928Z"
    }
   },
   "outputs": [],
   "source": [
    "print(\"Oslo\" in s)"
   ]
  },
  {
   "cell_type": "code",
   "execution_count": null,
   "metadata": {
    "execution": {
     "iopub.execute_input": "2021-08-06T15:02:37.956416Z",
     "iopub.status.busy": "2021-08-06T15:02:37.955972Z",
     "iopub.status.idle": "2021-08-06T15:02:37.958771Z",
     "shell.execute_reply": "2021-08-06T15:02:37.958413Z"
    }
   },
   "outputs": [],
   "source": [
    "if \"C\" in s:\n",
    "    print(\"C found\")\n",
    "else:\n",
    "    print(\"C not found\")"
   ]
  },
  {
   "cell_type": "markdown",
   "metadata": {},
   "source": [
    "### Search and replace\n",
    "Strings also support substituting a substring by another string. In general this looks like `s.replace(s1, s2)`, which replaces string `s1` in `s` by string `s2`, e.g.:"
   ]
  },
  {
   "cell_type": "code",
   "execution_count": null,
   "metadata": {
    "execution": {
     "iopub.execute_input": "2021-08-06T15:02:37.962801Z",
     "iopub.status.busy": "2021-08-06T15:02:37.962380Z",
     "iopub.status.idle": "2021-08-06T15:02:37.965235Z",
     "shell.execute_reply": "2021-08-06T15:02:37.964860Z"
    }
   },
   "outputs": [],
   "source": [
    "s = s.replace(\" \", \"_\")\n",
    "print(s)"
   ]
  },
  {
   "cell_type": "code",
   "execution_count": null,
   "metadata": {
    "execution": {
     "iopub.execute_input": "2021-08-06T15:02:37.968903Z",
     "iopub.status.busy": "2021-08-06T15:02:37.968484Z",
     "iopub.status.idle": "2021-08-06T15:02:37.971254Z",
     "shell.execute_reply": "2021-08-06T15:02:37.970903Z"
    }
   },
   "outputs": [],
   "source": [
    "s = s.replace(\"Berlin\", \"Bonn\")\n",
    "print(s)"
   ]
  },
  {
   "cell_type": "code",
   "execution_count": null,
   "metadata": {
    "execution": {
     "iopub.execute_input": "2021-08-06T15:02:37.975382Z",
     "iopub.status.busy": "2021-08-06T15:02:37.974956Z",
     "iopub.status.idle": "2021-08-06T15:02:37.977866Z",
     "shell.execute_reply": "2021-08-06T15:02:37.977514Z"
    }
   },
   "outputs": [],
   "source": [
    "# Replace the text before the first colon by 'London'\n",
    "s = s.replace(s[:s.find(\":\")], \"London\")\n",
    "print(s)"
   ]
  },
  {
   "cell_type": "markdown",
   "metadata": {},
   "source": [
    "Notice that in all these examples, we assign the new result back to `s`. One of the reasons we are doing this is that strings are actually constant (i.e immutable) and therefore cannot be modified *inplace*. We **cannot** write for example:\n",
    "\n",
    "```python\n",
    "s[18] = '5'\n",
    "TypeError: \"str\" object does not support item assignment\n",
    "```"
   ]
  },
  {
   "cell_type": "markdown",
   "metadata": {},
   "source": [
    "We also encountered examples above where we used the `split` function to break up a line into separate substrings for a given separator (where a space is the default delimiter). Sometimes we want to split a string into lines - i.e. the delimiter is the [carriage return](http://en.wikipedia.org/wiki/Carriage_return). This can be surprisingly tricky because different computing platforms (e.g. Windows, Linux, MacOS) use different characters to represent a carriage return. For example, Unix uses `\\n`. Luckly Python provides a *cross platform* way of doing this so regardless of what platform created the data file, or what platform you are running Python on, it will do the *right thing*: "
   ]
  },
  {
   "cell_type": "code",
   "execution_count": null,
   "metadata": {
    "execution": {
     "iopub.execute_input": "2021-08-06T15:02:37.981525Z",
     "iopub.status.busy": "2021-08-06T15:02:37.981105Z",
     "iopub.status.idle": "2021-08-06T15:02:37.984235Z",
     "shell.execute_reply": "2021-08-06T15:02:37.983848Z"
    }
   },
   "outputs": [],
   "source": [
    "t = \"1st line\\n2nd line\\n3rd line\"\n",
    "\n",
    "print(f\"original t =\\n{t}\")"
   ]
  },
  {
   "cell_type": "code",
   "execution_count": null,
   "metadata": {
    "execution": {
     "iopub.execute_input": "2021-08-06T15:02:37.987772Z",
     "iopub.status.busy": "2021-08-06T15:02:37.987350Z",
     "iopub.status.idle": "2021-08-06T15:02:37.990130Z",
     "shell.execute_reply": "2021-08-06T15:02:37.989778Z"
    }
   },
   "outputs": [],
   "source": [
    "# This works here but will give you problems if you are switching\n",
    "# files between Windows and either Mac or Linux.\n",
    "print(t.split(\"\\n\"))"
   ]
  },
  {
   "cell_type": "code",
   "execution_count": null,
   "metadata": {
    "execution": {
     "iopub.execute_input": "2021-08-06T15:02:37.993045Z",
     "iopub.status.busy": "2021-08-06T15:02:37.992625Z",
     "iopub.status.idle": "2021-08-06T15:02:37.996889Z",
     "shell.execute_reply": "2021-08-06T15:02:37.996530Z"
    }
   },
   "outputs": [],
   "source": [
    "# Cross platform (i.e. better) solution\n",
    "print(t.splitlines())"
   ]
  },
  {
   "cell_type": "markdown",
   "metadata": {},
   "source": [
    "### Stripping off leading/trailing whitespace\n",
    "When processing text from a file and composing new strings, we frequently need to trim leading and trailing whitespaces:"
   ]
  },
  {
   "cell_type": "code",
   "execution_count": null,
   "metadata": {
    "execution": {
     "iopub.execute_input": "2021-08-06T15:02:38.000521Z",
     "iopub.status.busy": "2021-08-06T15:02:38.000076Z",
     "iopub.status.idle": "2021-08-06T15:02:38.002857Z",
     "shell.execute_reply": "2021-08-06T15:02:38.002505Z"
    }
   },
   "outputs": [],
   "source": [
    "s = \"        text with leading and trailing spaces          \\n\"\n",
    "print(\"-->%s<--\" % s.strip())"
   ]
  },
  {
   "cell_type": "code",
   "execution_count": null,
   "metadata": {
    "execution": {
     "iopub.execute_input": "2021-08-06T15:02:38.006485Z",
     "iopub.status.busy": "2021-08-06T15:02:38.006066Z",
     "iopub.status.idle": "2021-08-06T15:02:38.008835Z",
     "shell.execute_reply": "2021-08-06T15:02:38.008479Z"
    }
   },
   "outputs": [],
   "source": [
    "# left strip\n",
    "print(\"-->%s<--\" % s.lstrip())"
   ]
  },
  {
   "cell_type": "code",
   "execution_count": null,
   "metadata": {
    "execution": {
     "iopub.execute_input": "2021-08-06T15:02:38.012321Z",
     "iopub.status.busy": "2021-08-06T15:02:38.011883Z",
     "iopub.status.idle": "2021-08-06T15:02:38.015064Z",
     "shell.execute_reply": "2021-08-06T15:02:38.014714Z"
    }
   },
   "outputs": [],
   "source": [
    "# right strip\n",
    "print(\"-->%s<--\" % s.rstrip())"
   ]
  },
  {
   "cell_type": "markdown",
   "metadata": {},
   "source": [
    "Please note that carriage return is considered as a whitespace character as well."
   ]
  },
  {
   "cell_type": "markdown",
   "metadata": {},
   "source": [
    "### `join()` - the opposite of `split()`\n",
    "We can join a list of substrings to form a new string. Similar to `split()`, we put strings together with a delimiter inbetween:"
   ]
  },
  {
   "cell_type": "code",
   "execution_count": null,
   "metadata": {
    "execution": {
     "iopub.execute_input": "2021-08-06T15:02:38.019005Z",
     "iopub.status.busy": "2021-08-06T15:02:38.018575Z",
     "iopub.status.idle": "2021-08-06T15:02:38.021419Z",
     "shell.execute_reply": "2021-08-06T15:02:38.021064Z"
    }
   },
   "outputs": [],
   "source": [
    "strings = [\"Newton\", \"Secant\", \"Bisection\"]\n",
    "print(\", \".join(strings))"
   ]
  },
  {
   "cell_type": "markdown",
   "metadata": {},
   "source": [
    "You can prove to yourself that these are inverse operations:\n",
    "```python\n",
    "t = delimiter.join(stringlist)\n",
    "stringlist = t.split(delimiter)\n",
    "```"
   ]
  },
  {
   "cell_type": "markdown",
   "metadata": {},
   "source": [
    "As an example, let's split off the first two words on a line:"
   ]
  },
  {
   "cell_type": "code",
   "execution_count": null,
   "metadata": {
    "execution": {
     "iopub.execute_input": "2021-08-06T15:02:38.028171Z",
     "iopub.status.busy": "2021-08-06T15:02:38.026638Z",
     "iopub.status.idle": "2021-08-06T15:02:38.034196Z",
     "shell.execute_reply": "2021-08-06T15:02:38.030751Z"
    }
   },
   "outputs": [],
   "source": [
    "line = \"This is a line of words separated by space\"\n",
    "words = line.split()\n",
    "print(\"words = \", words)\n",
    "line2 = \" \".join(words[2:])\n",
    "print(\"line2 = \", line2)"
   ]
  },
  {
   "cell_type": "markdown",
   "metadata": {},
   "source": [
    "## Exercise 4.4: Improve a program\n",
    "\n",
    "The file [data/densities.dat](./data/densities.dat) contains a table of densities of various substances measured in $\\text{gcm}^{-3}$. The following program reads the data in this file and produces a dictionary whose keys are the names of substances, and the values are the corresponding densities."
   ]
  },
  {
   "cell_type": "code",
   "execution_count": null,
   "metadata": {
    "execution": {
     "iopub.execute_input": "2021-08-06T15:02:38.039636Z",
     "iopub.status.busy": "2021-08-06T15:02:38.039201Z",
     "iopub.status.idle": "2021-08-06T15:02:38.042006Z",
     "shell.execute_reply": "2021-08-06T15:02:38.041654Z"
    }
   },
   "outputs": [],
   "source": [
    "def read_densities(filename):\n",
    "    infile = open(filename, 'r')\n",
    "    densities = {}\n",
    "    for line in infile:\n",
    "        words = line.split()\n",
    "        density = float(words[-1])\n",
    "\n",
    "        if len(words[:-1]) == 2:\n",
    "            substance = words[0] + ' ' + words[1]\n",
    "        else:\n",
    "            substance = words[0]\n",
    "\n",
    "        densities[substance] = density\n",
    "\n",
    "    infile.close()\n",
    "    return densities\n",
    "\n",
    "\n",
    "densities = read_densities('data/densities.dat')\n",
    "print(densities)"
   ]
  },
  {
   "cell_type": "markdown",
   "metadata": {},
   "source": [
    "One problem we face when implementing the program above is that the name of the substance can contain one or two words, and maybe more words in a more comprehensive table. The purpose of this exercise is to use string operations to shorten the code and make it more general. Implement the following two methods in separate functions `read_densities_join` and `read_densities_substrings`, and control that they give the same result.\n",
    "\n",
    "1. In `read_densities_join`, let *substance* consist of all the words but the last and use the `join()` method to combine the words. Replace any spaces between words in substances with underscore.\n",
    "2. In `read_densities_substrings`, observe that all the densities (numerical values) start in the same column, and use substrings to divide line into two parts. Replace any spaces between words in substances with underscore. (**Hint**: Remember to strip the first part such that, e.g. the density of ice is obtained as `densities['ice']` and not `densities['ice     ']`.)"
   ]
  },
  {
   "cell_type": "code",
   "execution_count": null,
   "metadata": {
    "execution": {
     "iopub.execute_input": "2021-08-06T15:02:38.045048Z",
     "iopub.status.busy": "2021-08-06T15:02:38.044247Z",
     "iopub.status.idle": "2021-08-06T15:02:38.046278Z",
     "shell.execute_reply": "2021-08-06T15:02:38.045857Z"
    }
   },
   "outputs": [],
   "source": [
    "# Uncomment and modify the following code. Do not change variable names for testing purposes.\n",
    "\n",
    "# def read_densities_join(filename):\n",
    "#     ...\n",
    "\n",
    "# def read_densities_substrings(filename):\n",
    "#     ..."
   ]
  },
  {
   "cell_type": "code",
   "execution_count": null,
   "metadata": {
    "execution": {
     "iopub.execute_input": "2021-08-06T15:02:38.059386Z",
     "iopub.status.busy": "2021-08-06T15:02:38.058941Z",
     "iopub.status.idle": "2021-08-06T15:02:38.104890Z",
     "shell.execute_reply": "2021-08-06T15:02:38.105224Z"
    },
    "tags": [
     "pybryt"
    ]
   },
   "outputs": [],
   "source": [
    "with pybryt.check(pybryt_reference(4, '4_1')):\n",
    "    read_densities_join('./data/densities.dat')"
   ]
  },
  {
   "cell_type": "code",
   "execution_count": null,
   "metadata": {
    "execution": {
     "iopub.execute_input": "2021-08-06T15:02:38.117993Z",
     "iopub.status.busy": "2021-08-06T15:02:38.108250Z",
     "iopub.status.idle": "2021-08-06T15:02:38.154550Z",
     "shell.execute_reply": "2021-08-06T15:02:38.154096Z"
    },
    "tags": [
     "pybryt"
    ]
   },
   "outputs": [],
   "source": [
    "with pybryt.check(pybryt_reference(4, '4_2')):\n",
    "    read_densities_substrings('./data/densities.dat')"
   ]
  },
  {
   "cell_type": "code",
   "execution_count": null,
   "metadata": {
    "execution": {
     "iopub.execute_input": "2021-08-06T15:02:38.160125Z",
     "iopub.status.busy": "2021-08-06T15:02:38.159685Z",
     "iopub.status.idle": "2021-08-06T15:02:38.181817Z",
     "shell.execute_reply": "2021-08-06T15:02:38.181465Z"
    },
    "tags": [
     "okpy"
    ]
   },
   "outputs": [],
   "source": [
    "ok.grade('exercise-4_4')"
   ]
  },
  {
   "cell_type": "markdown",
   "metadata": {},
   "source": [
    "## Class: encapsulating variables/data and functions\n",
    "\n",
    "A class encapsulates variables/data and functions into one single unit. As a programmer, you can create a new class and thereby a new **object type** (similar to those you have already encountered - `int`, `float`, `string`, `list`, `file`, etc.). Once you have created a class you can create many instances of that type as you wish, just as you can have many `int` or `float` objects.\n",
    "\n",
    "Modern programming makes heavy use of classes and object orientated programming to manage software complexity, making these important concepts to understand. However, for non-trivial applications the design of good abstractions and classes requires careful consideration, otherwise one can unintentionally increase complexity and hurt the performance of your code. Therefore, you should consider this lecture merely as a gentle introduction illustrated with some simple examples."
   ]
  },
  {
   "cell_type": "markdown",
   "metadata": {},
   "source": [
    "## Representing a function by a class\n",
    "\n",
    "Consider a function of $t$ with a parameter $v_0$:\n",
    "\n",
    "$$ y(t: v_0, g)=v_0t - {1\\over2}gt^2 $$\n",
    "\n",
    "We need both $v_0$, $g$ and $t$ to evaluate $y$. How might we implement this?"
   ]
  },
  {
   "cell_type": "markdown",
   "metadata": {},
   "source": [
    "One option is to assume we will always pass in all variables as arguments:\n",
    "```python\n",
    "def y(t, v0, g=9.81):\n",
    "    return v0*t - 0.5*g*t**2\n",
    "```\n",
    "This looks like a reasonable solution when there are only a couple of parameters. But the software complexity quickly gets out of hand as the number of variables increases (I have worked on legacy codes that had function argument lists that were hundreds of lines long because there was no notion of encapsulation!)\n",
    "\n",
    "Alternatively we might define `v0` and `g` as global variables:\n",
    "```python\n",
    "g = 9.81\n",
    "v0 = ...\n",
    "\n",
    "...\n",
    "\n",
    "def y(t):\n",
    "    return v0*t - 0.5*g*t**2\n",
    "```\n",
    "However, the use of global variables is strongly discouraged for many reasons, e.g. very error prone, increased risk of namespace pollution (variables being clobbered when you import a Python module), makes it difficult to manage instances where there might be multiple values for the global variable within the same context, etc."
   ]
  },
  {
   "cell_type": "markdown",
   "metadata": {},
   "source": [
    "Let us look at how we might instead implement this as a class.\n",
    "\n",
    "While we will not cover it in detail here, it is worth noting that professional developers often use [UML (Unified Modeling Language)](http://en.wikipedia.org/wiki/Unified_Modeling_Language) to illustrate the design of a class. Here is a UML diagram for this example:\n",
    "\n",
    "![Simple UML example](https://github.com/ggorman/Introduction-to-programming-for-geoscientists/raw/master/notebook/images/class_Y_UML.png)\n",
    "\n",
    "For this example `class Y` for $y(t: v_0, g)$ has variables `v0` and `g` and a function `value` for computing $y(t: v_0, g)$. Often classes also have the special function `__init__` for initialising class variables.\n",
    "\n",
    "Here is an implementation of this class:"
   ]
  },
  {
   "cell_type": "code",
   "execution_count": null,
   "metadata": {
    "execution": {
     "iopub.execute_input": "2021-08-06T15:02:38.193701Z",
     "iopub.status.busy": "2021-08-06T15:02:38.193294Z",
     "iopub.status.idle": "2021-08-06T15:02:38.195250Z",
     "shell.execute_reply": "2021-08-06T15:02:38.194857Z"
    }
   },
   "outputs": [],
   "source": [
    "class Y:\n",
    "    def __init__(self, v0, g=9.81):\n",
    "        self.v0 = v0\n",
    "        self.g = g\n",
    "\n",
    "    def value(self, t):\n",
    "        return self.v0*t - 0.5*self.g*t**2"
   ]
  },
  {
   "cell_type": "markdown",
   "metadata": {},
   "source": [
    "An example of its usage: "
   ]
  },
  {
   "cell_type": "code",
   "execution_count": null,
   "metadata": {
    "execution": {
     "iopub.execute_input": "2021-08-06T15:02:38.199109Z",
     "iopub.status.busy": "2021-08-06T15:02:38.198693Z",
     "iopub.status.idle": "2021-08-06T15:02:38.201542Z",
     "shell.execute_reply": "2021-08-06T15:02:38.201192Z"
    }
   },
   "outputs": [],
   "source": [
    "y = Y(v0=3)       # Create instance\n",
    "v = y.value(0.1)  # Compute function value\n",
    "\n",
    "print(v)"
   ]
  },
  {
   "cell_type": "markdown",
   "metadata": {},
   "source": [
    "When we write `y = Y(v0=3)` we create a new *instance* of *type `Y`*.\n",
    "\n",
    "`Y(3)` is a call to the constructor:\n",
    "\n",
    "```python\n",
    "def __init__(self, v0, g=9.81):\n",
    "    self.v0 = v0\n",
    "    self.g = g\n",
    "```"
   ]
  },
  {
   "cell_type": "markdown",
   "metadata": {},
   "source": [
    "Think of `self` as `y`, i.e. the new variable to be created. `self.v0` means that we attach a variable `v0` to self (`y`).\n",
    "\n",
    "```python\n",
    "Y.__init__(y, 3)   # is the logic behind Y(3)\n",
    "```\n",
    "\n",
    "`self` is always the first argument/parameter in a function, but **never** inserted in the call! After `y = Y(3)`, `y` has two variables `v0` and `g`, and we can take a look at these:"
   ]
  },
  {
   "cell_type": "code",
   "execution_count": null,
   "metadata": {
    "execution": {
     "iopub.execute_input": "2021-08-06T15:02:38.206126Z",
     "iopub.status.busy": "2021-08-06T15:02:38.205701Z",
     "iopub.status.idle": "2021-08-06T15:02:38.209817Z",
     "shell.execute_reply": "2021-08-06T15:02:38.208287Z"
    }
   },
   "outputs": [],
   "source": [
    "print(y.v0)\n",
    "print(y.g)"
   ]
  },
  {
   "cell_type": "markdown",
   "metadata": {},
   "source": [
    "Functions in classes are called **methods**. Variables in classes are called **attributes**. Therefore, in the above example the `value` *method* was\n",
    "\n",
    "```python\n",
    "def value(self, t):\n",
    "  return self.v0*t - 0.5*self.g*t**2\n",
    "```"
   ]
  },
  {
   "cell_type": "markdown",
   "metadata": {},
   "source": [
    "Example on a call:"
   ]
  },
  {
   "cell_type": "code",
   "execution_count": null,
   "metadata": {
    "execution": {
     "iopub.execute_input": "2021-08-06T15:02:38.213078Z",
     "iopub.status.busy": "2021-08-06T15:02:38.212344Z",
     "iopub.status.idle": "2021-08-06T15:02:38.213829Z",
     "shell.execute_reply": "2021-08-06T15:02:38.214142Z"
    }
   },
   "outputs": [],
   "source": [
    "v = y.value(t=0.1)"
   ]
  },
  {
   "cell_type": "markdown",
   "metadata": {},
   "source": [
    "`self` is left out in the call (as discussed above), but Python automatically inserts `y` as the `self` argument inside the `value` method. Inside the `value` *method* things *appear* as\n",
    "\n",
    "```python\n",
    "return y.v0*t - 0.5*y.g*t**2\n",
    "```"
   ]
  },
  {
   "cell_type": "markdown",
   "metadata": {},
   "source": [
    "The method `value` has, through `self`, access to the attributes. Attributes are like *global variables* in the class, and any method gets a `self` parameter as its first argument. The method can then access the attributes of the class through `self`."
   ]
  },
  {
   "cell_type": "markdown",
   "metadata": {},
   "source": [
    "In summary, `class Y` collects the attributes `v0` and `g` and the method `value` together as a single unit. `value(t)` is function of `t` only, but has access to the class attributes `v0` and `g`.\n",
    "\n",
    "The great feature of Python is that we can send `y.value` as an ordinary function of `t` to any other function that expects a function `f(t)`:"
   ]
  },
  {
   "cell_type": "code",
   "execution_count": null,
   "metadata": {
    "execution": {
     "iopub.execute_input": "2021-08-06T15:02:38.218414Z",
     "iopub.status.busy": "2021-08-06T15:02:38.217560Z",
     "iopub.status.idle": "2021-08-06T15:02:38.219017Z",
     "shell.execute_reply": "2021-08-06T15:02:38.219348Z"
    }
   },
   "outputs": [],
   "source": [
    "import numpy as np\n",
    "\n",
    "\n",
    "def table(f, tstop, n):\n",
    "    \"\"\"Make a table of t, f(t) values.\"\"\"\n",
    "    for t in np.linspace(0, tstop, n):\n",
    "        print(t, f(t))"
   ]
  },
  {
   "cell_type": "code",
   "execution_count": null,
   "metadata": {
    "execution": {
     "iopub.execute_input": "2021-08-06T15:02:38.227784Z",
     "iopub.status.busy": "2021-08-06T15:02:38.226153Z",
     "iopub.status.idle": "2021-08-06T15:02:38.239644Z",
     "shell.execute_reply": "2021-08-06T15:02:38.233743Z"
    }
   },
   "outputs": [],
   "source": [
    "def g(t):\n",
    "    return np.sin(t)*np.exp(-t)\n",
    "\n",
    "\n",
    "table(g, 2*np.pi, 5)  # pass in ordinary function as first argument"
   ]
  },
  {
   "cell_type": "code",
   "execution_count": null,
   "metadata": {
    "execution": {
     "iopub.execute_input": "2021-08-06T15:02:38.242629Z",
     "iopub.status.busy": "2021-08-06T15:02:38.242183Z",
     "iopub.status.idle": "2021-08-06T15:02:38.260024Z",
     "shell.execute_reply": "2021-08-06T15:02:38.257133Z"
    }
   },
   "outputs": [],
   "source": [
    "y = Y(6.5)\n",
    "table(y.value, 2*np.pi, 5)  # pass in class method as first argument"
   ]
  },
  {
   "cell_type": "markdown",
   "metadata": {},
   "source": [
    "## Exercise 4.5: Make a class for function evaluation.\n",
    "Make a class called `F` that implements the function\n",
    "\n",
    "$$f(x: a, w) = e^{−ax}\\sin(wx).$$\n",
    "\n",
    "A `value(x)` method computes values of $f$ for a given $x$, while $a$ and $w$ are class attributes as specified as arguments in the class's `__init__` method."
   ]
  },
  {
   "cell_type": "code",
   "execution_count": null,
   "metadata": {
    "execution": {
     "iopub.execute_input": "2021-08-06T15:02:38.262722Z",
     "iopub.status.busy": "2021-08-06T15:02:38.262314Z",
     "iopub.status.idle": "2021-08-06T15:02:38.265122Z",
     "shell.execute_reply": "2021-08-06T15:02:38.264764Z"
    }
   },
   "outputs": [],
   "source": [
    "# Uncomment and complete this code - keep the names the same for testing purposes.\n",
    "\n",
    "# class F:\n",
    "#     def __init__(self, a, w):\n",
    "#         ...\n",
    "\n",
    "#     def value(self, x):\n",
    "#         ..."
   ]
  },
  {
   "cell_type": "code",
   "execution_count": null,
   "metadata": {
    "execution": {
     "iopub.execute_input": "2021-08-06T15:02:38.274100Z",
     "iopub.status.busy": "2021-08-06T15:02:38.273702Z",
     "iopub.status.idle": "2021-08-06T15:02:38.286639Z",
     "shell.execute_reply": "2021-08-06T15:02:38.286964Z"
    },
    "tags": [
     "pybryt"
    ]
   },
   "outputs": [],
   "source": [
    "with pybryt.check(pybryt_reference(4, 5)):\n",
    "    f = F(0.73, 1.14185)\n",
    "    f.a, f.w, f.value(3)"
   ]
  },
  {
   "cell_type": "code",
   "execution_count": null,
   "metadata": {
    "execution": {
     "iopub.execute_input": "2021-08-06T15:02:38.291911Z",
     "iopub.status.busy": "2021-08-06T15:02:38.291486Z",
     "iopub.status.idle": "2021-08-06T15:02:38.304126Z",
     "shell.execute_reply": "2021-08-06T15:02:38.304484Z"
    },
    "tags": [
     "okpy"
    ]
   },
   "outputs": [],
   "source": [
    "ok.grade('exercise-4_5')"
   ]
  },
  {
   "cell_type": "markdown",
   "metadata": {},
   "source": [
    "## Exercise 4.6: Make a simple class\n",
    "\n",
    "Make a class called `Simple` with:\n",
    "* one attribute, `i`,\n",
    "* one method `double` that replaces the value of `i` by `2*i`, and\n",
    "* an `__init__` method that initializes the attribute `i`. \n",
    "\n",
    "Use the following code snippet to convince yourself that your class is behaving as expected.\n",
    "\n",
    "```python\n",
    "s1 = Simple(4)\n",
    "for i in range(4):\n",
    "    s1.double()\n",
    "print(s1.i)\n",
    "\n",
    "s2 = Simple('Hello')\n",
    "s2.double(); s2.double()\n",
    "print(s2.i)\n",
    "s2.i = 100\n",
    "print(s2.i)\n",
    "```"
   ]
  },
  {
   "cell_type": "code",
   "execution_count": null,
   "metadata": {
    "execution": {
     "iopub.execute_input": "2021-08-06T15:02:38.318166Z",
     "iopub.status.busy": "2021-08-06T15:02:38.317760Z",
     "iopub.status.idle": "2021-08-06T15:02:38.320784Z",
     "shell.execute_reply": "2021-08-06T15:02:38.320417Z"
    }
   },
   "outputs": [],
   "source": [
    "# Uncomment and complete this code - keep the names the same for testing purposes.\n",
    "\n",
    "# class Simple:\n",
    "#     def __init__(self, i):\n",
    "#         ...\n",
    "\n",
    "#     def double(self):\n",
    "#         ..."
   ]
  },
  {
   "cell_type": "code",
   "execution_count": null,
   "metadata": {
    "execution": {
     "iopub.execute_input": "2021-08-06T15:02:38.328473Z",
     "iopub.status.busy": "2021-08-06T15:02:38.328041Z",
     "iopub.status.idle": "2021-08-06T15:02:38.368797Z",
     "shell.execute_reply": "2021-08-06T15:02:38.368365Z"
    },
    "tags": [
     "pybryt"
    ]
   },
   "outputs": [],
   "source": [
    "with pybryt.check(pybryt_reference(4, 6)):\n",
    "    simple = Simple(200.51)\n",
    "    simple.i\n",
    "    for k in range(10):\n",
    "        simple.double()\n",
    "        simple.i"
   ]
  },
  {
   "cell_type": "code",
   "execution_count": null,
   "metadata": {
    "execution": {
     "iopub.execute_input": "2021-08-06T15:02:38.373986Z",
     "iopub.status.busy": "2021-08-06T15:02:38.373557Z",
     "iopub.status.idle": "2021-08-06T15:02:38.393693Z",
     "shell.execute_reply": "2021-08-06T15:02:38.393274Z"
    },
    "tags": [
     "okpy"
    ]
   },
   "outputs": [],
   "source": [
    "ok.grade('exercise-4_6')"
   ]
  },
  {
   "cell_type": "markdown",
   "metadata": {},
   "source": [
    "## Another class example: a bank account\n",
    "\n",
    "* **Attributes**:\n",
    "    * `name`: name of the owner\n",
    "    * `number`: account number\n",
    "    * `balance`: balance\n",
    "* **Methods**:\n",
    "    * `deposit`: adds amount to `balance`\n",
    "    * `withdraw`: subtracts amount from `balance`\n",
    "    * `dump`: pretty pring"
   ]
  },
  {
   "cell_type": "code",
   "execution_count": null,
   "metadata": {
    "execution": {
     "iopub.execute_input": "2021-08-06T15:02:38.405464Z",
     "iopub.status.busy": "2021-08-06T15:02:38.404726Z",
     "iopub.status.idle": "2021-08-06T15:02:38.406572Z",
     "shell.execute_reply": "2021-08-06T15:02:38.406213Z"
    }
   },
   "outputs": [],
   "source": [
    "class Account:\n",
    "    def __init__(self, name, account_number, initial_amount=0):\n",
    "        self.name = name\n",
    "        self.number = account_number\n",
    "        self.balance = initial_amount\n",
    "\n",
    "    def deposit(self, amount):\n",
    "        self.balance += amount  # self.balance += amount is equivalent to self.balance = self.balance + amount\n",
    "\n",
    "    def withdraw(self, amount):\n",
    "        self.balance -= amount  # self.balance -= amount is equivalent to self.balance = self.balance - amount\n",
    "\n",
    "    def dump(self):\n",
    "        print(f'name: {self.name}, account number: {self.number}, balance: {self.balance}')"
   ]
  },
  {
   "cell_type": "code",
   "execution_count": null,
   "metadata": {
    "execution": {
     "iopub.execute_input": "2021-08-06T15:02:38.410562Z",
     "iopub.status.busy": "2021-08-06T15:02:38.409632Z",
     "iopub.status.idle": "2021-08-06T15:02:38.411036Z",
     "shell.execute_reply": "2021-08-06T15:02:38.411369Z"
    }
   },
   "outputs": [],
   "source": [
    "a1 = Account('John Olsson', '19371554951')\n",
    "a2 = Account('Liz Olsson', '19371564761', 20000)\n",
    "a1.deposit(1000)\n",
    "a1.withdraw(4000)\n",
    "a2.withdraw(10500)\n",
    "a1.withdraw(3500)"
   ]
  },
  {
   "cell_type": "code",
   "execution_count": null,
   "metadata": {
    "execution": {
     "iopub.execute_input": "2021-08-06T15:02:38.415037Z",
     "iopub.status.busy": "2021-08-06T15:02:38.414616Z",
     "iopub.status.idle": "2021-08-06T15:02:38.417500Z",
     "shell.execute_reply": "2021-08-06T15:02:38.417144Z"
    }
   },
   "outputs": [],
   "source": [
    "a1.dump()"
   ]
  },
  {
   "cell_type": "code",
   "execution_count": null,
   "metadata": {
    "execution": {
     "iopub.execute_input": "2021-08-06T15:02:38.421119Z",
     "iopub.status.busy": "2021-08-06T15:02:38.420698Z",
     "iopub.status.idle": "2021-08-06T15:02:38.423699Z",
     "shell.execute_reply": "2021-08-06T15:02:38.423343Z"
    }
   },
   "outputs": [],
   "source": [
    "a2.dump()"
   ]
  },
  {
   "cell_type": "markdown",
   "metadata": {},
   "source": [
    "## Exercise 4.7: Extend a class\n",
    "\n",
    "Add an attribute called `transactions` to the `Account` class given above. The new attribute counts the number of transactions done in the `deposit` and `withdraw` methods. The total number of transactions should be printed in the `dump` method. Write a simple test program to convince yourself transaction gets the right value after some calls to `deposit` and `withdraw`. When an object of class `Account` is created, attribute `transactions` is initialised to 0."
   ]
  },
  {
   "cell_type": "code",
   "execution_count": null,
   "metadata": {
    "execution": {
     "iopub.execute_input": "2021-08-06T15:02:38.427147Z",
     "iopub.status.busy": "2021-08-06T15:02:38.426112Z",
     "iopub.status.idle": "2021-08-06T15:02:38.427628Z",
     "shell.execute_reply": "2021-08-06T15:02:38.428002Z"
    }
   },
   "outputs": [],
   "source": [
    "# Uncomment and complete this code - keep the names the same for testing purposes.\n",
    "\n",
    "# class Account:\n",
    "#     def __init__(self, name, account_number, initial_amount=0):\n",
    "#         self.name = name\n",
    "#         self.number = account_number\n",
    "#         self.balance = initial_amount\n",
    "\n",
    "#     def deposit(self, amount):\n",
    "#         self.balance += amount\n",
    "\n",
    "#     def withdraw(self, amount):\n",
    "#         self.balance -= amount\n",
    "\n",
    "#     def dump(self):\n",
    "#         print(f'name: {self.name}, account number: {self.number}, balance: {self.balance}')"
   ]
  },
  {
   "cell_type": "code",
   "execution_count": null,
   "metadata": {
    "execution": {
     "iopub.execute_input": "2021-08-06T15:02:38.437080Z",
     "iopub.status.busy": "2021-08-06T15:02:38.436664Z",
     "iopub.status.idle": "2021-08-06T15:02:38.511645Z",
     "shell.execute_reply": "2021-08-06T15:02:38.511214Z"
    },
    "tags": [
     "pybryt"
    ]
   },
   "outputs": [],
   "source": [
    "with pybryt.check(pybryt_reference(4, 7)):\n",
    "    account = Account('Marijan', '321321321', initial_amount=2351)\n",
    "    account.name, account.number, account.balance, account.transactions\n",
    "\n",
    "    for i in range(5):\n",
    "        account.deposit(1001)\n",
    "        account.balance, account.transactions\n",
    "        account.withdraw(432.3)\n",
    "        account.balance, account.transactions"
   ]
  },
  {
   "cell_type": "code",
   "execution_count": null,
   "metadata": {
    "execution": {
     "iopub.execute_input": "2021-08-06T15:02:38.516766Z",
     "iopub.status.busy": "2021-08-06T15:02:38.516337Z",
     "iopub.status.idle": "2021-08-06T15:02:38.538097Z",
     "shell.execute_reply": "2021-08-06T15:02:38.537645Z"
    },
    "tags": [
     "okpy"
    ]
   },
   "outputs": [],
   "source": [
    "ok.grade('exercise-4_7')"
   ]
  },
  {
   "cell_type": "markdown",
   "metadata": {},
   "source": [
    "## Protecting attributes\n",
    "\n",
    "It is not possible in Python to explicitly protect attributes from being overwritten by the calling function, i.e. the following is possible but not intended:"
   ]
  },
  {
   "cell_type": "code",
   "execution_count": null,
   "metadata": {
    "execution": {
     "iopub.execute_input": "2021-08-06T15:02:38.551806Z",
     "iopub.status.busy": "2021-08-06T15:02:38.551046Z",
     "iopub.status.idle": "2021-08-06T15:02:38.552899Z",
     "shell.execute_reply": "2021-08-06T15:02:38.552565Z"
    }
   },
   "outputs": [],
   "source": [
    "a1.name = 'Some other name'\n",
    "a1.balance = 100000\n",
    "a1.no = '19371564768'"
   ]
  },
  {
   "cell_type": "markdown",
   "metadata": {},
   "source": [
    "**Assumptions** on correct usage include:\n",
    "\n",
    "* The attributes should not be modified directly.\n",
    "* The `balance` attribute can be viewed.\n",
    "* Changing `balance` is done through with the methods `draw` and `deposit`.\n",
    "\n",
    "The remedy is to adopt the convention that attributes and methods not intended for use outside the class should be marked as protected by prefixing the name with an underscore (e.g. `_name`). This is just a convention to warn you to stay away from messing with the attribute directly. There is no technical way of stopping attributes and methods from being accessed directly from outside the class.\n",
    "\n",
    "We rewrite the account class using this convention:"
   ]
  },
  {
   "cell_type": "code",
   "execution_count": null,
   "metadata": {
    "execution": {
     "iopub.execute_input": "2021-08-06T15:02:38.557541Z",
     "iopub.status.busy": "2021-08-06T15:02:38.556746Z",
     "iopub.status.idle": "2021-08-06T15:02:38.558317Z",
     "shell.execute_reply": "2021-08-06T15:02:38.558660Z"
    }
   },
   "outputs": [],
   "source": [
    "class AccountP:\n",
    "    def __init__(self, name, account_number, initial_amount):\n",
    "        self._name = name\n",
    "        self._no = account_number\n",
    "        self._balance = initial_amount\n",
    "\n",
    "    def deposit(self, amount):\n",
    "        self._balance += amount\n",
    "\n",
    "    def withdraw(self, amount):\n",
    "        self._balance -= amount\n",
    "\n",
    "    def get_balance(self):    # NEW - read balance value\n",
    "        return self._balance\n",
    "\n",
    "    def dump(self):\n",
    "        s = '%s, %s, balance: %s' % (self._name, self._no, self._balance)\n",
    "        print(s)"
   ]
  },
  {
   "cell_type": "code",
   "execution_count": null,
   "metadata": {
    "execution": {
     "iopub.execute_input": "2021-08-06T15:02:38.561964Z",
     "iopub.status.busy": "2021-08-06T15:02:38.561228Z",
     "iopub.status.idle": "2021-08-06T15:02:38.563143Z",
     "shell.execute_reply": "2021-08-06T15:02:38.562713Z"
    }
   },
   "outputs": [],
   "source": [
    "a1 = AccountP('John Olsson', '19371554951', 20000)\n",
    "a1.withdraw(4000)"
   ]
  },
  {
   "cell_type": "code",
   "execution_count": null,
   "metadata": {
    "execution": {
     "iopub.execute_input": "2021-08-06T15:02:38.566844Z",
     "iopub.status.busy": "2021-08-06T15:02:38.566419Z",
     "iopub.status.idle": "2021-08-06T15:02:38.569245Z",
     "shell.execute_reply": "2021-08-06T15:02:38.568893Z"
    }
   },
   "outputs": [],
   "source": [
    "print(a1._balance)      # it works, but a convention is broken"
   ]
  },
  {
   "cell_type": "code",
   "execution_count": null,
   "metadata": {
    "execution": {
     "iopub.execute_input": "2021-08-06T15:02:38.572955Z",
     "iopub.status.busy": "2021-08-06T15:02:38.572534Z",
     "iopub.status.idle": "2021-08-06T15:02:38.575361Z",
     "shell.execute_reply": "2021-08-06T15:02:38.574999Z"
    }
   },
   "outputs": [],
   "source": [
    "print(a1.get_balance())  # correct way of viewing the balance"
   ]
  },
  {
   "cell_type": "code",
   "execution_count": null,
   "metadata": {
    "execution": {
     "iopub.execute_input": "2021-08-06T15:02:38.578539Z",
     "iopub.status.busy": "2021-08-06T15:02:38.577709Z",
     "iopub.status.idle": "2021-08-06T15:02:38.579283Z",
     "shell.execute_reply": "2021-08-06T15:02:38.579620Z"
    }
   },
   "outputs": [],
   "source": [
    "a1._no = '19371554955'  # if you did this you'd probably lose your job! Don't mess with the convention."
   ]
  },
  {
   "cell_type": "markdown",
   "metadata": {},
   "source": [
    "### Example - a phone book\n",
    "\n",
    "A phone book is a list of data about persons. Typical data includes: name, mobile phone, office phone, private phone, email. This data about a person can be  collected in a class as **attributes**. Think about what kinds of **methods** make sense for this class, e.g.:\n",
    "\n",
    "* Constructor for initializing name, plus one or more other data\n",
    "* Add new mobile number\n",
    "* Add new office number\n",
    "* Add new private number\n",
    "* Add new email\n",
    "* Write out person data"
   ]
  },
  {
   "cell_type": "code",
   "execution_count": null,
   "metadata": {
    "execution": {
     "iopub.execute_input": "2021-08-06T15:02:38.585365Z",
     "iopub.status.busy": "2021-08-06T15:02:38.584609Z",
     "iopub.status.idle": "2021-08-06T15:02:38.586199Z",
     "shell.execute_reply": "2021-08-06T15:02:38.586518Z"
    }
   },
   "outputs": [],
   "source": [
    "class Person:\n",
    "    def __init__(self, name, mobile_phone=None, office_phone=None, private_phone=None, email=None):\n",
    "        self.name = name\n",
    "        self.mobile = mobile_phone\n",
    "        self.office = office_phone\n",
    "        self.private = private_phone\n",
    "        self.email = email\n",
    "\n",
    "    def add_mobile_phone(self, number):\n",
    "        self.mobile = number\n",
    "\n",
    "    def add_office_phone(self, number):\n",
    "        self.office = number\n",
    "\n",
    "    def add_private_phone(self, number):\n",
    "        self.private = number\n",
    "\n",
    "    def add_email(self, address):\n",
    "        self.email = address\n",
    "\n",
    "    def dump(self):\n",
    "        s = self.name + '\\n'\n",
    "        if self.mobile is not None:\n",
    "            s += 'mobile phone:   %s\\n' % self.mobile\n",
    "        if self.office is not None:\n",
    "            s += 'office phone:   %s\\n' % self.office\n",
    "        if self.private is not None:\n",
    "            s += 'private phone:  %s\\n' % self.private\n",
    "        if self.email is not None:\n",
    "            s += 'email address:  %s\\n' % self.email\n",
    "        print(s)"
   ]
  },
  {
   "cell_type": "code",
   "execution_count": null,
   "metadata": {
    "execution": {
     "iopub.execute_input": "2021-08-06T15:02:38.591800Z",
     "iopub.status.busy": "2021-08-06T15:02:38.591370Z",
     "iopub.status.idle": "2021-08-06T15:02:38.595245Z",
     "shell.execute_reply": "2021-08-06T15:02:38.593827Z"
    }
   },
   "outputs": [],
   "source": [
    "p1 = Person('Gerard Gorman', email='g.gorman@imperial.ac.uk')\n",
    "p1.add_office_phone('49985')\n",
    "\n",
    "p2 = Person('ICT Service Desk', office_phone='49000')\n",
    "p2.add_email('service.desk@imperial.ac.uk')\n",
    "\n",
    "phone_book = {'Gorman': p1, 'ICT': p2}\n",
    "for p in phone_book:\n",
    "    phone_book[p].dump()"
   ]
  },
  {
   "cell_type": "markdown",
   "metadata": {},
   "source": [
    "### Example - a circle\n",
    "A circle is defined by its center point $x_0$, $y_0$ and its radius $R$. These data can be attributes in a class. Possible methods in the class are `area` and `circumference`. The constructor initializes $x_0$, $y_0$ and $R$."
   ]
  },
  {
   "cell_type": "code",
   "execution_count": null,
   "metadata": {
    "execution": {
     "iopub.execute_input": "2021-08-06T15:02:38.599215Z",
     "iopub.status.busy": "2021-08-06T15:02:38.598504Z",
     "iopub.status.idle": "2021-08-06T15:02:38.600312Z",
     "shell.execute_reply": "2021-08-06T15:02:38.599938Z"
    }
   },
   "outputs": [],
   "source": [
    "class Circle:\n",
    "    def __init__(self, R, x0, y0,):\n",
    "        self.x0, self.y0, self.R = x0, y0, R\n",
    "\n",
    "    def area(self):\n",
    "        return np.pi * self.R**2\n",
    "\n",
    "    def circumference(self):\n",
    "        return 2*np.pi*self.R"
   ]
  },
  {
   "cell_type": "code",
   "execution_count": null,
   "metadata": {
    "execution": {
     "iopub.execute_input": "2021-08-06T15:02:38.604263Z",
     "iopub.status.busy": "2021-08-06T15:02:38.603820Z",
     "iopub.status.idle": "2021-08-06T15:02:38.606632Z",
     "shell.execute_reply": "2021-08-06T15:02:38.606272Z"
    }
   },
   "outputs": [],
   "source": [
    "c = Circle(2, -1, 5)\n",
    "print('A circle with radius %g at (%g, %g) has area %g' % (c.R, c.x0, c.y0, c.area()))"
   ]
  },
  {
   "cell_type": "markdown",
   "metadata": {},
   "source": [
    "## Exercise 4.8: Make a class for straight lines\n",
    "\n",
    "Make a class called `Line` whose constructor takes two points `p0` and `p1` (2-tuples or 2-lists) as input. The line goes through these two points (see function `line` defined below for the relevant formula of the line). A `value(x)` method computes the `y` value on the line at the point `x` or returns `None` if the line is vertical (i.e. if `(x1-x0) == 0`).\n",
    "\n",
    "```python\n",
    "def line(x0, y0, x1, y1):\n",
    "    \"\"\"\n",
    "    Compute the coefficients a and b in the mathematical\n",
    "    expression for a straight line y = a*x + b that goes\n",
    "    through two points (x0, y0) and (x1, y1).\n",
    "    x0, y0: a point on the line (floats).\n",
    "    x1, y1: another point on the line (floats).\n",
    "    return: coefficients a, b (floats) for the line (y=a*x+b).\n",
    "    \"\"\"\n",
    "    try:\n",
    "        a = (y1 - y0)/(x1 - x0)\n",
    "        b = y0 - a*x0\n",
    "    except ZeroDivisionError:\n",
    "        a, b = None, None\n",
    "    \n",
    "    return a, b\n",
    "```"
   ]
  },
  {
   "cell_type": "code",
   "execution_count": null,
   "metadata": {
    "execution": {
     "iopub.execute_input": "2021-08-06T15:02:38.609648Z",
     "iopub.status.busy": "2021-08-06T15:02:38.608898Z",
     "iopub.status.idle": "2021-08-06T15:02:38.610331Z",
     "shell.execute_reply": "2021-08-06T15:02:38.610774Z"
    }
   },
   "outputs": [],
   "source": [
    "# Uncomment and complete this code - keep the names the same for testing purposes.\n",
    "\n",
    "# class Line:\n",
    "#     def __init__(self, p0, p1):\n",
    "#         ...\n",
    "\n",
    "#     def value(self, x):\n",
    "#         ..."
   ]
  },
  {
   "cell_type": "code",
   "execution_count": null,
   "metadata": {
    "execution": {
     "iopub.execute_input": "2021-08-06T15:02:38.619689Z",
     "iopub.status.busy": "2021-08-06T15:02:38.619221Z",
     "iopub.status.idle": "2021-08-06T15:02:38.635486Z",
     "shell.execute_reply": "2021-08-06T15:02:38.635128Z"
    },
    "tags": [
     "pybryt"
    ]
   },
   "outputs": [],
   "source": [
    "with pybryt.check(pybryt_reference(4, 8)):\n",
    "    line = Line(p0=(123.1, 251.6), p1=(44.3, 12.9))\n",
    "    line.p0, line.p1, line.value(3.141)"
   ]
  },
  {
   "cell_type": "code",
   "execution_count": null,
   "metadata": {
    "execution": {
     "iopub.execute_input": "2021-08-06T15:02:38.640476Z",
     "iopub.status.busy": "2021-08-06T15:02:38.639969Z",
     "iopub.status.idle": "2021-08-06T15:02:38.657074Z",
     "shell.execute_reply": "2021-08-06T15:02:38.654572Z"
    },
    "tags": [
     "okpy"
    ]
   },
   "outputs": [],
   "source": [
    "ok.grade('exercise-4_8')"
   ]
  },
  {
   "cell_type": "markdown",
   "metadata": {},
   "source": [
    "## Exercise 4.9: Make a class for quadratic functions\n",
    "\n",
    "Consider a quadratic function $f(x; a, b, c) = ax^2 + bx + c$. Make a class called `Quadratic` for representing $f$, where $a$, $b$, and $c$ are attributes, and the methods are:\n",
    "\n",
    "1. `value(self, x)` for computing a value of $f$ at a point $x$,\n",
    "2. `table(self, L, R, n)` for writing out a table of $x$ and $f$ values for $n$ values of $x$ in the interval $[L, R]$,\n",
    "3. `roots(self)` for computing the two roots."
   ]
  },
  {
   "cell_type": "code",
   "execution_count": null,
   "metadata": {
    "execution": {
     "iopub.execute_input": "2021-08-06T15:02:38.669811Z",
     "iopub.status.busy": "2021-08-06T15:02:38.668737Z",
     "iopub.status.idle": "2021-08-06T15:02:38.670304Z",
     "shell.execute_reply": "2021-08-06T15:02:38.670642Z"
    }
   },
   "outputs": [],
   "source": [
    "# Uncomment and complete this code - keep the names the same for testing purposes.\n",
    "\n",
    "# class Quadratic:\n",
    "#     def __init__(self, a, b, c):\n",
    "#         ...\n",
    "\n",
    "#     def value(self, x):\n",
    "#         ...\n",
    "\n",
    "#     def table(self, L, R, n):\n",
    "#         ...\n",
    "\n",
    "#     def roots(self):\n",
    "#         ..."
   ]
  },
  {
   "cell_type": "code",
   "execution_count": null,
   "metadata": {
    "execution": {
     "iopub.execute_input": "2021-08-06T15:02:38.680009Z",
     "iopub.status.busy": "2021-08-06T15:02:38.679596Z",
     "iopub.status.idle": "2021-08-06T15:02:38.712545Z",
     "shell.execute_reply": "2021-08-06T15:02:38.712933Z"
    },
    "tags": [
     "pybryt"
    ]
   },
   "outputs": [],
   "source": [
    "with pybryt.check(pybryt_reference(4, 9)):\n",
    "    f = Quadratic(a=10.2, b=5.6, c=-30.11)\n",
    "    f.a, f.b, f.c, f.value(500), f.roots()"
   ]
  },
  {
   "cell_type": "code",
   "execution_count": null,
   "metadata": {
    "execution": {
     "iopub.execute_input": "2021-08-06T15:02:38.718520Z",
     "iopub.status.busy": "2021-08-06T15:02:38.718013Z",
     "iopub.status.idle": "2021-08-06T15:02:38.738316Z",
     "shell.execute_reply": "2021-08-06T15:02:38.737941Z"
    },
    "tags": [
     "okpy"
    ]
   },
   "outputs": [],
   "source": [
    "ok.grade('exercise-4_9')"
   ]
  },
  {
   "cell_type": "markdown",
   "metadata": {},
   "source": [
    "## Special methods\n",
    "\n",
    "Some class methods have leading and trailing double underscores. You have already met one of these, `__init__` used to initialise an object upon creation. Other examples include `__call__(self, ...)` and `__add__(self, other)`. These *special methods* enable more elegant abstractions and interfaces. Consider for example the difference between the equivalent statements:\n",
    "\n",
    "```python\n",
    "y = Y(4)\n",
    "```\n",
    "rather than\n",
    "```python\n",
    "y = Y\n",
    "Y.__init__(Y, 4)\n",
    "```"
   ]
  },
  {
   "cell_type": "markdown",
   "metadata": {},
   "source": [
    "### Special member function, `__call__`: make the class instance behave and look as a function\n",
    "\n",
    "Let us replace the `value` method in `class Y` by a `__call__` special method:"
   ]
  },
  {
   "cell_type": "code",
   "execution_count": null,
   "metadata": {
    "execution": {
     "iopub.execute_input": "2021-08-06T15:02:38.761305Z",
     "iopub.status.busy": "2021-08-06T15:02:38.760836Z",
     "iopub.status.idle": "2021-08-06T15:02:38.764359Z",
     "shell.execute_reply": "2021-08-06T15:02:38.763769Z"
    }
   },
   "outputs": [],
   "source": [
    "class Y:\n",
    "    def __init__(self, v0, g=9.81):\n",
    "        self.v0 = v0\n",
    "        self.g = g\n",
    "\n",
    "    def __call__(self, t):\n",
    "        return self.v0*t - 0.5*self.g*t**2"
   ]
  },
  {
   "cell_type": "markdown",
   "metadata": {},
   "source": [
    "Now we can write:"
   ]
  },
  {
   "cell_type": "code",
   "execution_count": null,
   "metadata": {
    "execution": {
     "iopub.execute_input": "2021-08-06T15:02:38.767417Z",
     "iopub.status.busy": "2021-08-06T15:02:38.767016Z",
     "iopub.status.idle": "2021-08-06T15:02:38.769960Z",
     "shell.execute_reply": "2021-08-06T15:02:38.769599Z"
    }
   },
   "outputs": [],
   "source": [
    "y = Y(3)\n",
    "v = y(0.1)  # same as v = y.__call__(0.1)"
   ]
  },
  {
   "cell_type": "markdown",
   "metadata": {},
   "source": [
    "The instance $y$ behaves/looks as a function! The `value(t)` method in the first example does the same, but the special method `__call__` provides a more elegant and concise syntax for computing function values."
   ]
  },
  {
   "cell_type": "markdown",
   "metadata": {},
   "source": [
    "### Special member function, `__str__`: represent object as a string for printing\n",
    "\n",
    "In Python, we can usually print an object `a` by `print(a)`. This works for built-in types (strings, lists, floats, ...). However, if we have made a new type through a class, Python does not know how to print objects of this type. However, if the class has defined a method `__str__` , Python will use this method to convert the object to a string."
   ]
  },
  {
   "cell_type": "code",
   "execution_count": null,
   "metadata": {
    "execution": {
     "iopub.execute_input": "2021-08-06T15:02:38.773899Z",
     "iopub.status.busy": "2021-08-06T15:02:38.773492Z",
     "iopub.status.idle": "2021-08-06T15:02:38.776476Z",
     "shell.execute_reply": "2021-08-06T15:02:38.776024Z"
    }
   },
   "outputs": [],
   "source": [
    "class Y:\n",
    "    def __init__(self, v0, g=9.81):\n",
    "        self.v0 = v0\n",
    "        self.g = g\n",
    "\n",
    "    def __call__(self, t):\n",
    "        return self.v0*t - 0.5*self.g*t**2\n",
    "\n",
    "    def __str__(self):\n",
    "        return '%g*t - 0.5*%g*t**2' % (self.v0, self.g)"
   ]
  },
  {
   "cell_type": "code",
   "execution_count": null,
   "metadata": {
    "execution": {
     "iopub.execute_input": "2021-08-06T15:02:38.780197Z",
     "iopub.status.busy": "2021-08-06T15:02:38.779758Z",
     "iopub.status.idle": "2021-08-06T15:02:38.782593Z",
     "shell.execute_reply": "2021-08-06T15:02:38.782238Z"
    }
   },
   "outputs": [],
   "source": [
    "y = Y(1.5)\n",
    "print(y)"
   ]
  },
  {
   "cell_type": "markdown",
   "metadata": {},
   "source": [
    "### Special methods for overloading arithmetic operations\n",
    "\n",
    "```python\n",
    "c=a+b               # c = a.__add__(b)  \n",
    "c=a-b               # c = a.__sub__(b)  \n",
    "c = a*b             # c = a.__mul__(b)  \n",
    "c = a/b             # c = a.__div__(b)  \n",
    "c = a**e            # c = a.__pow__(e)\n",
    "```"
   ]
  },
  {
   "cell_type": "markdown",
   "metadata": {},
   "source": [
    "### Special methods for overloading conditional operations\n",
    "\n",
    "```python\n",
    "a == b               #  a.__eq__(b)  \n",
    "a != b               #  a.__ne__(b)  \n",
    "a < b                #  a.__lt__(b)  \n",
    "a <= b               #  a.__le__(b)  \n",
    "a > b                #  a.__gt__(b)  \n",
    "a >= b               #  a.__ge__(b)\n",
    "```"
   ]
  },
  {
   "cell_type": "code",
   "execution_count": null,
   "metadata": {
    "execution": {
     "iopub.execute_input": "2021-08-06T15:02:38.787727Z",
     "iopub.status.busy": "2021-08-06T15:02:38.787287Z",
     "iopub.status.idle": "2021-08-06T15:02:38.913008Z",
     "shell.execute_reply": "2021-08-06T15:02:38.881398Z"
    },
    "tags": [
     "okpy"
    ]
   },
   "outputs": [],
   "source": [
    "ok.score()"
   ]
  }
 ],
 "metadata": {
  "celltoolbar": "Tags",
  "kernelspec": {
   "display_name": "Python 3",
   "language": "python",
   "name": "python3"
  },
  "language_info": {
   "codemirror_mode": {
    "name": "ipython",
    "version": 3
   },
   "file_extension": ".py",
   "mimetype": "text/x-python",
   "name": "python",
   "nbconvert_exporter": "python",
   "pygments_lexer": "ipython3",
   "version": "3.8.11"
  }
 },
 "nbformat": 4,
 "nbformat_minor": 4
}
