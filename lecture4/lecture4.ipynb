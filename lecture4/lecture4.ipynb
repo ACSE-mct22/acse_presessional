{
 "cells": [
  {
   "cell_type": "code",
   "execution_count": null,
   "metadata": {
    "execution": {
     "iopub.execute_input": "2021-08-03T20:20:17.698701Z",
     "iopub.status.busy": "2021-08-03T20:20:17.698288Z",
     "iopub.status.idle": "2021-08-03T20:20:18.132480Z",
     "shell.execute_reply": "2021-08-03T20:20:18.131781Z"
    }
   },
   "outputs": [],
   "source": [
    "import pybryt\n",
    "from lecture import ok, pybryt_reference"
   ]
  },
  {
   "cell_type": "markdown",
   "metadata": {},
   "source": [
    "# Introduction to programming in Python\n",
    "\n",
    "# Lecture 4"
   ]
  },
  {
   "cell_type": "markdown",
   "metadata": {},
   "source": [
    "Learning objectives: You will learn how to:\n",
    "\n",
    "* Parse strings to extract specific data of interest.\n",
    "* Use dictionaries to index data using any type of key.\n",
    "* Learn how to create your own **objects** in Python and develop **member functions** for these new data types."
   ]
  },
  {
   "cell_type": "markdown",
   "metadata": {},
   "source": [
    "## Python dictionaries\n",
    "Suppose we need to store the temperatures in Oslo, London, and Paris. The Python list solution might look like:"
   ]
  },
  {
   "cell_type": "code",
   "execution_count": null,
   "metadata": {
    "execution": {
     "iopub.execute_input": "2021-08-03T20:20:18.135692Z",
     "iopub.status.busy": "2021-08-03T20:20:18.135276Z",
     "iopub.status.idle": "2021-08-03T20:20:18.138146Z",
     "shell.execute_reply": "2021-08-03T20:20:18.137790Z"
    }
   },
   "outputs": [],
   "source": [
    "temps = [13, 15.4, 17.5]\n",
    "# temps[0]: Oslo\n",
    "# temps[1]: London\n",
    "# temps[2]: Paris"
   ]
  },
  {
   "cell_type": "markdown",
   "metadata": {},
   "source": [
    "In this case, we need to remember the mapping between the index and the city name. It would be easier to specify the name of the city to get the temperature. Containers such as lists and arrays use a continuous series of integers to index elements. However, for many applications, such an integer index is not useful.\n",
    "\n",
    "**Dictionaries** are containers where any Python object can be used as an index. Let us rewrite the previous example using a Python dictionary:"
   ]
  },
  {
   "cell_type": "code",
   "execution_count": null,
   "metadata": {
    "execution": {
     "iopub.execute_input": "2021-08-03T20:20:18.141294Z",
     "iopub.status.busy": "2021-08-03T20:20:18.140886Z",
     "iopub.status.idle": "2021-08-03T20:20:18.146513Z",
     "shell.execute_reply": "2021-08-03T20:20:18.146171Z"
    }
   },
   "outputs": [],
   "source": [
    "temps = {\"Oslo\": 13, \"London\": 15.4, \"Paris\": 17.5}\n",
    "print(\"The temperature in London is\", temps[\"London\"])"
   ]
  },
  {
   "cell_type": "markdown",
   "metadata": {},
   "source": [
    "Add a new item to a dictionary:"
   ]
  },
  {
   "cell_type": "code",
   "execution_count": null,
   "metadata": {
    "execution": {
     "iopub.execute_input": "2021-08-03T20:20:18.149380Z",
     "iopub.status.busy": "2021-08-03T20:20:18.148982Z",
     "iopub.status.idle": "2021-08-03T20:20:18.152394Z",
     "shell.execute_reply": "2021-08-03T20:20:18.152726Z"
    }
   },
   "outputs": [],
   "source": [
    "temps[\"Madrid\"] = 26.0\n",
    "print(temps)"
   ]
  },
  {
   "cell_type": "markdown",
   "metadata": {},
   "source": [
    "Loop (iterate) over a dictionary:"
   ]
  },
  {
   "cell_type": "code",
   "execution_count": null,
   "metadata": {
    "execution": {
     "iopub.execute_input": "2021-08-03T20:20:18.157612Z",
     "iopub.status.busy": "2021-08-03T20:20:18.157193Z",
     "iopub.status.idle": "2021-08-03T20:20:18.163165Z",
     "shell.execute_reply": "2021-08-03T20:20:18.162812Z"
    }
   },
   "outputs": [],
   "source": [
    "for city in temps:\n",
    "    print(\"The temperature in %s is %g\" % (city, temps[city]))"
   ]
  },
  {
   "cell_type": "markdown",
   "metadata": {},
   "source": [
    "The index in a dictionary is called the **key**. A dictionary is said to hold key–value pairs. So, in general:\n",
    "\n",
    "```python\n",
    "for key in dictionary:\n",
    "    value = dictionary[key]\n",
    "    print(value)\n",
    "```"
   ]
  },
  {
   "cell_type": "markdown",
   "metadata": {},
   "source": [
    "Does the dictionary have a particular key (i.e. a particular data entry)?"
   ]
  },
  {
   "cell_type": "code",
   "execution_count": null,
   "metadata": {
    "execution": {
     "iopub.execute_input": "2021-08-03T20:20:18.166098Z",
     "iopub.status.busy": "2021-08-03T20:20:18.165694Z",
     "iopub.status.idle": "2021-08-03T20:20:18.170072Z",
     "shell.execute_reply": "2021-08-03T20:20:18.169714Z"
    }
   },
   "outputs": [],
   "source": [
    "if \"Berlin\" in temps:\n",
    "    print(\"We have Berlin and its temperature is \", temps[\"Berlin\"])\n",
    "else:\n",
    "    print(\"I don't know Berlin' temperature.\")"
   ]
  },
  {
   "cell_type": "code",
   "execution_count": null,
   "metadata": {
    "execution": {
     "iopub.execute_input": "2021-08-03T20:20:18.172880Z",
     "iopub.status.busy": "2021-08-03T20:20:18.172479Z",
     "iopub.status.idle": "2021-08-03T20:20:18.175890Z",
     "shell.execute_reply": "2021-08-03T20:20:18.176230Z"
    }
   },
   "outputs": [],
   "source": [
    "print(\"Oslo\" in temps)  # i.e. standard boolean expression"
   ]
  },
  {
   "cell_type": "markdown",
   "metadata": {},
   "source": [
    "The keys and values can be reached as lists:"
   ]
  },
  {
   "cell_type": "code",
   "execution_count": null,
   "metadata": {
    "execution": {
     "iopub.execute_input": "2021-08-03T20:20:18.181238Z",
     "iopub.status.busy": "2021-08-03T20:20:18.180812Z",
     "iopub.status.idle": "2021-08-03T20:20:18.187746Z",
     "shell.execute_reply": "2021-08-03T20:20:18.188100Z"
    }
   },
   "outputs": [],
   "source": [
    "print(\"Keys = \", temps.keys())\n",
    "print(\"Values = \", temps.values())"
   ]
  },
  {
   "cell_type": "markdown",
   "metadata": {},
   "source": [
    "Note that the sequence of keys is **arbitrary**! Never rely on it, if you need a specific order of the keys then you should explicitly sort:"
   ]
  },
  {
   "cell_type": "code",
   "execution_count": null,
   "metadata": {
    "execution": {
     "iopub.execute_input": "2021-08-03T20:20:18.195504Z",
     "iopub.status.busy": "2021-08-03T20:20:18.195060Z",
     "iopub.status.idle": "2021-08-03T20:20:18.204329Z",
     "shell.execute_reply": "2021-08-03T20:20:18.199992Z"
    }
   },
   "outputs": [],
   "source": [
    "for key in sorted(temps):\n",
    "    value = temps[key]\n",
    "    print(key, value)"
   ]
  },
  {
   "cell_type": "markdown",
   "metadata": {},
   "source": [
    "Remove Oslo key-value pair:"
   ]
  },
  {
   "cell_type": "code",
   "execution_count": null,
   "metadata": {
    "execution": {
     "iopub.execute_input": "2021-08-03T20:20:18.207025Z",
     "iopub.status.busy": "2021-08-03T20:20:18.206608Z",
     "iopub.status.idle": "2021-08-03T20:20:18.212924Z",
     "shell.execute_reply": "2021-08-03T20:20:18.213240Z"
    }
   },
   "outputs": [],
   "source": [
    "del temps[\"Oslo\"]  # remove Oslo key w/value\n",
    "print(temps)\n",
    "print(len(temps))"
   ]
  },
  {
   "cell_type": "markdown",
   "metadata": {},
   "source": [
    "Similarly to what we saw for arrays, two variables can refer to the same dictionary:"
   ]
  },
  {
   "cell_type": "code",
   "execution_count": null,
   "metadata": {
    "execution": {
     "iopub.execute_input": "2021-08-03T20:20:18.216053Z",
     "iopub.status.busy": "2021-08-03T20:20:18.215625Z",
     "iopub.status.idle": "2021-08-03T20:20:18.218771Z",
     "shell.execute_reply": "2021-08-03T20:20:18.218416Z"
    }
   },
   "outputs": [],
   "source": [
    "t1 = temps\n",
    "t1[\"Stockholm\"] = 10.0\n",
    "print(temps)"
   ]
  },
  {
   "cell_type": "markdown",
   "metadata": {},
   "source": [
    "So, we can see that while we modified `t1`, the `temps` dictionary was also changed."
   ]
  },
  {
   "cell_type": "markdown",
   "metadata": {},
   "source": [
    "Let us look at a simple example of reading the same data from a file and putting it into a dictionary. We will be reading the file [data/deg2.dat](./data/deg2.dat)."
   ]
  },
  {
   "cell_type": "code",
   "execution_count": null,
   "metadata": {
    "execution": {
     "iopub.execute_input": "2021-08-03T20:20:18.222331Z",
     "iopub.status.busy": "2021-08-03T20:20:18.221922Z",
     "iopub.status.idle": "2021-08-03T20:20:18.227017Z",
     "shell.execute_reply": "2021-08-03T20:20:18.226683Z"
    }
   },
   "outputs": [],
   "source": [
    "infile = open(\"data/deg2.dat\", \"r\")\n",
    "# Start with an empty dictionary\n",
    "temps = {}\n",
    "for line in infile:\n",
    "    # If you examine the file you will see a ':' after the city name,\n",
    "    # so let's use this as the delimiter for splitting the line.\n",
    "    city, temp = line.split(\":\")\n",
    "    temps[city] = float(temp)\n",
    "infile.close()\n",
    "\n",
    "print(temps)"
   ]
  },
  {
   "cell_type": "markdown",
   "metadata": {},
   "source": [
    "## Exercise 4.1: Make a dictionary from a table\n",
    "\n",
    "The file [data/constants.txt](data/constants.txt) contains a table of the values and the dimensions of some fundamental constants from physics. We want to load this table into a dictionary `constants`, where the keys are the names of the constants. For example, `constants['gravitational constant']` holds the value of the gravitational constant (6.67259 $\\times$ 10$^{-11}$) in Newton's law of gravitation. Make a function `read_constants(file_path)` that reads and interprets the text in the file passed as an argument, and after that returns the dictionary."
   ]
  },
  {
   "cell_type": "code",
   "execution_count": null,
   "metadata": {
    "execution": {
     "iopub.execute_input": "2021-08-03T20:20:18.229892Z",
     "iopub.status.busy": "2021-08-03T20:20:18.229183Z",
     "iopub.status.idle": "2021-08-03T20:20:18.230974Z",
     "shell.execute_reply": "2021-08-03T20:20:18.230624Z"
    }
   },
   "outputs": [],
   "source": [
    "# Uncomment and modify the following code. Do not change variable names for testing purposes.\n",
    "\n",
    "# def read_constants(file_path):\n",
    "#     ..."
   ]
  },
  {
   "cell_type": "code",
   "execution_count": null,
   "metadata": {
    "execution": {
     "iopub.execute_input": "2021-08-03T20:20:18.239119Z",
     "iopub.status.busy": "2021-08-03T20:20:18.238657Z",
     "iopub.status.idle": "2021-08-03T20:20:18.259803Z",
     "shell.execute_reply": "2021-08-03T20:20:18.259424Z"
    },
    "tags": [
     "pybryt"
    ]
   },
   "outputs": [],
   "source": [
    "with pybryt.check(pybryt_reference(4, 1)):\n",
    "    read_constants('./data/constants.txt')"
   ]
  },
  {
   "cell_type": "code",
   "execution_count": null,
   "metadata": {
    "execution": {
     "iopub.execute_input": "2021-08-03T20:20:18.264531Z",
     "iopub.status.busy": "2021-08-03T20:20:18.264106Z",
     "iopub.status.idle": "2021-08-03T20:20:18.279563Z",
     "shell.execute_reply": "2021-08-03T20:20:18.279916Z"
    },
    "tags": [
     "okpy"
    ]
   },
   "outputs": [],
   "source": [
    "ok.grade('exercise-4_1')"
   ]
  },
  {
   "cell_type": "markdown",
   "metadata": {},
   "source": [
    "## Exercise 4.2: Reverse a dictionary\n",
    "\n",
    "Consider the following dictionary translating some English words to German:\n",
    "\n",
    "```python\n",
    "my_dict = {'dog': 'Hund', 'cat': 'Katze', 'house': 'Haus', 'bicycle': 'Fahrrad'}\n",
    "```\n",
    "\n",
    "Write a Python function `reverse_dict(dictionary)` that takes any dictionary as input and reverses it. For instance, if `my_dict` is passed, a German-English dictionary with key-value pairs (items) is returned."
   ]
  },
  {
   "cell_type": "code",
   "execution_count": null,
   "metadata": {
    "execution": {
     "iopub.execute_input": "2021-08-03T20:20:18.288477Z",
     "iopub.status.busy": "2021-08-03T20:20:18.287735Z",
     "iopub.status.idle": "2021-08-03T20:20:18.289310Z",
     "shell.execute_reply": "2021-08-03T20:20:18.289622Z"
    }
   },
   "outputs": [],
   "source": [
    "# Uncomment and modify the following code. Do not change variable names for testing purposes.\n",
    "\n",
    "# def reverse_dict(dictionary):\n",
    "#     ..."
   ]
  },
  {
   "cell_type": "code",
   "execution_count": null,
   "metadata": {
    "execution": {
     "iopub.execute_input": "2021-08-03T20:20:18.297157Z",
     "iopub.status.busy": "2021-08-03T20:20:18.296684Z",
     "iopub.status.idle": "2021-08-03T20:20:18.306514Z",
     "shell.execute_reply": "2021-08-03T20:20:18.306131Z"
    },
    "tags": [
     "pybryt"
    ]
   },
   "outputs": [],
   "source": [
    "with pybryt.check(pybryt_reference(4, 2)):\n",
    "    reverse_dict({'a': 'b', 'c': 'd', 'e': 'f', 'g': 'h'})"
   ]
  },
  {
   "cell_type": "code",
   "execution_count": null,
   "metadata": {
    "execution": {
     "iopub.execute_input": "2021-08-03T20:20:18.309612Z",
     "iopub.status.busy": "2021-08-03T20:20:18.309201Z",
     "iopub.status.idle": "2021-08-03T20:20:18.328256Z",
     "shell.execute_reply": "2021-08-03T20:20:18.328570Z"
    },
    "tags": [
     "okpy"
    ]
   },
   "outputs": [],
   "source": [
    "ok.grade('exercise-4_2')"
   ]
  },
  {
   "cell_type": "markdown",
   "metadata": {},
   "source": [
    "## Exercise 4.3: Compute the area of a triangle\n",
    "\n",
    "An arbitrary triangle can be described by the coordinates of its three vertices: $(x_1, y_1), (x_2, y_2), (x_3, y_3)$, numbered in a counterclockwise direction. The area of the triangle is given by the formula:\n",
    "\n",
    "$$A = \\frac{1}{2}|x_2y_3 - x_3y_2 - x_1y_3 + x_3y_1 + x_1y_2 - x_2y_1|.$$\n",
    "\n",
    "Write a function `triangle_area(vertices)` that returns the area of a triangle whose vertices are specified by the argument `vertices`, which is a dictionary and not a list. The keys in the dictionary correspond to the vertex number (1, 2, or 3) while the values are 2-tuples with the $x$ and $y$ coordinates of the vertex - $(x, y)$. For example, for a triangle with vertices $(0, 0)$, $(1, 0)$, and $(0, 2)$ the `vertices` argument is: `{1: (0, 0), 2: (1, 0), 3: (0, 2)}`.\n",
    "\n",
    "**Question**: Can the function `triangle_area(vertices)` accept both a nested list and a dictionary as an argument?"
   ]
  },
  {
   "cell_type": "code",
   "execution_count": null,
   "metadata": {
    "execution": {
     "iopub.execute_input": "2021-08-03T20:20:18.336846Z",
     "iopub.status.busy": "2021-08-03T20:20:18.336123Z",
     "iopub.status.idle": "2021-08-03T20:20:18.337628Z",
     "shell.execute_reply": "2021-08-03T20:20:18.337941Z"
    }
   },
   "outputs": [],
   "source": [
    "# Uncomment and modify the following code. Do not change variable names for testing purposes.\n",
    "\n",
    "# def triangle_area(vertices):\n",
    "#     ..."
   ]
  },
  {
   "cell_type": "code",
   "execution_count": null,
   "metadata": {
    "execution": {
     "iopub.execute_input": "2021-08-03T20:20:18.345754Z",
     "iopub.status.busy": "2021-08-03T20:20:18.345350Z",
     "iopub.status.idle": "2021-08-03T20:20:18.351990Z",
     "shell.execute_reply": "2021-08-03T20:20:18.351610Z"
    },
    "tags": [
     "pybryt"
    ]
   },
   "outputs": [],
   "source": [
    "with pybryt.check(pybryt_reference(4, 3)):\n",
    "    triangle_area({1: (100, 20), 2: (101, 130), 3: (-50, 22)})"
   ]
  },
  {
   "cell_type": "code",
   "execution_count": null,
   "metadata": {
    "execution": {
     "iopub.execute_input": "2021-08-03T20:20:18.356818Z",
     "iopub.status.busy": "2021-08-03T20:20:18.356389Z",
     "iopub.status.idle": "2021-08-03T20:20:18.372465Z",
     "shell.execute_reply": "2021-08-03T20:20:18.368537Z"
    },
    "tags": [
     "okpy"
    ]
   },
   "outputs": [],
   "source": [
    "ok.grade('exercise-4_3')"
   ]
  },
  {
   "cell_type": "markdown",
   "metadata": {},
   "source": [
    "## String manipulation\n",
    "\n",
    "Text in Python is represented as **strings**. Programming with strings is therefore the key to interpret text in files and construct new text (i.e. **parsing**). First we show some common string operations and then we apply them to real examples. Our sample string used for illustration is:"
   ]
  },
  {
   "cell_type": "code",
   "execution_count": null,
   "metadata": {
    "execution": {
     "iopub.execute_input": "2021-08-03T20:20:18.380776Z",
     "iopub.status.busy": "2021-08-03T20:20:18.380063Z",
     "iopub.status.idle": "2021-08-03T20:20:18.381913Z",
     "shell.execute_reply": "2021-08-03T20:20:18.381492Z"
    }
   },
   "outputs": [],
   "source": [
    "s = \"Berlin: 18.4 C at 4 pm\""
   ]
  },
  {
   "cell_type": "markdown",
   "metadata": {},
   "source": [
    "Strings behave much like lists/tuples - they are simply a sequence of characters:"
   ]
  },
  {
   "cell_type": "code",
   "execution_count": null,
   "metadata": {
    "execution": {
     "iopub.execute_input": "2021-08-03T20:20:18.388352Z",
     "iopub.status.busy": "2021-08-03T20:20:18.387584Z",
     "iopub.status.idle": "2021-08-03T20:20:18.393681Z",
     "shell.execute_reply": "2021-08-03T20:20:18.390318Z"
    }
   },
   "outputs": [],
   "source": [
    "print(\"s[0] =\", s[0])\n",
    "print(\"s[1] =\", s[1])"
   ]
  },
  {
   "cell_type": "markdown",
   "metadata": {},
   "source": [
    "Substrings are just slices of lists and arrays:"
   ]
  },
  {
   "cell_type": "code",
   "execution_count": null,
   "metadata": {
    "execution": {
     "iopub.execute_input": "2021-08-03T20:20:18.397330Z",
     "iopub.status.busy": "2021-08-03T20:20:18.396916Z",
     "iopub.status.idle": "2021-08-03T20:20:18.399652Z",
     "shell.execute_reply": "2021-08-03T20:20:18.399302Z"
    }
   },
   "outputs": [],
   "source": [
    "# from index 8 to the end of the string\n",
    "print(s[8:])"
   ]
  },
  {
   "cell_type": "code",
   "execution_count": null,
   "metadata": {
    "execution": {
     "iopub.execute_input": "2021-08-03T20:20:18.403161Z",
     "iopub.status.busy": "2021-08-03T20:20:18.402749Z",
     "iopub.status.idle": "2021-08-03T20:20:18.405477Z",
     "shell.execute_reply": "2021-08-03T20:20:18.405126Z"
    }
   },
   "outputs": [],
   "source": [
    "# indices 8, 9, 10 and 11 (not 12!)\n",
    "print(s[8:12])"
   ]
  },
  {
   "cell_type": "code",
   "execution_count": null,
   "metadata": {
    "execution": {
     "iopub.execute_input": "2021-08-03T20:20:18.409061Z",
     "iopub.status.busy": "2021-08-03T20:20:18.408650Z",
     "iopub.status.idle": "2021-08-03T20:20:18.411416Z",
     "shell.execute_reply": "2021-08-03T20:20:18.411067Z"
    }
   },
   "outputs": [],
   "source": [
    "# from index 8 to 8 from the end of the string\n",
    "print(s[8:-8])"
   ]
  },
  {
   "cell_type": "markdown",
   "metadata": {},
   "source": [
    "You can also find the start index of a substring:"
   ]
  },
  {
   "cell_type": "code",
   "execution_count": null,
   "metadata": {
    "execution": {
     "iopub.execute_input": "2021-08-03T20:20:18.414959Z",
     "iopub.status.busy": "2021-08-03T20:20:18.414545Z",
     "iopub.status.idle": "2021-08-03T20:20:18.417309Z",
     "shell.execute_reply": "2021-08-03T20:20:18.416955Z"
    }
   },
   "outputs": [],
   "source": [
    "# where does \"Berlin\" start?\n",
    "print(s.find(\"Berlin\"))"
   ]
  },
  {
   "cell_type": "code",
   "execution_count": null,
   "metadata": {
    "execution": {
     "iopub.execute_input": "2021-08-03T20:20:18.420938Z",
     "iopub.status.busy": "2021-08-03T20:20:18.420527Z",
     "iopub.status.idle": "2021-08-03T20:20:18.423320Z",
     "shell.execute_reply": "2021-08-03T20:20:18.422966Z"
    }
   },
   "outputs": [],
   "source": [
    "print(s.find(\"pm\"))"
   ]
  },
  {
   "cell_type": "code",
   "execution_count": null,
   "metadata": {
    "execution": {
     "iopub.execute_input": "2021-08-03T20:20:18.426921Z",
     "iopub.status.busy": "2021-08-03T20:20:18.426509Z",
     "iopub.status.idle": "2021-08-03T20:20:18.429241Z",
     "shell.execute_reply": "2021-08-03T20:20:18.428894Z"
    }
   },
   "outputs": [],
   "source": [
    "print(s.find(\"Oslo\"))"
   ]
  },
  {
   "cell_type": "markdown",
   "metadata": {},
   "source": [
    "In this last example, `Oslo` does not exist in the list so the return value is -1."
   ]
  },
  {
   "cell_type": "markdown",
   "metadata": {},
   "source": [
    "We can also check if a substring is contained in a string:"
   ]
  },
  {
   "cell_type": "code",
   "execution_count": null,
   "metadata": {
    "execution": {
     "iopub.execute_input": "2021-08-03T20:20:18.432872Z",
     "iopub.status.busy": "2021-08-03T20:20:18.432460Z",
     "iopub.status.idle": "2021-08-03T20:20:18.435203Z",
     "shell.execute_reply": "2021-08-03T20:20:18.434851Z"
    }
   },
   "outputs": [],
   "source": [
    "print(\"Berlin\" in s)"
   ]
  },
  {
   "cell_type": "code",
   "execution_count": null,
   "metadata": {
    "execution": {
     "iopub.execute_input": "2021-08-03T20:20:18.438807Z",
     "iopub.status.busy": "2021-08-03T20:20:18.438396Z",
     "iopub.status.idle": "2021-08-03T20:20:18.441153Z",
     "shell.execute_reply": "2021-08-03T20:20:18.440802Z"
    }
   },
   "outputs": [],
   "source": [
    "print(\"Oslo\" in s)"
   ]
  },
  {
   "cell_type": "code",
   "execution_count": null,
   "metadata": {
    "execution": {
     "iopub.execute_input": "2021-08-03T20:20:18.444821Z",
     "iopub.status.busy": "2021-08-03T20:20:18.444405Z",
     "iopub.status.idle": "2021-08-03T20:20:18.447173Z",
     "shell.execute_reply": "2021-08-03T20:20:18.446822Z"
    }
   },
   "outputs": [],
   "source": [
    "if \"C\" in s:\n",
    "    print(\"C found\")\n",
    "else:\n",
    "    print(\"C not found\")"
   ]
  },
  {
   "cell_type": "markdown",
   "metadata": {},
   "source": [
    "### Search and replace\n",
    "Strings also support substituting a substring by another string. In general this looks like `s.replace(s1, s2)`, which replaces string `s1` in `s` by string `s2`, e.g.:"
   ]
  },
  {
   "cell_type": "code",
   "execution_count": null,
   "metadata": {
    "execution": {
     "iopub.execute_input": "2021-08-03T20:20:18.450809Z",
     "iopub.status.busy": "2021-08-03T20:20:18.450395Z",
     "iopub.status.idle": "2021-08-03T20:20:18.453200Z",
     "shell.execute_reply": "2021-08-03T20:20:18.452844Z"
    }
   },
   "outputs": [],
   "source": [
    "s = s.replace(\" \", \"_\")\n",
    "print(s)"
   ]
  },
  {
   "cell_type": "code",
   "execution_count": null,
   "metadata": {
    "execution": {
     "iopub.execute_input": "2021-08-03T20:20:18.456817Z",
     "iopub.status.busy": "2021-08-03T20:20:18.456404Z",
     "iopub.status.idle": "2021-08-03T20:20:18.459132Z",
     "shell.execute_reply": "2021-08-03T20:20:18.458781Z"
    }
   },
   "outputs": [],
   "source": [
    "s = s.replace(\"Berlin\", \"Bonn\")\n",
    "print(s)"
   ]
  },
  {
   "cell_type": "code",
   "execution_count": null,
   "metadata": {
    "execution": {
     "iopub.execute_input": "2021-08-03T20:20:18.463071Z",
     "iopub.status.busy": "2021-08-03T20:20:18.462654Z",
     "iopub.status.idle": "2021-08-03T20:20:18.465436Z",
     "shell.execute_reply": "2021-08-03T20:20:18.465083Z"
    }
   },
   "outputs": [],
   "source": [
    "# Replace the text before the first colon by 'London'\n",
    "s = s.replace(s[:s.find(\":\")], \"London\")\n",
    "print(s)"
   ]
  },
  {
   "cell_type": "markdown",
   "metadata": {},
   "source": [
    "Notice that in all these examples, we assign the new result back to `s`. One of the reasons we are doing this is that strings are actually constant (i.e immutable) and therefore cannot be modified *inplace*. We **cannot** write for example:\n",
    "\n",
    "```python\n",
    "s[18] = '5'\n",
    "TypeError: \"str\" object does not support item assignment\n",
    "```"
   ]
  },
  {
   "cell_type": "markdown",
   "metadata": {},
   "source": [
    "We also encountered examples above where we used the `split` function to break up a line into separate substrings for a given separator (where a space is the default delimiter). Sometimes we want to split a string into lines - i.e. the delimiter is the [carriage return](http://en.wikipedia.org/wiki/Carriage_return). This can be surprisingly tricky because different computing platforms (e.g. Windows, Linux, MacOS) use different characters to represent a carriage return. For example, Unix uses `\\n`. Luckly Python provides a *cross platform* way of doing this so regardless of what platform created the data file, or what platform you are running Python on, it will do the *right thing*: "
   ]
  },
  {
   "cell_type": "code",
   "execution_count": null,
   "metadata": {
    "execution": {
     "iopub.execute_input": "2021-08-03T20:20:18.469217Z",
     "iopub.status.busy": "2021-08-03T20:20:18.468787Z",
     "iopub.status.idle": "2021-08-03T20:20:18.471638Z",
     "shell.execute_reply": "2021-08-03T20:20:18.471284Z"
    }
   },
   "outputs": [],
   "source": [
    "t = \"1st line\\n2nd line\\n3rd line\"\n",
    "\n",
    "print(f\"original t =\\n{t}\")"
   ]
  },
  {
   "cell_type": "code",
   "execution_count": null,
   "metadata": {
    "execution": {
     "iopub.execute_input": "2021-08-03T20:20:18.475162Z",
     "iopub.status.busy": "2021-08-03T20:20:18.474745Z",
     "iopub.status.idle": "2021-08-03T20:20:18.477485Z",
     "shell.execute_reply": "2021-08-03T20:20:18.477138Z"
    }
   },
   "outputs": [],
   "source": [
    "# This works here but will give you problems if you are switching\n",
    "# files between Windows and either Mac or Linux.\n",
    "print(t.split(\"\\n\"))"
   ]
  },
  {
   "cell_type": "code",
   "execution_count": null,
   "metadata": {
    "execution": {
     "iopub.execute_input": "2021-08-03T20:20:18.481122Z",
     "iopub.status.busy": "2021-08-03T20:20:18.480707Z",
     "iopub.status.idle": "2021-08-03T20:20:18.483416Z",
     "shell.execute_reply": "2021-08-03T20:20:18.483063Z"
    }
   },
   "outputs": [],
   "source": [
    "# Cross platform (i.e. better) solution\n",
    "print(t.splitlines())"
   ]
  },
  {
   "cell_type": "markdown",
   "metadata": {},
   "source": [
    "### Stripping off leading/trailing whitespace\n",
    "When processing text from a file and composing new strings, we frequently need to trim leading and trailing whitespaces:"
   ]
  },
  {
   "cell_type": "code",
   "execution_count": null,
   "metadata": {
    "execution": {
     "iopub.execute_input": "2021-08-03T20:20:18.487056Z",
     "iopub.status.busy": "2021-08-03T20:20:18.486638Z",
     "iopub.status.idle": "2021-08-03T20:20:18.489371Z",
     "shell.execute_reply": "2021-08-03T20:20:18.489024Z"
    }
   },
   "outputs": [],
   "source": [
    "s = \"        text with leading and trailing spaces          \\n\"\n",
    "print(\"-->%s<--\" % s.strip())"
   ]
  },
  {
   "cell_type": "code",
   "execution_count": null,
   "metadata": {
    "execution": {
     "iopub.execute_input": "2021-08-03T20:20:18.492953Z",
     "iopub.status.busy": "2021-08-03T20:20:18.492541Z",
     "iopub.status.idle": "2021-08-03T20:20:18.495299Z",
     "shell.execute_reply": "2021-08-03T20:20:18.494942Z"
    }
   },
   "outputs": [],
   "source": [
    "# left strip\n",
    "print(\"-->%s<--\" % s.lstrip())"
   ]
  },
  {
   "cell_type": "code",
   "execution_count": null,
   "metadata": {
    "execution": {
     "iopub.execute_input": "2021-08-03T20:20:18.498825Z",
     "iopub.status.busy": "2021-08-03T20:20:18.498415Z",
     "iopub.status.idle": "2021-08-03T20:20:18.501145Z",
     "shell.execute_reply": "2021-08-03T20:20:18.500794Z"
    }
   },
   "outputs": [],
   "source": [
    "# right strip\n",
    "print(\"-->%s<--\" % s.rstrip())"
   ]
  },
  {
   "cell_type": "markdown",
   "metadata": {},
   "source": [
    "Please note that carriage return is considered as a whitespace character as well."
   ]
  },
  {
   "cell_type": "markdown",
   "metadata": {},
   "source": [
    "### `join()` - the opposite of `split()`\n",
    "We can join a list of substrings to form a new string. Similar to `split()`, we put strings together with a delimiter inbetween:"
   ]
  },
  {
   "cell_type": "code",
   "execution_count": null,
   "metadata": {
    "execution": {
     "iopub.execute_input": "2021-08-03T20:20:18.504890Z",
     "iopub.status.busy": "2021-08-03T20:20:18.504477Z",
     "iopub.status.idle": "2021-08-03T20:20:18.507201Z",
     "shell.execute_reply": "2021-08-03T20:20:18.506849Z"
    }
   },
   "outputs": [],
   "source": [
    "strings = [\"Newton\", \"Secant\", \"Bisection\"]\n",
    "print(\", \".join(strings))"
   ]
  },
  {
   "cell_type": "markdown",
   "metadata": {},
   "source": [
    "You can prove to yourself that these are inverse operations:\n",
    "```python\n",
    "t = delimiter.join(stringlist)\n",
    "stringlist = t.split(delimiter)\n",
    "```"
   ]
  },
  {
   "cell_type": "markdown",
   "metadata": {},
   "source": [
    "As an example, let's split off the first two words on a line:"
   ]
  },
  {
   "cell_type": "code",
   "execution_count": null,
   "metadata": {
    "execution": {
     "iopub.execute_input": "2021-08-03T20:20:18.513835Z",
     "iopub.status.busy": "2021-08-03T20:20:18.513275Z",
     "iopub.status.idle": "2021-08-03T20:20:18.519706Z",
     "shell.execute_reply": "2021-08-03T20:20:18.516389Z"
    }
   },
   "outputs": [],
   "source": [
    "line = \"This is a line of words separated by space\"\n",
    "words = line.split()\n",
    "print(\"words = \", words)\n",
    "line2 = \" \".join(words[2:])\n",
    "print(\"line2 = \", line2)"
   ]
  },
  {
   "cell_type": "markdown",
   "metadata": {},
   "source": [
    "## Exercise 4.4: Improve a program\n",
    "\n",
    "The file [data/densities.dat](./data/densities.dat) contains a table of densities of various substances measured in $\\text{gcm}^{-3}$. The following program reads the data in this file and produces a dictionary whose keys are the names of substances, and the values are the corresponding densities."
   ]
  },
  {
   "cell_type": "code",
   "execution_count": null,
   "metadata": {
    "execution": {
     "iopub.execute_input": "2021-08-03T20:20:18.524957Z",
     "iopub.status.busy": "2021-08-03T20:20:18.524534Z",
     "iopub.status.idle": "2021-08-03T20:20:18.527262Z",
     "shell.execute_reply": "2021-08-03T20:20:18.526911Z"
    }
   },
   "outputs": [],
   "source": [
    "def read_densities(filename):\n",
    "    infile = open(filename, 'r')\n",
    "    densities = {}\n",
    "    for line in infile:\n",
    "        words = line.split()\n",
    "        density = float(words[-1])\n",
    "\n",
    "        if len(words[:-1]) == 2:\n",
    "            substance = words[0] + ' ' + words[1]\n",
    "        else:\n",
    "            substance = words[0]\n",
    "\n",
    "        densities[substance] = density\n",
    "\n",
    "    infile.close()\n",
    "    return densities\n",
    "\n",
    "\n",
    "densities = read_densities('data/densities.dat')\n",
    "print(densities)"
   ]
  },
  {
   "cell_type": "markdown",
   "metadata": {},
   "source": [
    "One problem we face when implementing the program above is that the name of the substance can contain one or two words, and maybe more words in a more comprehensive table. The purpose of this exercise is to use string operations to shorten the code and make it more general. Implement the following two methods in separate functions `read_densities_join` and `read_densities_substrings`, and control that they give the same result.\n",
    "\n",
    "1. In `read_densities_join`, let *substance* consist of all the words but the last and use the `join()` method to combine the words. Replace any spaces between words in substances with underscore.\n",
    "2. In `read_densities_substrings`, observe that all the densities (numerical values) start in the same column, and use substrings to divide line into two parts. Replace any spaces between words in substances with underscore. (**Hint**: Remember to strip the first part such that, e.g. the density of ice is obtained as `densities['ice']` and not `densities['ice     ']`.)"
   ]
  },
  {
   "cell_type": "code",
   "execution_count": null,
   "metadata": {
    "execution": {
     "iopub.execute_input": "2021-08-03T20:20:18.530124Z",
     "iopub.status.busy": "2021-08-03T20:20:18.529426Z",
     "iopub.status.idle": "2021-08-03T20:20:18.531206Z",
     "shell.execute_reply": "2021-08-03T20:20:18.530853Z"
    }
   },
   "outputs": [],
   "source": [
    "# Uncomment and modify the following code. Do not change variable names for testing purposes.\n",
    "\n",
    "# def read_densities_join(filename):\n",
    "#     ...\n",
    "\n",
    "# def read_densities_substrings(filename):\n",
    "#     ..."
   ]
  },
  {
   "cell_type": "code",
   "execution_count": null,
   "metadata": {
    "execution": {
     "iopub.execute_input": "2021-08-03T20:20:18.539635Z",
     "iopub.status.busy": "2021-08-03T20:20:18.539239Z",
     "iopub.status.idle": "2021-08-03T20:20:18.588884Z",
     "shell.execute_reply": "2021-08-03T20:20:18.588515Z"
    },
    "tags": [
     "pybryt"
    ]
   },
   "outputs": [],
   "source": [
    "with pybryt.check(pybryt_reference(4, '4_1')):\n",
    "    read_densities_join('./data/densities.dat')"
   ]
  },
  {
   "cell_type": "code",
   "execution_count": null,
   "metadata": {
    "execution": {
     "iopub.execute_input": "2021-08-03T20:20:18.597066Z",
     "iopub.status.busy": "2021-08-03T20:20:18.596668Z",
     "iopub.status.idle": "2021-08-03T20:20:18.638086Z",
     "shell.execute_reply": "2021-08-03T20:20:18.637676Z"
    },
    "tags": [
     "pybryt"
    ]
   },
   "outputs": [],
   "source": [
    "with pybryt.check(pybryt_reference(4, '4_2')):\n",
    "    read_densities_substrings('./data/densities.dat')"
   ]
  },
  {
   "cell_type": "code",
   "execution_count": null,
   "metadata": {
    "execution": {
     "iopub.execute_input": "2021-08-03T20:20:18.643168Z",
     "iopub.status.busy": "2021-08-03T20:20:18.642742Z",
     "iopub.status.idle": "2021-08-03T20:20:18.663629Z",
     "shell.execute_reply": "2021-08-03T20:20:18.663278Z"
    },
    "tags": [
     "okpy"
    ]
   },
   "outputs": [],
   "source": [
    "ok.grade('exercise-4_4')"
   ]
  },
  {
   "cell_type": "markdown",
   "metadata": {},
   "source": [
    "## Class: encapsulating variables/data and functions\n",
    "\n",
    "A class encapsulates variables/data and functions into one single unit. As a programmer, you can create a new class and thereby a new **object type** (similar to those you have already encountered - `int`, `float`, `string`, `list`, `file`, etc.). Once you have created a class you can create many instances of that type as you wish, just as you can have many `int` or `float` objects.\n",
    "\n",
    "Modern programming makes heavy use of classes and object orientated programming to manage software complexity, making these important concepts to understand. However, for non-trivial applications the design of good abstractions and classes requires careful consideration, otherwise one can unintentionally increase complexity and hurt the performance of your code. Therefore, you should consider this lecture merely as a gentle introduction illustrated with some simple examples."
   ]
  },
  {
   "cell_type": "markdown",
   "metadata": {},
   "source": [
    "## Representing a function by a class\n",
    "\n",
    "Consider a function of $t$ with a parameter $v_0$:\n",
    "\n",
    "$$ y(t: v_0, g)=v_0t - {1\\over2}gt^2 $$\n",
    "\n",
    "We need both $v_0$, $g$ and $t$ to evaluate $y$. How might we implement this?"
   ]
  },
  {
   "cell_type": "markdown",
   "metadata": {},
   "source": [
    "One option is to assume we will always pass in all variables as arguments:\n",
    "```python\n",
    "def y(t, v0, g=9.81):\n",
    "    return v0*t - 0.5*g*t**2\n",
    "```\n",
    "This looks like a reasonable solution when there are only a couple of parameters. But the software complexity quickly gets out of hand as the number of variables increases (I have worked on legacy codes that had function argument lists that were hundreds of lines long because there was no notion of encapsulation!)\n",
    "\n",
    "Alternatively we might define `v0` and `g` as global variables:\n",
    "```python\n",
    "g = 9.81\n",
    "v0 = ...\n",
    "\n",
    "...\n",
    "\n",
    "def y(t):\n",
    "    return v0*t - 0.5*g*t**2\n",
    "```\n",
    "However, the use of global variables is strongly discouraged for many reasons, e.g. very error prone, increased risk of namespace pollution (variables being clobbered when you import a Python module), makes it difficult to manage instances where there might be multiple values for the global variable within the same context, etc."
   ]
  },
  {
   "cell_type": "markdown",
   "metadata": {},
   "source": [
    "Let us look at how we might instead implement this as a class.\n",
    "\n",
    "While we will not cover it in detail here, it is worth noting that professional developers often use [UML (Unified Modeling Language)](http://en.wikipedia.org/wiki/Unified_Modeling_Language) to illustrate the design of a class. Here is a UML diagram for this example:\n",
    "\n",
    "![Simple UML example](https://github.com/ggorman/Introduction-to-programming-for-geoscientists/raw/master/notebook/images/class_Y_UML.png)\n",
    "\n",
    "For this example `class Y` for $y(t: v_0, g)$ has variables `v0` and `g` and a function `value` for computing $y(t: v_0, g)$. Often classes also have the special function `__init__` for initialising class variables.\n",
    "\n",
    "Here is an implementation of this class:"
   ]
  },
  {
   "cell_type": "code",
   "execution_count": null,
   "metadata": {
    "execution": {
     "iopub.execute_input": "2021-08-03T20:20:18.674892Z",
     "iopub.status.busy": "2021-08-03T20:20:18.674490Z",
     "iopub.status.idle": "2021-08-03T20:20:18.677352Z",
     "shell.execute_reply": "2021-08-03T20:20:18.676995Z"
    }
   },
   "outputs": [],
   "source": [
    "class Y:\n",
    "    def __init__(self, v0, g=9.81):\n",
    "        self.v0 = v0\n",
    "        self.g = g\n",
    "\n",
    "    def value(self, t):\n",
    "        return self.v0*t - 0.5*self.g*t**2"
   ]
  },
  {
   "cell_type": "markdown",
   "metadata": {},
   "source": [
    "An example of its usage: "
   ]
  },
  {
   "cell_type": "code",
   "execution_count": null,
   "metadata": {
    "execution": {
     "iopub.execute_input": "2021-08-03T20:20:18.680573Z",
     "iopub.status.busy": "2021-08-03T20:20:18.680174Z",
     "iopub.status.idle": "2021-08-03T20:20:18.684679Z",
     "shell.execute_reply": "2021-08-03T20:20:18.684323Z"
    }
   },
   "outputs": [],
   "source": [
    "y = Y(v0=3)       # Create instance\n",
    "v = y.value(0.1)  # Compute function value\n",
    "\n",
    "print(v)"
   ]
  },
  {
   "cell_type": "markdown",
   "metadata": {},
   "source": [
    "When we write `y = Y(v0=3)` we create a new *instance* of *type `Y`*.\n",
    "\n",
    "`Y(3)` is a call to the constructor:\n",
    "\n",
    "```python\n",
    "def __init__(self, v0, g=9.81):\n",
    "    self.v0 = v0\n",
    "    self.g = g\n",
    "```"
   ]
  },
  {
   "cell_type": "markdown",
   "metadata": {},
   "source": [
    "Think of `self` as `y`, i.e. the new variable to be created. `self.v0` means that we attach a variable `v0` to self (`y`).\n",
    "\n",
    "```python\n",
    "Y.__init__(y, 3)   # is the logic behind Y(3)\n",
    "```\n",
    "\n",
    "`self` is always the first argument/parameter in a function, but **never** inserted in the call! After `y = Y(3)`, `y` has two variables `v0` and `g`, and we can take a look at these:"
   ]
  },
  {
   "cell_type": "code",
   "execution_count": null,
   "metadata": {
    "execution": {
     "iopub.execute_input": "2021-08-03T20:20:18.688469Z",
     "iopub.status.busy": "2021-08-03T20:20:18.688047Z",
     "iopub.status.idle": "2021-08-03T20:20:18.693040Z",
     "shell.execute_reply": "2021-08-03T20:20:18.693353Z"
    }
   },
   "outputs": [],
   "source": [
    "print(y.v0)\n",
    "print(y.g)"
   ]
  },
  {
   "cell_type": "markdown",
   "metadata": {},
   "source": [
    "Functions in classes are called **methods**. Variables in classes are called **attributes**. Therefore, in the above example the `value` *method* was\n",
    "\n",
    "```python\n",
    "def value(self, t):\n",
    "  return self.v0*t - 0.5*self.g*t**2\n",
    "```"
   ]
  },
  {
   "cell_type": "markdown",
   "metadata": {},
   "source": [
    "Example on a call:"
   ]
  },
  {
   "cell_type": "code",
   "execution_count": null,
   "metadata": {
    "execution": {
     "iopub.execute_input": "2021-08-03T20:20:18.696593Z",
     "iopub.status.busy": "2021-08-03T20:20:18.695881Z",
     "iopub.status.idle": "2021-08-03T20:20:18.697727Z",
     "shell.execute_reply": "2021-08-03T20:20:18.697364Z"
    }
   },
   "outputs": [],
   "source": [
    "v = y.value(t=0.1)"
   ]
  },
  {
   "cell_type": "markdown",
   "metadata": {},
   "source": [
    "`self` is left out in the call (as discussed above), but Python automatically inserts `y` as the `self` argument inside the `value` method. Inside the `value` *method* things *appear* as\n",
    "\n",
    "```python\n",
    "return y.v0*t - 0.5*y.g*t**2\n",
    "```"
   ]
  },
  {
   "cell_type": "markdown",
   "metadata": {},
   "source": [
    "The method `value` has, through `self`, access to the attributes. Attributes are like *global variables* in the class, and any method gets a `self` parameter as its first argument. The method can then access the attributes of the class through `self`."
   ]
  },
  {
   "cell_type": "markdown",
   "metadata": {},
   "source": [
    "In summary, `class Y` collects the attributes `v0` and `g` and the method `value` together as a single unit. `value(t)` is function of `t` only, but has access to the class attributes `v0` and `g`.\n",
    "\n",
    "The great feature of Python is that we can send `y.value` as an ordinary function of `t` to any other function that expects a function `f(t)`:"
   ]
  },
  {
   "cell_type": "code",
   "execution_count": null,
   "metadata": {
    "execution": {
     "iopub.execute_input": "2021-08-03T20:20:18.701636Z",
     "iopub.status.busy": "2021-08-03T20:20:18.700929Z",
     "iopub.status.idle": "2021-08-03T20:20:18.702797Z",
     "shell.execute_reply": "2021-08-03T20:20:18.702375Z"
    }
   },
   "outputs": [],
   "source": [
    "import numpy as np\n",
    "\n",
    "\n",
    "def table(f, tstop, n):\n",
    "    \"\"\"Make a table of t, f(t) values.\"\"\"\n",
    "    for t in np.linspace(0, tstop, n):\n",
    "        print(t, f(t))"
   ]
  },
  {
   "cell_type": "code",
   "execution_count": null,
   "metadata": {
    "execution": {
     "iopub.execute_input": "2021-08-03T20:20:18.710597Z",
     "iopub.status.busy": "2021-08-03T20:20:18.710161Z",
     "iopub.status.idle": "2021-08-03T20:20:18.721415Z",
     "shell.execute_reply": "2021-08-03T20:20:18.718080Z"
    }
   },
   "outputs": [],
   "source": [
    "def g(t):\n",
    "    return np.sin(t)*np.exp(-t)\n",
    "\n",
    "\n",
    "table(g, 2*np.pi, 5)  # pass in ordinary function as first argument"
   ]
  },
  {
   "cell_type": "code",
   "execution_count": null,
   "metadata": {
    "execution": {
     "iopub.execute_input": "2021-08-03T20:20:18.724334Z",
     "iopub.status.busy": "2021-08-03T20:20:18.723838Z",
     "iopub.status.idle": "2021-08-03T20:20:18.736631Z",
     "shell.execute_reply": "2021-08-03T20:20:18.731789Z"
    }
   },
   "outputs": [],
   "source": [
    "y = Y(6.5)\n",
    "table(y.value, 2*np.pi, 5)  # pass in class method as first argument"
   ]
  },
  {
   "cell_type": "markdown",
   "metadata": {},
   "source": [
    "## Exercise 4.5: Make a class for function evaluation.\n",
    "Make a class called `F` that implements the function\n",
    "\n",
    "$$f(x: a, w) = e^{−ax}\\sin(wx).$$\n",
    "\n",
    "A `value(x)` method computes values of $f$ for a given $x$, while $a$ and $w$ are class attributes as specified as arguments in the class's `__init__` method."
   ]
  },
  {
   "cell_type": "code",
   "execution_count": null,
   "metadata": {
    "execution": {
     "iopub.execute_input": "2021-08-03T20:20:18.739137Z",
     "iopub.status.busy": "2021-08-03T20:20:18.738731Z",
     "iopub.status.idle": "2021-08-03T20:20:18.741510Z",
     "shell.execute_reply": "2021-08-03T20:20:18.741154Z"
    }
   },
   "outputs": [],
   "source": [
    "# Uncomment and complete this code - keep the names the same for testing purposes.\n",
    "\n",
    "# class F:\n",
    "#     def __init__(self, a, w):\n",
    "#         ...\n",
    "\n",
    "#     def value(self, x):\n",
    "#         ..."
   ]
  },
  {
   "cell_type": "code",
   "execution_count": null,
   "metadata": {
    "execution": {
     "iopub.execute_input": "2021-08-03T20:20:18.750197Z",
     "iopub.status.busy": "2021-08-03T20:20:18.749798Z",
     "iopub.status.idle": "2021-08-03T20:20:18.761691Z",
     "shell.execute_reply": "2021-08-03T20:20:18.761349Z"
    },
    "tags": [
     "pybryt"
    ]
   },
   "outputs": [],
   "source": [
    "with pybryt.check(pybryt_reference(4, 5)):\n",
    "    f = F(0.73, 1.14185)\n",
    "    f.a, f.w, f.value(3)"
   ]
  },
  {
   "cell_type": "code",
   "execution_count": null,
   "metadata": {
    "execution": {
     "iopub.execute_input": "2021-08-03T20:20:18.766449Z",
     "iopub.status.busy": "2021-08-03T20:20:18.766025Z",
     "iopub.status.idle": "2021-08-03T20:20:18.777903Z",
     "shell.execute_reply": "2021-08-03T20:20:18.776955Z"
    },
    "tags": [
     "okpy"
    ]
   },
   "outputs": [],
   "source": [
    "ok.grade('exercise-4_5')"
   ]
  },
  {
   "cell_type": "markdown",
   "metadata": {},
   "source": [
    "## Exercise 4.6: Make a simple class\n",
    "\n",
    "Make a class called `Simple` with:\n",
    "* one attribute, `i`,\n",
    "* one method `double` that replaces the value of `i` by `2*i`, and\n",
    "* an `__init__` method that initializes the attribute `i`. \n",
    "\n",
    "Use the following code snippet to convince yourself that your class is behaving as expected.\n",
    "\n",
    "```python\n",
    "s1 = Simple(4)\n",
    "for i in range(4):\n",
    "    s1.double()\n",
    "print(s1.i)\n",
    "\n",
    "s2 = Simple('Hello')\n",
    "s2.double(); s2.double()\n",
    "print(s2.i)\n",
    "s2.i = 100\n",
    "print(s2.i)\n",
    "```"
   ]
  },
  {
   "cell_type": "code",
   "execution_count": null,
   "metadata": {
    "execution": {
     "iopub.execute_input": "2021-08-03T20:20:18.786897Z",
     "iopub.status.busy": "2021-08-03T20:20:18.786499Z",
     "iopub.status.idle": "2021-08-03T20:20:18.789232Z",
     "shell.execute_reply": "2021-08-03T20:20:18.788879Z"
    }
   },
   "outputs": [],
   "source": [
    "# Uncomment and complete this code - keep the names the same for testing purposes.\n",
    "\n",
    "# class Simple:\n",
    "#     def __init__(self, i):\n",
    "#         ...\n",
    "\n",
    "#     def double(self):\n",
    "#         ..."
   ]
  },
  {
   "cell_type": "code",
   "execution_count": null,
   "metadata": {
    "execution": {
     "iopub.execute_input": "2021-08-03T20:20:18.796644Z",
     "iopub.status.busy": "2021-08-03T20:20:18.796238Z",
     "iopub.status.idle": "2021-08-03T20:20:18.834649Z",
     "shell.execute_reply": "2021-08-03T20:20:18.834286Z"
    },
    "tags": [
     "pybryt"
    ]
   },
   "outputs": [],
   "source": [
    "with pybryt.check(pybryt_reference(4, 6)):\n",
    "    simple = Simple(200.51)\n",
    "    simple.i\n",
    "    for k in range(10):\n",
    "        simple.double()\n",
    "        simple.i"
   ]
  },
  {
   "cell_type": "code",
   "execution_count": null,
   "metadata": {
    "execution": {
     "iopub.execute_input": "2021-08-03T20:20:18.839401Z",
     "iopub.status.busy": "2021-08-03T20:20:18.838982Z",
     "iopub.status.idle": "2021-08-03T20:20:18.857577Z",
     "shell.execute_reply": "2021-08-03T20:20:18.857913Z"
    },
    "tags": [
     "okpy"
    ]
   },
   "outputs": [],
   "source": [
    "ok.grade('exercise-4_6')"
   ]
  },
  {
   "cell_type": "markdown",
   "metadata": {},
   "source": [
    "## Another class example: a bank account\n",
    "\n",
    "* **Attributes**:\n",
    "    * `name`: name of the owner\n",
    "    * `number`: account number\n",
    "    * `balance`: balance\n",
    "* **Methods**:\n",
    "    * `deposit`: adds amount to `balance`\n",
    "    * `withdraw`: subtracts amount from `balance`\n",
    "    * `dump`: pretty pring"
   ]
  },
  {
   "cell_type": "code",
   "execution_count": null,
   "metadata": {
    "execution": {
     "iopub.execute_input": "2021-08-03T20:20:18.868051Z",
     "iopub.status.busy": "2021-08-03T20:20:18.867605Z",
     "iopub.status.idle": "2021-08-03T20:20:18.870027Z",
     "shell.execute_reply": "2021-08-03T20:20:18.869671Z"
    }
   },
   "outputs": [],
   "source": [
    "class Account:\n",
    "    def __init__(self, name, account_number, initial_amount=0):\n",
    "        self.name = name\n",
    "        self.number = account_number\n",
    "        self.balance = initial_amount\n",
    "\n",
    "    def deposit(self, amount):\n",
    "        self.balance += amount  # self.balance += amount is equivalent to self.balance = self.balance + amount\n",
    "\n",
    "    def withdraw(self, amount):\n",
    "        self.balance -= amount  # self.balance -= amount is equivalent to self.balance = self.balance - amount\n",
    "\n",
    "    def dump(self):\n",
    "        print(f'name: {self.name}, account number: {self.number}, balance: {self.balance}')"
   ]
  },
  {
   "cell_type": "code",
   "execution_count": null,
   "metadata": {
    "execution": {
     "iopub.execute_input": "2021-08-03T20:20:18.873598Z",
     "iopub.status.busy": "2021-08-03T20:20:18.872867Z",
     "iopub.status.idle": "2021-08-03T20:20:18.874683Z",
     "shell.execute_reply": "2021-08-03T20:20:18.874329Z"
    }
   },
   "outputs": [],
   "source": [
    "a1 = Account('John Olsson', '19371554951')\n",
    "a2 = Account('Liz Olsson', '19371564761', 20000)\n",
    "a1.deposit(1000)\n",
    "a1.withdraw(4000)\n",
    "a2.withdraw(10500)\n",
    "a1.withdraw(3500)"
   ]
  },
  {
   "cell_type": "code",
   "execution_count": null,
   "metadata": {
    "execution": {
     "iopub.execute_input": "2021-08-03T20:20:18.878263Z",
     "iopub.status.busy": "2021-08-03T20:20:18.877849Z",
     "iopub.status.idle": "2021-08-03T20:20:18.880656Z",
     "shell.execute_reply": "2021-08-03T20:20:18.880290Z"
    }
   },
   "outputs": [],
   "source": [
    "a1.dump()"
   ]
  },
  {
   "cell_type": "code",
   "execution_count": null,
   "metadata": {
    "execution": {
     "iopub.execute_input": "2021-08-03T20:20:18.884207Z",
     "iopub.status.busy": "2021-08-03T20:20:18.883787Z",
     "iopub.status.idle": "2021-08-03T20:20:18.886536Z",
     "shell.execute_reply": "2021-08-03T20:20:18.886179Z"
    }
   },
   "outputs": [],
   "source": [
    "a2.dump()"
   ]
  },
  {
   "cell_type": "markdown",
   "metadata": {},
   "source": [
    "## Exercise 4.7: Extend a class\n",
    "\n",
    "Add an attribute called `transactions` to the `Account` class given above. The new attribute counts the number of transactions done in the `deposit` and `withdraw` methods. The total number of transactions should be printed in the `dump` method. Write a simple test program to convince yourself transaction gets the right value after some calls to `deposit` and `withdraw`. When an object of class `Account` is created, attribute `transactions` is initialised to 0."
   ]
  },
  {
   "cell_type": "code",
   "execution_count": null,
   "metadata": {
    "execution": {
     "iopub.execute_input": "2021-08-03T20:20:18.889607Z",
     "iopub.status.busy": "2021-08-03T20:20:18.888870Z",
     "iopub.status.idle": "2021-08-03T20:20:18.890704Z",
     "shell.execute_reply": "2021-08-03T20:20:18.890349Z"
    }
   },
   "outputs": [],
   "source": [
    "# Uncomment and complete this code - keep the names the same for testing purposes.\n",
    "\n",
    "# class Account:\n",
    "#     def __init__(self, name, account_number, initial_amount=0):\n",
    "#         self.name = name\n",
    "#         self.number = account_number\n",
    "#         self.balance = initial_amount\n",
    "\n",
    "#     def deposit(self, amount):\n",
    "#         self.balance += amount\n",
    "\n",
    "#     def withdraw(self, amount):\n",
    "#         self.balance -= amount\n",
    "\n",
    "#     def dump(self):\n",
    "#         print(f'name: {self.name}, account number: {self.number}, balance: {self.balance}')"
   ]
  },
  {
   "cell_type": "code",
   "execution_count": null,
   "metadata": {
    "execution": {
     "iopub.execute_input": "2021-08-03T20:20:18.899493Z",
     "iopub.status.busy": "2021-08-03T20:20:18.899088Z",
     "iopub.status.idle": "2021-08-03T20:20:18.974002Z",
     "shell.execute_reply": "2021-08-03T20:20:18.973593Z"
    },
    "tags": [
     "pybryt"
    ]
   },
   "outputs": [],
   "source": [
    "with pybryt.check(pybryt_reference(4, 7)):\n",
    "    account = Account('Marijan', '321321321', initial_amount=2351)\n",
    "    account.name, account.number, account.balance, account.transactions\n",
    "\n",
    "    for i in range(5):\n",
    "        account.deposit(1001)\n",
    "        account.balance, account.transactions\n",
    "        account.withdraw(432.3)\n",
    "        account.balance, account.transactions"
   ]
  },
  {
   "cell_type": "code",
   "execution_count": null,
   "metadata": {
    "execution": {
     "iopub.execute_input": "2021-08-03T20:20:18.979139Z",
     "iopub.status.busy": "2021-08-03T20:20:18.978710Z",
     "iopub.status.idle": "2021-08-03T20:20:18.997511Z",
     "shell.execute_reply": "2021-08-03T20:20:18.997849Z"
    },
    "tags": [
     "okpy"
    ]
   },
   "outputs": [],
   "source": [
    "ok.grade('exercise-4_7')"
   ]
  },
  {
   "cell_type": "markdown",
   "metadata": {},
   "source": [
    "## Protecting attributes\n",
    "\n",
    "It is not possible in Python to explicitly protect attributes from being overwritten by the calling function, i.e. the following is possible but not intended:"
   ]
  },
  {
   "cell_type": "code",
   "execution_count": null,
   "metadata": {
    "execution": {
     "iopub.execute_input": "2021-08-03T20:20:19.009561Z",
     "iopub.status.busy": "2021-08-03T20:20:19.009161Z",
     "iopub.status.idle": "2021-08-03T20:20:19.011963Z",
     "shell.execute_reply": "2021-08-03T20:20:19.011586Z"
    }
   },
   "outputs": [],
   "source": [
    "a1.name = 'Some other name'\n",
    "a1.balance = 100000\n",
    "a1.no = '19371564768'"
   ]
  },
  {
   "cell_type": "markdown",
   "metadata": {},
   "source": [
    "**Assumptions** on correct usage include:\n",
    "\n",
    "* The attributes should not be modified directly.\n",
    "* The `balance` attribute can be viewed.\n",
    "* Changing `balance` is done through with the methods `draw` and `deposit`.\n",
    "\n",
    "The remedy is to adopt the convention that attributes and methods not intended for use outside the class should be marked as protected by prefixing the name with an underscore (e.g. `_name`). This is just a convention to warn you to stay away from messing with the attribute directly. There is no technical way of stopping attributes and methods from being accessed directly from outside the class.\n",
    "\n",
    "We rewrite the account class using this convention:"
   ]
  },
  {
   "cell_type": "code",
   "execution_count": null,
   "metadata": {
    "execution": {
     "iopub.execute_input": "2021-08-03T20:20:19.015912Z",
     "iopub.status.busy": "2021-08-03T20:20:19.015478Z",
     "iopub.status.idle": "2021-08-03T20:20:19.017843Z",
     "shell.execute_reply": "2021-08-03T20:20:19.018160Z"
    }
   },
   "outputs": [],
   "source": [
    "class AccountP:\n",
    "    def __init__(self, name, account_number, initial_amount):\n",
    "        self._name = name\n",
    "        self._no = account_number\n",
    "        self._balance = initial_amount\n",
    "\n",
    "    def deposit(self, amount):\n",
    "        self._balance += amount\n",
    "\n",
    "    def withdraw(self, amount):\n",
    "        self._balance -= amount\n",
    "\n",
    "    def get_balance(self):    # NEW - read balance value\n",
    "        return self._balance\n",
    "\n",
    "    def dump(self):\n",
    "        s = '%s, %s, balance: %s' % (self._name, self._no, self._balance)\n",
    "        print(s)"
   ]
  },
  {
   "cell_type": "code",
   "execution_count": null,
   "metadata": {
    "execution": {
     "iopub.execute_input": "2021-08-03T20:20:19.021311Z",
     "iopub.status.busy": "2021-08-03T20:20:19.020621Z",
     "iopub.status.idle": "2021-08-03T20:20:19.022111Z",
     "shell.execute_reply": "2021-08-03T20:20:19.022425Z"
    }
   },
   "outputs": [],
   "source": [
    "a1 = AccountP('John Olsson', '19371554951', 20000)\n",
    "a1.withdraw(4000)"
   ]
  },
  {
   "cell_type": "code",
   "execution_count": null,
   "metadata": {
    "execution": {
     "iopub.execute_input": "2021-08-03T20:20:19.026133Z",
     "iopub.status.busy": "2021-08-03T20:20:19.025711Z",
     "iopub.status.idle": "2021-08-03T20:20:19.028506Z",
     "shell.execute_reply": "2021-08-03T20:20:19.028154Z"
    }
   },
   "outputs": [],
   "source": [
    "print(a1._balance)      # it works, but a convention is broken"
   ]
  },
  {
   "cell_type": "code",
   "execution_count": null,
   "metadata": {
    "execution": {
     "iopub.execute_input": "2021-08-03T20:20:19.031900Z",
     "iopub.status.busy": "2021-08-03T20:20:19.029909Z",
     "iopub.status.idle": "2021-08-03T20:20:19.033918Z",
     "shell.execute_reply": "2021-08-03T20:20:19.034249Z"
    }
   },
   "outputs": [],
   "source": [
    "print(a1.get_balance())  # correct way of viewing the balance"
   ]
  },
  {
   "cell_type": "code",
   "execution_count": null,
   "metadata": {
    "execution": {
     "iopub.execute_input": "2021-08-03T20:20:19.037312Z",
     "iopub.status.busy": "2021-08-03T20:20:19.036575Z",
     "iopub.status.idle": "2021-08-03T20:20:19.038179Z",
     "shell.execute_reply": "2021-08-03T20:20:19.038496Z"
    }
   },
   "outputs": [],
   "source": [
    "a1._no = '19371554955'  # if you did this you'd probably lose your job! Don't mess with the convention."
   ]
  },
  {
   "cell_type": "markdown",
   "metadata": {},
   "source": [
    "### Example - a phone book\n",
    "\n",
    "A phone book is a list of data about persons. Typical data includes: name, mobile phone, office phone, private phone, email. This data about a person can be  collected in a class as **attributes**. Think about what kinds of **methods** make sense for this class, e.g.:\n",
    "\n",
    "* Constructor for initializing name, plus one or more other data\n",
    "* Add new mobile number\n",
    "* Add new office number\n",
    "* Add new private number\n",
    "* Add new email\n",
    "* Write out person data"
   ]
  },
  {
   "cell_type": "code",
   "execution_count": null,
   "metadata": {
    "execution": {
     "iopub.execute_input": "2021-08-03T20:20:19.044177Z",
     "iopub.status.busy": "2021-08-03T20:20:19.043406Z",
     "iopub.status.idle": "2021-08-03T20:20:19.044867Z",
     "shell.execute_reply": "2021-08-03T20:20:19.045202Z"
    }
   },
   "outputs": [],
   "source": [
    "class Person:\n",
    "    def __init__(self, name, mobile_phone=None, office_phone=None, private_phone=None, email=None):\n",
    "        self.name = name\n",
    "        self.mobile = mobile_phone\n",
    "        self.office = office_phone\n",
    "        self.private = private_phone\n",
    "        self.email = email\n",
    "\n",
    "    def add_mobile_phone(self, number):\n",
    "        self.mobile = number\n",
    "\n",
    "    def add_office_phone(self, number):\n",
    "        self.office = number\n",
    "\n",
    "    def add_private_phone(self, number):\n",
    "        self.private = number\n",
    "\n",
    "    def add_email(self, address):\n",
    "        self.email = address\n",
    "\n",
    "    def dump(self):\n",
    "        s = self.name + '\\n'\n",
    "        if self.mobile is not None:\n",
    "            s += 'mobile phone:   %s\\n' % self.mobile\n",
    "        if self.office is not None:\n",
    "            s += 'office phone:   %s\\n' % self.office\n",
    "        if self.private is not None:\n",
    "            s += 'private phone:  %s\\n' % self.private\n",
    "        if self.email is not None:\n",
    "            s += 'email address:  %s\\n' % self.email\n",
    "        print(s)"
   ]
  },
  {
   "cell_type": "code",
   "execution_count": null,
   "metadata": {
    "execution": {
     "iopub.execute_input": "2021-08-03T20:20:19.050489Z",
     "iopub.status.busy": "2021-08-03T20:20:19.050064Z",
     "iopub.status.idle": "2021-08-03T20:20:19.053915Z",
     "shell.execute_reply": "2021-08-03T20:20:19.052532Z"
    }
   },
   "outputs": [],
   "source": [
    "p1 = Person('Gerard Gorman', email='g.gorman@imperial.ac.uk')\n",
    "p1.add_office_phone('49985')\n",
    "\n",
    "p2 = Person('ICT Service Desk', office_phone='49000')\n",
    "p2.add_email('service.desk@imperial.ac.uk')\n",
    "\n",
    "phone_book = {'Gorman': p1, 'ICT': p2}\n",
    "for p in phone_book:\n",
    "    phone_book[p].dump()"
   ]
  },
  {
   "cell_type": "markdown",
   "metadata": {},
   "source": [
    "### Example - a circle\n",
    "A circle is defined by its center point $x_0$, $y_0$ and its radius $R$. These data can be attributes in a class. Possible methods in the class are `area` and `circumference`. The constructor initializes $x_0$, $y_0$ and $R$."
   ]
  },
  {
   "cell_type": "code",
   "execution_count": null,
   "metadata": {
    "execution": {
     "iopub.execute_input": "2021-08-03T20:20:19.057811Z",
     "iopub.status.busy": "2021-08-03T20:20:19.057106Z",
     "iopub.status.idle": "2021-08-03T20:20:19.058915Z",
     "shell.execute_reply": "2021-08-03T20:20:19.058562Z"
    }
   },
   "outputs": [],
   "source": [
    "class Circle:\n",
    "    def __init__(self, R, x0, y0,):\n",
    "        self.x0, self.y0, self.R = x0, y0, R\n",
    "\n",
    "    def area(self):\n",
    "        return np.pi * self.R**2\n",
    "\n",
    "    def circumference(self):\n",
    "        return 2*np.pi*self.R"
   ]
  },
  {
   "cell_type": "code",
   "execution_count": null,
   "metadata": {
    "execution": {
     "iopub.execute_input": "2021-08-03T20:20:19.062764Z",
     "iopub.status.busy": "2021-08-03T20:20:19.062346Z",
     "iopub.status.idle": "2021-08-03T20:20:19.065103Z",
     "shell.execute_reply": "2021-08-03T20:20:19.064751Z"
    }
   },
   "outputs": [],
   "source": [
    "c = Circle(2, -1, 5)\n",
    "print('A circle with radius %g at (%g, %g) has area %g' % (c.R, c.x0, c.y0, c.area()))"
   ]
  },
  {
   "cell_type": "markdown",
   "metadata": {},
   "source": [
    "## Exercise 4.8: Make a class for straight lines\n",
    "\n",
    "Make a class called `Line` whose constructor takes two points `p0` and `p1` (2-tuples or 2-lists) as input. The line goes through these two points (see function `line` defined below for the relevant formula of the line). A `value(x)` method computes the `y` value on the line at the point `x` or returns `None` if the line is vertical (i.e. if `(x1-x0) == 0`).\n",
    "\n",
    "```python\n",
    "def line(x0, y0, x1, y1):\n",
    "    \"\"\"\n",
    "    Compute the coefficients a and b in the mathematical\n",
    "    expression for a straight line y = a*x + b that goes\n",
    "    through two points (x0, y0) and (x1, y1).\n",
    "    x0, y0: a point on the line (floats).\n",
    "    x1, y1: another point on the line (floats).\n",
    "    return: coefficients a, b (floats) for the line (y=a*x+b).\n",
    "    \"\"\"\n",
    "    try:\n",
    "        a = (y1 - y0)/(x1 - x0)\n",
    "        b = y0 - a*x0\n",
    "    except ZeroDivisionError:\n",
    "        a, b = None, None\n",
    "    \n",
    "    return a, b\n",
    "```"
   ]
  },
  {
   "cell_type": "code",
   "execution_count": null,
   "metadata": {
    "execution": {
     "iopub.execute_input": "2021-08-03T20:20:19.068023Z",
     "iopub.status.busy": "2021-08-03T20:20:19.067285Z",
     "iopub.status.idle": "2021-08-03T20:20:19.068865Z",
     "shell.execute_reply": "2021-08-03T20:20:19.069180Z"
    }
   },
   "outputs": [],
   "source": [
    "# Uncomment and complete this code - keep the names the same for testing purposes.\n",
    "\n",
    "# class Line:\n",
    "#     def __init__(self, p0, p1):\n",
    "#         ...\n",
    "\n",
    "#     def value(self, x):\n",
    "#         ..."
   ]
  },
  {
   "cell_type": "code",
   "execution_count": null,
   "metadata": {
    "execution": {
     "iopub.execute_input": "2021-08-03T20:20:19.077562Z",
     "iopub.status.busy": "2021-08-03T20:20:19.077159Z",
     "iopub.status.idle": "2021-08-03T20:20:19.093361Z",
     "shell.execute_reply": "2021-08-03T20:20:19.093021Z"
    },
    "tags": [
     "pybryt"
    ]
   },
   "outputs": [],
   "source": [
    "with pybryt.check(pybryt_reference(4, 8)):\n",
    "    line = Line(p0=(123.1, 251.6), p1=(44.3, 12.9))\n",
    "    line.p0, line.p1, line.value(3.141)"
   ]
  },
  {
   "cell_type": "code",
   "execution_count": null,
   "metadata": {
    "execution": {
     "iopub.execute_input": "2021-08-03T20:20:19.098312Z",
     "iopub.status.busy": "2021-08-03T20:20:19.097880Z",
     "iopub.status.idle": "2021-08-03T20:20:19.113719Z",
     "shell.execute_reply": "2021-08-03T20:20:19.109247Z"
    },
    "tags": [
     "okpy"
    ]
   },
   "outputs": [],
   "source": [
    "ok.grade('exercise-4_8')"
   ]
  },
  {
   "cell_type": "markdown",
   "metadata": {},
   "source": [
    "## Exercise 4.9: Make a class for quadratic functions\n",
    "\n",
    "Consider a quadratic function $f(x; a, b, c) = ax^2 + bx + c$. Make a class called `Quadratic` for representing $f$, where $a$, $b$, and $c$ are attributes, and the methods are:\n",
    "\n",
    "1. `value(self, x)` for computing a value of $f$ at a point $x$,\n",
    "2. `table(self, L, R, n)` for writing out a table of $x$ and $f$ values for $n$ values of $x$ in the interval $[L, R]$,\n",
    "3. `roots(self)` for computing the two roots."
   ]
  },
  {
   "cell_type": "code",
   "execution_count": null,
   "metadata": {
    "execution": {
     "iopub.execute_input": "2021-08-03T20:20:19.125353Z",
     "iopub.status.busy": "2021-08-03T20:20:19.124637Z",
     "iopub.status.idle": "2021-08-03T20:20:19.126145Z",
     "shell.execute_reply": "2021-08-03T20:20:19.126461Z"
    }
   },
   "outputs": [],
   "source": [
    "# Uncomment and complete this code - keep the names the same for testing purposes.\n",
    "\n",
    "# class Quadratic:\n",
    "#     def __init__(self, a, b, c):\n",
    "#         ...\n",
    "\n",
    "#     def value(self, x):\n",
    "#         ...\n",
    "\n",
    "#     def table(self, L, R, n):\n",
    "#         ...\n",
    "\n",
    "#     def roots(self):\n",
    "#         ..."
   ]
  },
  {
   "cell_type": "code",
   "execution_count": null,
   "metadata": {
    "execution": {
     "iopub.execute_input": "2021-08-03T20:20:19.135723Z",
     "iopub.status.busy": "2021-08-03T20:20:19.135324Z",
     "iopub.status.idle": "2021-08-03T20:20:19.167499Z",
     "shell.execute_reply": "2021-08-03T20:20:19.167086Z"
    },
    "tags": [
     "pybryt"
    ]
   },
   "outputs": [],
   "source": [
    "with pybryt.check(pybryt_reference(4, 9)):\n",
    "    f = Quadratic(a=10.2, b=5.6, c=-30.11)\n",
    "    f.a, f.b, f.c, f.value(500), f.roots()"
   ]
  },
  {
   "cell_type": "code",
   "execution_count": null,
   "metadata": {
    "execution": {
     "iopub.execute_input": "2021-08-03T20:20:19.172320Z",
     "iopub.status.busy": "2021-08-03T20:20:19.171899Z",
     "iopub.status.idle": "2021-08-03T20:20:19.191200Z",
     "shell.execute_reply": "2021-08-03T20:20:19.190841Z"
    },
    "tags": [
     "okpy"
    ]
   },
   "outputs": [],
   "source": [
    "ok.grade('exercise-4_9')"
   ]
  },
  {
   "cell_type": "markdown",
   "metadata": {},
   "source": [
    "## Special methods\n",
    "\n",
    "Some class methods have leading and trailing double underscores. You have already met one of these, `__init__` used to initialise an object upon creation. Other examples include `__call__(self, ...)` and `__add__(self, other)`. These *special methods* enable more elegant abstractions and interfaces. Consider for example the difference between the equivalent statements:\n",
    "\n",
    "```python\n",
    "y = Y(4)\n",
    "```\n",
    "rather than\n",
    "```python\n",
    "y = Y\n",
    "Y.__init__(Y, 4)\n",
    "```"
   ]
  },
  {
   "cell_type": "markdown",
   "metadata": {},
   "source": [
    "### Special member function, `__call__`: make the class instance behave and look as a function\n",
    "\n",
    "Let us replace the `value` method in `class Y` by a `__call__` special method:"
   ]
  },
  {
   "cell_type": "code",
   "execution_count": null,
   "metadata": {
    "execution": {
     "iopub.execute_input": "2021-08-03T20:20:19.213623Z",
     "iopub.status.busy": "2021-08-03T20:20:19.213222Z",
     "iopub.status.idle": "2021-08-03T20:20:19.215970Z",
     "shell.execute_reply": "2021-08-03T20:20:19.215589Z"
    }
   },
   "outputs": [],
   "source": [
    "class Y:\n",
    "    def __init__(self, v0, g=9.81):\n",
    "        self.v0 = v0\n",
    "        self.g = g\n",
    "\n",
    "    def __call__(self, t):\n",
    "        return self.v0*t - 0.5*self.g*t**2"
   ]
  },
  {
   "cell_type": "markdown",
   "metadata": {},
   "source": [
    "Now we can write:"
   ]
  },
  {
   "cell_type": "code",
   "execution_count": null,
   "metadata": {
    "execution": {
     "iopub.execute_input": "2021-08-03T20:20:19.218645Z",
     "iopub.status.busy": "2021-08-03T20:20:19.218244Z",
     "iopub.status.idle": "2021-08-03T20:20:19.221668Z",
     "shell.execute_reply": "2021-08-03T20:20:19.221315Z"
    }
   },
   "outputs": [],
   "source": [
    "y = Y(3)\n",
    "v = y(0.1)  # same as v = y.__call__(0.1)"
   ]
  },
  {
   "cell_type": "markdown",
   "metadata": {},
   "source": [
    "The instance $y$ behaves/looks as a function! The `value(t)` method in the first example does the same, but the special method `__call__` provides a more elegant and concise syntax for computing function values."
   ]
  },
  {
   "cell_type": "markdown",
   "metadata": {},
   "source": [
    "### Special member function, `__str__`: represent object as a string for printing\n",
    "\n",
    "In Python, we can usually print an object `a` by `print(a)`. This works for built-in types (strings, lists, floats, ...). However, if we have made a new type through a class, Python does not know how to print objects of this type. However, if the class has defined a method `__str__` , Python will use this method to convert the object to a string."
   ]
  },
  {
   "cell_type": "code",
   "execution_count": null,
   "metadata": {
    "execution": {
     "iopub.execute_input": "2021-08-03T20:20:19.225210Z",
     "iopub.status.busy": "2021-08-03T20:20:19.224808Z",
     "iopub.status.idle": "2021-08-03T20:20:19.227257Z",
     "shell.execute_reply": "2021-08-03T20:20:19.227570Z"
    }
   },
   "outputs": [],
   "source": [
    "class Y:\n",
    "    def __init__(self, v0, g=9.81):\n",
    "        self.v0 = v0\n",
    "        self.g = g\n",
    "\n",
    "    def __call__(self, t):\n",
    "        return self.v0*t - 0.5*self.g*t**2\n",
    "\n",
    "    def __str__(self):\n",
    "        return '%g*t - 0.5*%g*t**2' % (self.v0, self.g)"
   ]
  },
  {
   "cell_type": "code",
   "execution_count": null,
   "metadata": {
    "execution": {
     "iopub.execute_input": "2021-08-03T20:20:19.230251Z",
     "iopub.status.busy": "2021-08-03T20:20:19.229852Z",
     "iopub.status.idle": "2021-08-03T20:20:19.235087Z",
     "shell.execute_reply": "2021-08-03T20:20:19.235401Z"
    }
   },
   "outputs": [],
   "source": [
    "y = Y(1.5)\n",
    "print(y)"
   ]
  },
  {
   "cell_type": "markdown",
   "metadata": {},
   "source": [
    "### Special methods for overloading arithmetic operations\n",
    "\n",
    "```python\n",
    "c=a+b               # c = a.__add__(b)  \n",
    "c=a-b               # c = a.__sub__(b)  \n",
    "c = a*b             # c = a.__mul__(b)  \n",
    "c = a/b             # c = a.__div__(b)  \n",
    "c = a**e            # c = a.__pow__(e)\n",
    "```"
   ]
  },
  {
   "cell_type": "markdown",
   "metadata": {},
   "source": [
    "### Special methods for overloading conditional operations\n",
    "\n",
    "```python\n",
    "a == b               #  a.__eq__(b)  \n",
    "a != b               #  a.__ne__(b)  \n",
    "a < b                #  a.__lt__(b)  \n",
    "a <= b               #  a.__le__(b)  \n",
    "a > b                #  a.__gt__(b)  \n",
    "a >= b               #  a.__ge__(b)\n",
    "```"
   ]
  },
  {
   "cell_type": "code",
   "execution_count": null,
   "metadata": {
    "execution": {
     "iopub.execute_input": "2021-08-03T20:20:19.239224Z",
     "iopub.status.busy": "2021-08-03T20:20:19.238815Z",
     "iopub.status.idle": "2021-08-03T20:20:19.332969Z",
     "shell.execute_reply": "2021-08-03T20:20:19.324867Z"
    },
    "tags": [
     "okpy"
    ]
   },
   "outputs": [],
   "source": [
    "ok.score()"
   ]
  }
 ],
 "metadata": {
  "celltoolbar": "Tags",
  "kernelspec": {
   "display_name": "Python 3",
   "language": "python",
   "name": "python3"
  },
  "language_info": {
   "codemirror_mode": {
    "name": "ipython",
    "version": 3
   },
   "file_extension": ".py",
   "mimetype": "text/x-python",
   "name": "python",
   "nbconvert_exporter": "python",
   "pygments_lexer": "ipython3",
   "version": "3.8.11"
  }
 },
 "nbformat": 4,
 "nbformat_minor": 4
}
