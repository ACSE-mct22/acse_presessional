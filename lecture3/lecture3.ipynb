{
 "cells": [
  {
   "cell_type": "code",
   "execution_count": null,
   "metadata": {
    "execution": {
     "iopub.execute_input": "2021-07-16T09:01:40.613054Z",
     "iopub.status.busy": "2021-07-16T09:01:40.612514Z",
     "iopub.status.idle": "2021-07-16T09:01:41.143737Z",
     "shell.execute_reply": "2021-07-16T09:01:41.143221Z"
    }
   },
   "outputs": [],
   "source": [
    "import pybryt\n",
    "from lecture import ok, pybryt_reference"
   ]
  },
  {
   "cell_type": "markdown",
   "metadata": {
    "slideshow": {
     "slide_type": "slide"
    }
   },
   "source": [
    "# Introduction to programming in Python\n",
    "\n",
    "# Lecture 3"
   ]
  },
  {
   "cell_type": "markdown",
   "metadata": {
    "slideshow": {
     "slide_type": "slide"
    }
   },
   "source": [
    "Learning objectives:\n",
    "\n",
    "* Learn how to plot 2D graphs.\n",
    "* Read data from files.\n",
    "* Catch run-time errors and handle them gracefully rather than letting the program simply fail.\n",
    "* Parse strings to extract specific data of interest.\n",
    "* Use dictionaries to index data using any type of key."
   ]
  },
  {
   "cell_type": "markdown",
   "metadata": {},
   "source": [
    "## Plotting curves - the basics\n",
    "\n",
    "If you have programmed in Python before, or when you start looking at coding examples online, you will notice a few different modules that you can import to enable you to accomplish more or less the same objective. The three most common are [matplotlib](https://matplotlib.org/index.html), [pyplot](https://matplotlib.org/api/pyplot_api.html), and pylab. We will leave it to you to read the [official documentation to see how these three are related](https://matplotlib.org/faq/usage_faq.html#matplotlib-pyplot-and-pylab-how-are-they-related). For this lecture series, we will be importing `matplotlib.pyplot` as `plt` so that it is always clear from where each function call is coming.\n",
    "\n",
    "Let us start with a simple example by plotting the function $$y = t^2e^{-t^2}.$$"
   ]
  },
  {
   "cell_type": "code",
   "execution_count": null,
   "metadata": {
    "execution": {
     "iopub.execute_input": "2021-07-16T09:01:41.148382Z",
     "iopub.status.busy": "2021-07-16T09:01:41.147548Z",
     "iopub.status.idle": "2021-07-16T09:01:41.534190Z",
     "shell.execute_reply": "2021-07-16T09:01:41.533437Z"
    }
   },
   "outputs": [],
   "source": [
    "import numpy as np\n",
    "import matplotlib.pyplot as plt\n",
    "\n",
    "t = np.linspace(0, 3, 51)\n",
    "y = t**2 * np.exp(-t**2)\n",
    "plt.plot(t, y)\n",
    "plt.show()"
   ]
  },
  {
   "cell_type": "markdown",
   "metadata": {},
   "source": [
    "Plots also should have *labels* on the axis, a *title*, and sometimes a specific extent of the axis (perhaps you wish to easily compare two graphs side-by-side):"
   ]
  },
  {
   "cell_type": "code",
   "execution_count": null,
   "metadata": {
    "execution": {
     "iopub.execute_input": "2021-07-16T09:01:41.554732Z",
     "iopub.status.busy": "2021-07-16T09:01:41.552780Z",
     "iopub.status.idle": "2021-07-16T09:01:41.814170Z",
     "shell.execute_reply": "2021-07-16T09:01:41.813667Z"
    }
   },
   "outputs": [],
   "source": [
    "def f(t):\n",
    "    return t**2 * np.exp(-t**2)\n",
    "\n",
    "\n",
    "t = np.linspace(0, 3, 51)  # Generates 51 points between 0 and 3.\n",
    "y = f(t)\n",
    "plt.plot(t, y)\n",
    "\n",
    "# For added awesomeness you can use LaTeX syntax.\n",
    "plt.legend((r'$t^2\\exp(-t^2)$',))\n",
    "\n",
    "# Label the axes.\n",
    "plt.xlabel(r'$t$')\n",
    "plt.ylabel(r'$y$')\n",
    "\n",
    "# Specify the extent of the axes [tmin, tmax, ymin, ymax].\n",
    "plt.axis([0, 3, -0.05, 0.6])\n",
    "\n",
    "# Set the plot title.\n",
    "plt.title('My second graph')\n",
    "\n",
    "plt.show()"
   ]
  },
  {
   "cell_type": "markdown",
   "metadata": {},
   "source": [
    "## Exercise 3.1: Plot a formula\n",
    "\n",
    "> NOTE: We have found that automated assessment is too unreliable for assessing plots. For feedback on the plots compare with your peers or ask one of the TAs to give you feedback.\n",
    "\n",
    "Make a plot of the function $$y(t) = v_0t − {1\\over2}gt^2$$ for $v_0 = 10 \\,\\text{ms}^{-1}$, $g = 9.81 \\,\\text{ms}^{-2}$, and $t \\in [0, 2v_0/g]$. The label on the $x$ axis should be 'time (s)' and the label on the $y$ axis should be 'height (m)'."
   ]
  },
  {
   "cell_type": "code",
   "execution_count": null,
   "metadata": {
    "execution": {
     "iopub.execute_input": "2021-07-16T09:01:41.818163Z",
     "iopub.status.busy": "2021-07-16T09:01:41.817640Z",
     "iopub.status.idle": "2021-07-16T09:01:41.821066Z",
     "shell.execute_reply": "2021-07-16T09:01:41.820638Z"
    }
   },
   "outputs": [],
   "source": [
    "# Write your code here."
   ]
  },
  {
   "cell_type": "markdown",
   "metadata": {},
   "source": [
    "## Exercise 3.2: Plot another formula\n",
    "\n",
    "The function\n",
    "\n",
    "$$f(x, t) = e^{-(x - 3t)^2}\\sin(3\\pi(x - t))$$\n",
    "\n",
    "describes, for a fixed value of $t$, a wave localised in space. Write a program that visualises this function as a function of $x$ on the interval $[−4, 4]$ when $t = 0$."
   ]
  },
  {
   "cell_type": "code",
   "execution_count": null,
   "metadata": {
    "execution": {
     "iopub.execute_input": "2021-07-16T09:01:41.958341Z",
     "iopub.status.busy": "2021-07-16T09:01:41.957665Z",
     "iopub.status.idle": "2021-07-16T09:01:41.959896Z",
     "shell.execute_reply": "2021-07-16T09:01:41.960301Z"
    }
   },
   "outputs": [],
   "source": [
    "# Write your code here."
   ]
  },
  {
   "cell_type": "markdown",
   "metadata": {},
   "source": [
    "## Multiple curves in the same plot\n",
    "\n",
    "We can also plot several curves in one plot:"
   ]
  },
  {
   "cell_type": "code",
   "execution_count": null,
   "metadata": {
    "execution": {
     "iopub.execute_input": "2021-07-16T09:01:42.143101Z",
     "iopub.status.busy": "2021-07-16T09:01:42.130605Z",
     "iopub.status.idle": "2021-07-16T09:01:42.304748Z",
     "shell.execute_reply": "2021-07-16T09:01:42.305211Z"
    }
   },
   "outputs": [],
   "source": [
    "def f1(t):\n",
    "    return t**2 * np.exp(-t**2)\n",
    "\n",
    "\n",
    "def f2(t):\n",
    "    return t**2 * f1(t)\n",
    "\n",
    "\n",
    "t = np.linspace(0, 3, 51)\n",
    "y1 = f1(t)\n",
    "y2 = f2(t)\n",
    "\n",
    "plt.plot(t, y1, label=r'$t^2\\exp(-t^2)$')\n",
    "plt.plot(t, y2, label=r'$t^4\\exp(-t^2)$')\n",
    "plt.legend(loc='best')  # uses labels we defined previously\n",
    "plt.xlabel('$t$')\n",
    "plt.ylabel('$y$')\n",
    "plt.title('Plotting two curves in the same plot')\n",
    "\n",
    "plt.show()"
   ]
  },
  {
   "cell_type": "markdown",
   "metadata": {},
   "source": [
    "When plotting multiple curves in the same plot, PyLab usually does a good job of making sure that the different lines look different. However, sometimes you need to take action yourself (e.g. if you need to print your graph out in black&white). To do this, we can add an extra argument to the plot command, where we specify what we want - e.g. `r-` means a *red line*, while `bo` means *blue circles*:"
   ]
  },
  {
   "cell_type": "code",
   "execution_count": null,
   "metadata": {
    "execution": {
     "iopub.execute_input": "2021-07-16T09:01:42.348346Z",
     "iopub.status.busy": "2021-07-16T09:01:42.323622Z",
     "iopub.status.idle": "2021-07-16T09:01:42.427946Z",
     "shell.execute_reply": "2021-07-16T09:01:42.426871Z"
    }
   },
   "outputs": [],
   "source": [
    "plt.plot(t, y1, 'r-')\n",
    "plt.plot(t, y2, 'bo')\n",
    "plt.show()"
   ]
  },
  {
   "cell_type": "markdown",
   "metadata": {},
   "source": [
    "For further examples check out the [matplotlib](https://matplotlib.org/) documentation."
   ]
  },
  {
   "cell_type": "markdown",
   "metadata": {},
   "source": [
    "## Exercise 3.3: Plot a formula for several parameters\n",
    "\n",
    "Write a program in which you generate 10 uniformly spaced values for $v_0$ range from 1 to 20, and plot the function $y(t) = v_0t − \\frac{1}{2}gt^2$ within the time range $t \\in [0, 2v_0/g]$. Assume $g = 9.81 \\,\\text{ms}^{-2}$."
   ]
  },
  {
   "cell_type": "code",
   "execution_count": null,
   "metadata": {
    "execution": {
     "iopub.execute_input": "2021-07-16T09:01:42.431582Z",
     "iopub.status.busy": "2021-07-16T09:01:42.431078Z",
     "iopub.status.idle": "2021-07-16T09:01:42.434530Z",
     "shell.execute_reply": "2021-07-16T09:01:42.434074Z"
    }
   },
   "outputs": [],
   "source": [
    "# Write your code here."
   ]
  },
  {
   "cell_type": "markdown",
   "metadata": {
    "slideshow": {
     "slide_type": "slide"
    }
   },
   "source": [
    "## Handling errors gracefully\n",
    "\n",
    "We expect you have seen plenty of run-time errors. When an error occurs, an *exception* is *raised*. These exceptions tend to be very specific, and it is worth familiarizing yourself with them by reading the [relevant section](https://docs.python.org/3/library/exceptions.html#concrete-exceptions) from Python's documentation.\n",
    "\n",
    "Let us take a look at an example of an out of bounds reference - this raises an exception called an `IndexError`.\n",
    "\n",
    "```python \n",
    "places_to_visit = (\"Pompeii\",\n",
    "                   \"Fernanda de Noronha\",\n",
    "                   \"Dolomites\",\n",
    "                   \"Bourbon Street\")\n",
    "print(places_to_visit[4])\n",
    "\n",
    "---------------------------------------------------------------------------\n",
    "IndexError                                Traceback (most recent call last)\n",
    "<ipython-input-6-6a516db87396> in <module>()\n",
    "      1 places_to_visit = (\"Pompeii\", \"Fernanda de Noronha\", \"Dolomites\", \"Bourbon Street\")\n",
    "      2 option = 4 # lets assume that the user has given the input option 4\n",
    "----> 3 print(places_to_visit[option])\n",
    "\n",
    "IndexError: tuple index out of range\n",
    "```"
   ]
  },
  {
   "cell_type": "markdown",
   "metadata": {
    "slideshow": {
     "slide_type": "subslide"
    }
   },
   "source": [
    "Here we have an `IndexError` (i.e. a reference out-of-bounds) with the clarification that it is the **tuple index out of range**.\n",
    "\n",
    "The general way we deal with this issue in Python (and in many other programming languages) is to try to do what we indend to, and if it fails, we recover from the error. This is implemented using the `try`-`except` block:\n",
    "```python\n",
    "try:\n",
    "    <statements we indend to do>\n",
    "except:\n",
    "    <statements for handling errors>\n",
    "```"
   ]
  },
  {
   "cell_type": "markdown",
   "metadata": {
    "slideshow": {
     "slide_type": "subslide"
    }
   },
   "source": [
    "If something goes wrong in the `try` block, Python raises an **exception**, and the execution jumps immediately to the `except` block. If you use an `except` by itself as above, then it will catch all exceptions raised, but this is generally considered bad practice as it can hide errors that you might not have anticipated - the last thing we want is to hide a bug!\n",
    "\n",
    "Let us try an example:"
   ]
  },
  {
   "cell_type": "code",
   "execution_count": null,
   "metadata": {
    "execution": {
     "iopub.execute_input": "2021-07-16T09:01:42.603939Z",
     "iopub.status.busy": "2021-07-16T09:01:42.603402Z",
     "iopub.status.idle": "2021-07-16T09:01:42.607965Z",
     "shell.execute_reply": "2021-07-16T09:01:42.607534Z"
    },
    "slideshow": {
     "slide_type": "subslide"
    }
   },
   "outputs": [],
   "source": [
    "def get_location(index):\n",
    "    places_to_visit = (\"Pompeii\",\n",
    "                       \"Fernanda de Noronha\",\n",
    "                       \"Dolomites\",\n",
    "                       \"Bourbon Street\")\n",
    "\n",
    "    try:\n",
    "        return places_to_visit[index]\n",
    "    except TypeError:\n",
    "        raise TypeError(\"The index should be an integer.\")\n",
    "    except IndexError:\n",
    "        raise IndexError(\"Values must be between 0-3.\")\n",
    "\n",
    "    return None\n",
    "\n",
    "\n",
    "print(\"Test case 1: \", get_location(1))"
   ]
  },
  {
   "cell_type": "markdown",
   "metadata": {},
   "source": [
    "If we pass 4 as an argument, an `IndexError` is raised.\n",
    "\n",
    "```python\n",
    "print(\"Test case 2: \", get_location(4))\n",
    "\n",
    "---------------------------------------------------------------------------\n",
    "IndexError                                Traceback (most recent call last)\n",
    "<ipython-input-9-9d82aff2337b> in get_location(index)\n",
    "      7     try:\n",
    "----> 8         return places_to_visit[index]\n",
    "      9     except TypeError:\n",
    "\n",
    "IndexError: tuple index out of range\n",
    "\n",
    "During handling of the above exception, another exception occurred:\n",
    "\n",
    "IndexError                                Traceback (most recent call last)\n",
    "<ipython-input-10-baa17f0505ab> in <module>()\n",
    "      1 # If we pass in 4 as an argument, an *IndexError* ia raised.\n",
    "----> 2 print(\"Test case 2: \", get_location(4))\n",
    "\n",
    "<ipython-input-9-9d82aff2337b> in get_location(index)\n",
    "     10         raise TypeError(\"The index should be an integer.\")\n",
    "     11     except IndexError:\n",
    "---> 12         raise IndexError(\"Values must be between 0-3.\")\n",
    "     13 \n",
    "     14     return None\n",
    "\n",
    "IndexError: Values must be between 0-3.\n",
    "```"
   ]
  },
  {
   "cell_type": "markdown",
   "metadata": {},
   "source": [
    "In the above example the expected input is an integer. If the user types a string, *e.g.*, `\"four\"`, then a `TypeError` is raised, and the approperiate `except`-block is executed.\n",
    "\n",
    "```python\n",
    "print(\"Test case 3: \", get_location(\"four\"))\n",
    "\n",
    "---------------------------------------------------------------------------\n",
    "TypeError                                 Traceback (most recent call last)\n",
    "<ipython-input-9-9d82aff2337b> in get_location(index)\n",
    "      7     try:\n",
    "----> 8         return places_to_visit[index]\n",
    "      9     except TypeError:\n",
    "\n",
    "TypeError: tuple indices must be integers or slices, not str\n",
    "\n",
    "During handling of the above exception, another exception occurred:\n",
    "\n",
    "TypeError                                 Traceback (most recent call last)\n",
    "<ipython-input-10-a8af82536957> in <module>()\n",
    "      2 # If the user types a string, e.g. \"four\", then a **TypeError** is raised,\n",
    "      3 # and the approperiate except block is executed.\n",
    "----> 4 print(\"Test case 3: \", get_location(\"four\"))\n",
    "\n",
    "<ipython-input-9-9d82aff2337b> in get_location(index)\n",
    "      8         return places_to_visit[index]\n",
    "      9     except TypeError:\n",
    "---> 10         raise TypeError(\"The index should be an integer.\")\n",
    "     11     except IndexError:\n",
    "     12         raise IndexError(\"Values must be between 0-3.\")\n",
    "\n",
    "TypeError: The index should be an integer.\n",
    "```"
   ]
  },
  {
   "cell_type": "markdown",
   "metadata": {
    "slideshow": {
     "slide_type": "subslide"
    }
   },
   "source": [
    "This is still not perfect. What happens if you enter -1?"
   ]
  },
  {
   "cell_type": "code",
   "execution_count": null,
   "metadata": {
    "execution": {
     "iopub.execute_input": "2021-07-16T09:01:42.611778Z",
     "iopub.status.busy": "2021-07-16T09:01:42.611263Z",
     "iopub.status.idle": "2021-07-16T09:01:42.618752Z",
     "shell.execute_reply": "2021-07-16T09:01:42.619142Z"
    }
   },
   "outputs": [],
   "source": [
    "print(\"Test case 4: \", get_location(-1))"
   ]
  },
  {
   "cell_type": "markdown",
   "metadata": {
    "slideshow": {
     "slide_type": "subslide"
    }
   },
   "source": [
    "Recall that negative indices traverse the list from the end to the beginning. We can deal with this issue more elegantly/robustly if we **raise** our own error:"
   ]
  },
  {
   "cell_type": "code",
   "execution_count": null,
   "metadata": {
    "execution": {
     "iopub.execute_input": "2021-07-16T09:01:42.623781Z",
     "iopub.status.busy": "2021-07-16T09:01:42.623263Z",
     "iopub.status.idle": "2021-07-16T09:01:42.626902Z",
     "shell.execute_reply": "2021-07-16T09:01:42.626451Z"
    },
    "slideshow": {
     "slide_type": "fragment"
    }
   },
   "outputs": [],
   "source": [
    "def get_location(index):\n",
    "    places_to_visit = (\"Pompeii\",\n",
    "                       \"Fernanda de Noronha\",\n",
    "                       \"Dolomites\",\n",
    "                       \"Bourbon Street\")\n",
    "\n",
    "    try:\n",
    "        if not 0 <= index < len(places_to_visit):\n",
    "            raise IndexError\n",
    "\n",
    "        return places_to_visit[index]\n",
    "    except TypeError:\n",
    "        raise TypeError(\"The index should be an integer.\")\n",
    "    except IndexError:\n",
    "        raise IndexError(\"Values must be between 0-3.\")\n",
    "\n",
    "    return None"
   ]
  },
  {
   "cell_type": "markdown",
   "metadata": {
    "slideshow": {
     "slide_type": "fragment"
    }
   },
   "source": [
    "```python\n",
    "print(\"Test case 5: \", get_location(-1))\n",
    "\n",
    "---------------------------------------------------------------------------\n",
    "IndexError                                Traceback (most recent call last)\n",
    "<ipython-input-11-d29b7f03e343> in get_location(index)\n",
    "      8         if not 0 <= index < len(places_to_visit):\n",
    "----> 9             raise IndexError\n",
    "     10 \n",
    "\n",
    "IndexError: \n",
    "\n",
    "During handling of the above exception, another exception occurred:\n",
    "\n",
    "IndexError                                Traceback (most recent call last)\n",
    "<ipython-input-11-d29b7f03e343> in <module>()\n",
    "     17     return None\n",
    "     18 \n",
    "---> 19 print(\"Test case 5: \", get_location(-1))\n",
    "\n",
    "<ipython-input-11-d29b7f03e343> in get_location(index)\n",
    "     13         raise TypeError(\"The index should be an integer.\")\n",
    "     14     except IndexError:\n",
    "---> 15         raise IndexError(\"Values must be between 0-3.\")\n",
    "     16 \n",
    "     17     return None\n",
    "\n",
    "IndexError: Values must be between 0-3.\n",
    "```"
   ]
  },
  {
   "cell_type": "markdown",
   "metadata": {
    "slideshow": {
     "slide_type": "slide"
    }
   },
   "source": [
    "## Exercise 3.4: Test more in the program\n",
    "\n",
    "Consider the equation of motion in exercise 3.1.\n",
    "\n",
    "* Implement this as a Python function - call the function `displacement` and specify two positional arguments $t$ and $v_0$ and one keyword argument $g = 9.81\\,\\text{ms}^{-2}$.\n",
    "* The function should raise a `ValueError` if either $t$ or $v_0$ are negative."
   ]
  },
  {
   "cell_type": "code",
   "execution_count": null,
   "metadata": {
    "execution": {
     "iopub.execute_input": "2021-07-16T09:01:42.630237Z",
     "iopub.status.busy": "2021-07-16T09:01:42.629722Z",
     "iopub.status.idle": "2021-07-16T09:01:42.633296Z",
     "shell.execute_reply": "2021-07-16T09:01:42.632854Z"
    },
    "slideshow": {
     "slide_type": "subslide"
    }
   },
   "outputs": [],
   "source": [
    "# Uncomment and modify the code below. Do not change variable names for testing purposes.\n",
    "\n",
    "# def displacement(t, v0, g=9.81):\n",
    "#     ..."
   ]
  },
  {
   "cell_type": "code",
   "execution_count": null,
   "metadata": {
    "execution": {
     "iopub.execute_input": "2021-07-16T09:01:42.643643Z",
     "iopub.status.busy": "2021-07-16T09:01:42.643136Z",
     "iopub.status.idle": "2021-07-16T09:01:42.653443Z",
     "shell.execute_reply": "2021-07-16T09:01:42.653028Z"
    },
    "tags": [
     "pybryt"
    ]
   },
   "outputs": [],
   "source": [
    "with pybryt.check(pybryt_reference(3, 4)):\n",
    "    displacement(t=1.6, v0=101.4)"
   ]
  },
  {
   "cell_type": "code",
   "execution_count": null,
   "metadata": {
    "execution": {
     "iopub.execute_input": "2021-07-16T09:01:42.656963Z",
     "iopub.status.busy": "2021-07-16T09:01:42.656463Z",
     "iopub.status.idle": "2021-07-16T09:01:42.746916Z",
     "shell.execute_reply": "2021-07-16T09:01:42.746451Z"
    },
    "tags": [
     "okpy"
    ]
   },
   "outputs": [],
   "source": [
    "ok.grade('exercise-3_4')"
   ]
  },
  {
   "cell_type": "markdown",
   "metadata": {},
   "source": [
    "## Exercise 3.5: Implement the factorial function with exception handling\n",
    "\n",
    "The factorial of $n$, written as $n!$, is defined as\n",
    "\n",
    "$$n! = n(n − 1)(n − 2) \\cdot \\ldots \\cdot 2 \\cdot 1,$$\n",
    "\n",
    "with the special cases\n",
    "\n",
    "$$1! = 1,$$ $$0! = 1.$$\n",
    "\n",
    "For example, $4! = 4 \\cdot 3 \\cdot 2 \\cdot 1 = 24$, and $2! = 2 \\cdot 1 = 2$.\n",
    "\n",
    "Implement your own factorial function to calculate $n!$ and name it `my_factorial`. Return $1$ immediately if $n$ is $1$ or $0$, otherwise use a loop to compute $n!$. You can use Python's own [math.factorial(x)](https://docs.python.org/3/library/math.html) to check your code.\n",
    "\n",
    "If negative $n$ is passed, `ValueError` should be raised."
   ]
  },
  {
   "cell_type": "code",
   "execution_count": null,
   "metadata": {
    "execution": {
     "iopub.execute_input": "2021-07-16T09:01:42.810865Z",
     "iopub.status.busy": "2021-07-16T09:01:42.810346Z",
     "iopub.status.idle": "2021-07-16T09:01:42.813802Z",
     "shell.execute_reply": "2021-07-16T09:01:42.813305Z"
    }
   },
   "outputs": [],
   "source": [
    "# Uncomment and complete this code - keep the names the same for testing purposes.\n",
    "\n",
    "# def my_factorial(x):\n",
    "#     ..."
   ]
  },
  {
   "cell_type": "code",
   "execution_count": null,
   "metadata": {
    "execution": {
     "iopub.execute_input": "2021-07-16T09:01:42.824491Z",
     "iopub.status.busy": "2021-07-16T09:01:42.823995Z",
     "iopub.status.idle": "2021-07-16T09:01:42.840125Z",
     "shell.execute_reply": "2021-07-16T09:01:42.839678Z"
    },
    "tags": [
     "pybryt"
    ]
   },
   "outputs": [],
   "source": [
    "with pybryt.check(pybryt_reference(3, 5)):\n",
    "    my_factorial(10)"
   ]
  },
  {
   "cell_type": "code",
   "execution_count": null,
   "metadata": {
    "execution": {
     "iopub.execute_input": "2021-07-16T09:01:42.845703Z",
     "iopub.status.busy": "2021-07-16T09:01:42.845150Z",
     "iopub.status.idle": "2021-07-16T09:01:42.871651Z",
     "shell.execute_reply": "2021-07-16T09:01:42.871219Z"
    },
    "tags": [
     "okpy"
    ]
   },
   "outputs": [],
   "source": [
    "ok.grade('exercise-3_5')"
   ]
  },
  {
   "cell_type": "markdown",
   "metadata": {},
   "source": [
    "## Exercise 3.6: Wave speed\n",
    "\n",
    "The longitudinal wave velocity in a material is given by the equation:\n",
    "\n",
    "$$V_p = \\sqrt{\\frac{k+4\\mu/3}{\\rho}},$$\n",
    "\n",
    "where $V_p$ is the longitudinal wave velocity, $k$ is the bulk modulus, $\\mu$ is the shear modulus, and $\\rho$ is the density. The shear wave velocity $V_s$ is given by the equation:\n",
    "$$V_s = \\sqrt{\\frac{\\mu}{\\rho}}.$$\n",
    "\n",
    "1. Write a function that takes as arguments $k$, $\\mu$ and $\\rho$, and returns $V_p$ and $V_s$.\n",
    "2. Ensure your function raises a `ValueError` if any of the input arguments have a non-physical value (i.e. it cannot have negative density).\n",
    "\n",
    "| Material               | Shear modulus (GPa) | Bulk modulus (GPa) | Density (kg/m^3)|\n",
    "|------------------------|---------------------|--------------------|-----------------|\n",
    "|Quartz                  | 44                  | 38                 | 2650            | \n",
    "|Clay                    | 6.85                | 20.9               | 2580            |\n",
    "|Water                   | 0                   | 2.29               | 1000            |\n",
    "\n",
    "**HINT**: Notice that $k$ and $\\mu$ are in GPa and that the unit conversion is required."
   ]
  },
  {
   "cell_type": "code",
   "execution_count": null,
   "metadata": {
    "execution": {
     "iopub.execute_input": "2021-07-16T09:01:42.882690Z",
     "iopub.status.busy": "2021-07-16T09:01:42.882177Z",
     "iopub.status.idle": "2021-07-16T09:01:42.885497Z",
     "shell.execute_reply": "2021-07-16T09:01:42.885071Z"
    }
   },
   "outputs": [],
   "source": [
    "# Uncomment and complete this code - keep the names the same for testing purposes.\n",
    "\n",
    "# def calc_material_velocity(mu, k, rho):\n",
    "#     ...\n",
    "#     return vp, vs"
   ]
  },
  {
   "cell_type": "code",
   "execution_count": null,
   "metadata": {
    "execution": {
     "iopub.execute_input": "2021-07-16T09:01:42.896976Z",
     "iopub.status.busy": "2021-07-16T09:01:42.896186Z",
     "iopub.status.idle": "2021-07-16T09:01:42.905234Z",
     "shell.execute_reply": "2021-07-16T09:01:42.904783Z"
    },
    "tags": [
     "pybryt"
    ]
   },
   "outputs": [],
   "source": [
    "with pybryt.check(pybryt_reference(3, 6)):\n",
    "    calc_material_velocity(1.4e9, 2.4e9, 3.6e3)"
   ]
  },
  {
   "cell_type": "code",
   "execution_count": null,
   "metadata": {
    "execution": {
     "iopub.execute_input": "2021-07-16T09:01:42.909145Z",
     "iopub.status.busy": "2021-07-16T09:01:42.908637Z",
     "iopub.status.idle": "2021-07-16T09:01:42.936209Z",
     "shell.execute_reply": "2021-07-16T09:01:42.936608Z"
    },
    "tags": [
     "okpy"
    ]
   },
   "outputs": [],
   "source": [
    "ok.grade('exercise-3_6')"
   ]
  },
  {
   "cell_type": "markdown",
   "metadata": {},
   "source": [
    "## Reading data from a plain text file\n",
    "\n",
    "We can read text from a [text file](http://en.wikipedia.org/wiki/Text_file) into strings in a program. This is a common (and simple) way for a program to get input data. The basic recipe is:\n",
    "```python\n",
    "# Open text file\n",
    "infile = open(\"myfile.txt\", \"r\")  # \"r\" specifies that we are opening the file for reading\n",
    "\n",
    "# Read next line:\n",
    "line = infile.readline()\n",
    "\n",
    "# Read the lines in a loop one by one:\n",
    "for line in infile:\n",
    "    <process line>\n",
    "\n",
    "# Load all lines into a list of strings:\n",
    "lines = infile.readlines()\n",
    "for line in lines:\n",
    "    <process line>\n",
    "```"
   ]
  },
  {
   "cell_type": "markdown",
   "metadata": {},
   "source": [
    "Let us look at the file [`./data/data1.txt`](./data/data1.txt) (all of the data files in this lecture are stored in the sub-folder `data/` of this notebook directory). The files has a column of numbers:\n",
    "\n",
    "```\n",
    "21.8\n",
    "18.1\n",
    "19\n",
    "23\n",
    "26\n",
    "17.8\n",
    "```"
   ]
  },
  {
   "cell_type": "markdown",
   "metadata": {},
   "source": [
    "The goal is to read this file and calculate the mean:"
   ]
  },
  {
   "cell_type": "code",
   "execution_count": null,
   "metadata": {
    "execution": {
     "iopub.execute_input": "2021-07-16T09:01:42.951457Z",
     "iopub.status.busy": "2021-07-16T09:01:42.950927Z",
     "iopub.status.idle": "2021-07-16T09:01:42.954427Z",
     "shell.execute_reply": "2021-07-16T09:01:42.953974Z"
    }
   },
   "outputs": [],
   "source": [
    "# Open data file\n",
    "infile = open(\"data/data1.txt\", \"r\")\n",
    "\n",
    "# Initialise values\n",
    "s = 0\n",
    "n = 0\n",
    "\n",
    "# Loop to compute sum\n",
    "for number in infile:\n",
    "    number = float(number)  # convert string to float\n",
    "    s += number\n",
    "    n += 1\n",
    "\n",
    "# It is good practice to close the file when you are finished.\n",
    "infile.close()\n",
    "\n",
    "# Calculate the mean.\n",
    "mean = s/n\n",
    "\n",
    "print(mean)"
   ]
  },
  {
   "cell_type": "markdown",
   "metadata": {},
   "source": [
    "Let us make this example more interesting. There is a **lot** of data out there for you to discover all kinds of interesting facts - you just need to be interested in learning a little analysis. For this case we have downloaded tidal gauge data for the port of Avonmouth from the [BODC](http://www.bodc.ac.uk/). Take some time now to open the file and have a look through it - [data/2012AVO.txt](data/2012AVO.txt) you will see the [metadata](http://en.wikipedia.org/wiki/Metadata):\n",
    "```\n",
    "Port:              P060  \n",
    "Site:              Avonmouth  \n",
    "Latitude:          51.51089  \n",
    "Longitude:         -2.71497  \n",
    "Start Date:        01JAN2012-00.00.00  \n",
    "End Date:          30APR2012-23.45.00  \n",
    "Contributor:       National Oceanography Centre, Liverpool  \n",
    "Datum information: The data refer to Admiralty Chart Datum (ACD)  \n",
    "Parameter code:    ASLVTD02 = Surface elevation (unspecified datum) of the water body by fixed in-situ pressure sensor\n",
    "```"
   ]
  },
  {
   "cell_type": "markdown",
   "metadata": {},
   "source": [
    "Let us read the column ASLVTD02 (the surface elevation) and plot it:"
   ]
  },
  {
   "cell_type": "code",
   "execution_count": null,
   "metadata": {
    "execution": {
     "iopub.execute_input": "2021-07-16T09:01:42.960497Z",
     "iopub.status.busy": "2021-07-16T09:01:42.959949Z",
     "iopub.status.idle": "2021-07-16T09:01:43.262537Z",
     "shell.execute_reply": "2021-07-16T09:01:43.262063Z"
    }
   },
   "outputs": [],
   "source": [
    "import matplotlib.pyplot as plt\n",
    "import pendulum\n",
    "import numpy as np\n",
    "\n",
    "tide_file = open(\"data/2012AVO.txt\", \"r\")\n",
    "\n",
    "# Initialise an empty list to store the elevation\n",
    "elevation = []\n",
    "time = []\n",
    "\n",
    "for line in tide_file:\n",
    "    # Here we use a try/except block to try to read the data and\n",
    "    # raise an exception if we fail to parse the data in a line\n",
    "    # for some reason. This is a neat trick to skip over all the\n",
    "    # header information.\n",
    "    try:\n",
    "        # Split this line into words.\n",
    "        words = line.split()\n",
    "\n",
    "        # If we do not have 5 words then the line must be part of the header.\n",
    "        if len(words) != 5:\n",
    "            raise ValueError\n",
    "\n",
    "        # The elevation data is in the 4th column. However, the BODC\n",
    "        # appends a \"M\" when a value is improbable and an \"N\" when\n",
    "        # data is missing (maybe a ship dumped into it during rough weather!)\n",
    "        # As we are in a try/except block, an error will be raised\n",
    "        # in the float conversion when this situation arises.\n",
    "        level = float(words[3])\n",
    "        elevation.append(level)\n",
    "\n",
    "        # Form a single string with the date and time.\n",
    "        date_time = ' '.join(words[1:3])\n",
    "\n",
    "        # Dealing with dates and time is a major pain as there are\n",
    "        # several different formats. Luckily there are lots of people\n",
    "        # out there writting libraries that are making your life easier.\n",
    "        # At the moment the Python library *pendulum* seems to be the\n",
    "        # best out there for parsing various different date and time\n",
    "        # formats and is pretty easy to use.\n",
    "        date_time = pendulum.parse(date_time)\n",
    "\n",
    "        # So that we can plot this we are going to convert this date\n",
    "        # and time into a POSIX timestamp (aka UNIX Epoch time):\n",
    "        # https://en.wikipedia.org/wiki/Unix_time\n",
    "        time.append(date_time.timestamp())\n",
    "    except ValueError:\n",
    "        pass\n",
    "\n",
    "# For plotting lets convert the list to a NumPy array.\n",
    "elevation = np.array(elevation)\n",
    "time = np.array(time)\n",
    "\n",
    "plt.plot(time, elevation)\n",
    "plt.xlabel(\"timestamp\")\n",
    "plt.ylabel(\"Elevation (meters)\")\n",
    "plt.show()"
   ]
  },
  {
   "cell_type": "markdown",
   "metadata": {},
   "source": [
    "You will notice in the above example that we used the `split()` string member function. This is a very useful function for grabbing individual words on a line. When called without any arguments it assumes that the [delimiter](http://en.wikipedia.org/wiki/Delimiter) is a blank space. However, you can use this to split a string with any delimiter, e.g. `line.split(';')` or `line.split(':')`."
   ]
  },
  {
   "cell_type": "markdown",
   "metadata": {},
   "source": [
    "## Exercise 3.7: Read a two-column data file\n",
    "\n",
    "The file [data/xy.dat](./data/xy.dat) contains two columns of numbers, corresponding to $x$ and $y$ coordinates on a curve. The start of the file looks like this:\n",
    "```\n",
    "-1.0000   -0.0000  \n",
    "-0.9933   -0.0087  \n",
    "-0.9867   -0.0179  \n",
    "-0.9800   -0.0274  \n",
    "-0.9733   -0.0374\n",
    "```\n",
    "Make a program that reads the first column into a list `xlist` and the second column into a list `ylist`. Then convert the lists to arrays named `xarray` and `yarray`. Store the maximum and minimum y coordinates in two variables named `ymin` and `ymax`.\n",
    "\n",
    "**Hint**: Read the file line by line, split each line into words, convert to float, and append to `xlist` and `ylist`."
   ]
  },
  {
   "cell_type": "code",
   "execution_count": null,
   "metadata": {
    "execution": {
     "iopub.execute_input": "2021-07-16T09:01:43.266877Z",
     "iopub.status.busy": "2021-07-16T09:01:43.265747Z",
     "iopub.status.idle": "2021-07-16T09:01:43.267461Z",
     "shell.execute_reply": "2021-07-16T09:01:43.267866Z"
    }
   },
   "outputs": [],
   "source": [
    "# Write your code here."
   ]
  },
  {
   "cell_type": "code",
   "execution_count": null,
   "metadata": {
    "execution": {
     "iopub.execute_input": "2021-07-16T09:01:43.280112Z",
     "iopub.status.busy": "2021-07-16T09:01:43.279608Z",
     "iopub.status.idle": "2021-07-16T09:01:43.299457Z",
     "shell.execute_reply": "2021-07-16T09:01:43.299032Z"
    },
    "tags": [
     "pybryt"
    ]
   },
   "outputs": [],
   "source": [
    "with pybryt.check(pybryt_reference(3, 7)):\n",
    "    xlist, ylist, xarray, yarray, ymin, ymax"
   ]
  },
  {
   "cell_type": "code",
   "execution_count": null,
   "metadata": {
    "execution": {
     "iopub.execute_input": "2021-07-16T09:01:43.305583Z",
     "iopub.status.busy": "2021-07-16T09:01:43.305015Z",
     "iopub.status.idle": "2021-07-16T09:01:43.326724Z",
     "shell.execute_reply": "2021-07-16T09:01:43.327150Z"
    },
    "tags": [
     "okpy"
    ]
   },
   "outputs": [],
   "source": [
    "grade = ok.grade('exercise-3_7')"
   ]
  },
  {
   "cell_type": "markdown",
   "metadata": {},
   "source": [
    "## Exercise 3.8: Read a data file\n",
    "\n",
    "The files [data/density_water.dat](./data/density_water.dat) and [data/density_air.dat](./data/density_water.dat) contain data about the density of water and air (respectively) for different temperatures. The data files have some comment lines starting with `#`, and some lines are blank. The rest of the lines contain density data: the temperature in the first column and the corresponding density in the second column. This exercise aims to read the data in such a file, discard commented or blank lines, and plot the density versus the temperature as distinct (small) circles for each data point. Write a function `readTempDenFile` that takes a filename as an argument and returns two lists containing the temperature and the density. Call this function on both files, and store the temperature and density in lists called `temp_air_list`, `dens_air_list`, `temp_water_list` and `dens_water_list`."
   ]
  },
  {
   "cell_type": "code",
   "execution_count": null,
   "metadata": {
    "execution": {
     "iopub.execute_input": "2021-07-16T09:01:43.342723Z",
     "iopub.status.busy": "2021-07-16T09:01:43.341609Z",
     "iopub.status.idle": "2021-07-16T09:01:43.343303Z",
     "shell.execute_reply": "2021-07-16T09:01:43.343708Z"
    }
   },
   "outputs": [],
   "source": [
    "# Uncomment and modify the following code. Do not change variable names for testing purposes.\n",
    "\n",
    "# def readTempDenFile(filename):\n",
    "#     ...\n",
    "\n",
    "# temp_air_list, dens_air_list = ...\n",
    "# temp_water_list, dens_water_list = ..."
   ]
  },
  {
   "cell_type": "code",
   "execution_count": null,
   "metadata": {
    "execution": {
     "iopub.execute_input": "2021-07-16T09:01:43.612050Z",
     "iopub.status.busy": "2021-07-16T09:01:43.611528Z",
     "iopub.status.idle": "2021-07-16T09:01:43.646049Z",
     "shell.execute_reply": "2021-07-16T09:01:43.645575Z"
    },
    "tags": [
     "pybryt"
    ]
   },
   "outputs": [],
   "source": [
    "with pybryt.check(pybryt_reference(3, 8)):\n",
    "    readTempDenFile('data/density_air.dat')"
   ]
  },
  {
   "cell_type": "code",
   "execution_count": null,
   "metadata": {
    "execution": {
     "iopub.execute_input": "2021-07-16T09:01:43.652380Z",
     "iopub.status.busy": "2021-07-16T09:01:43.651847Z",
     "iopub.status.idle": "2021-07-16T09:01:43.678332Z",
     "shell.execute_reply": "2021-07-16T09:01:43.677862Z"
    },
    "tags": [
     "okpy"
    ]
   },
   "outputs": [],
   "source": [
    "grade = ok.grade(\"exercise-3_8\")"
   ]
  },
  {
   "cell_type": "markdown",
   "metadata": {},
   "source": [
    "## Exercise 3.9: Read acceleration data and find velocities\n",
    "\n",
    "A file [data/acc.dat](./data/acc.dat) contains measurements $a_0, a_1, \\ldots, a_{n-1}$ of the acceleration of an object moving along a straight line. The measurement $a_k$ is taken at time point $t_k = k \\Delta t$, where $\\Delta t$ is the time spacing between the measurements. The exercise aims to load the acceleration data into a program and compute the velocity $v(t)$ of the object at some time $t$.\n",
    "\n",
    "In general, the acceleration $a(t)$ is related to the velocity $v(t)$ through $v^\\prime(t) = a(t)$. This means that\n",
    "\n",
    "$$v(t) = v(0) + \\int_0^t{a(\\tau)d\\tau}.$$\n",
    "\n",
    "If $a(t)$ is only known at some discrete, equally spaced points in time, $a_0, \\ldots, a_{n-1}$ (which is the case in this exercise), we must compute the integral above numerically, for example using the Trapezoidal rule:\n",
    "\n",
    "$$v(t_k) \\approx v(0) + \\Delta t \\left(\\frac{1}{2}a_0 + \\frac{1}{2}a_k + \\sum_{i=1}^{k-1}a_i \\right), \\ \\ 1 \\leq k \\leq n-1. $$\n",
    "\n",
    "We assume $v(0) = 0$, so $v_0 = 0$. Read the values $a_0, \\ldots, a_{n-1}$ from file into an array `acc_array` and plot the acceleration versus time for $\\Delta t = 0.5$. The time should be stored in an array named `time_array`.\n",
    "\n",
    "Then write a function `compute_velocity(dt, k, a)` that takes as arguments a time interval $\\Delta t$ `dt`, an index `k` and a list of accelerations `a`, uses the Trapezoidal rule to compute one $v(t_k)$ value and return this value. Experiment with different values of $\\Delta t$ and $k$."
   ]
  },
  {
   "cell_type": "code",
   "execution_count": null,
   "metadata": {
    "execution": {
     "iopub.execute_input": "2021-07-16T09:01:43.701391Z",
     "iopub.status.busy": "2021-07-16T09:01:43.700682Z",
     "iopub.status.idle": "2021-07-16T09:01:43.705148Z",
     "shell.execute_reply": "2021-07-16T09:01:43.704558Z"
    }
   },
   "outputs": [],
   "source": [
    "# Uncomment and modify the following code. Do not change variable names for testing purposes.\n",
    "\n",
    "# def compute_velocity(dt, k, a):\n",
    "#     ...\n",
    "\n",
    "# time_array = ...\n",
    "# acc_array = ..."
   ]
  },
  {
   "cell_type": "code",
   "execution_count": null,
   "metadata": {
    "execution": {
     "iopub.execute_input": "2021-07-16T09:01:43.847901Z",
     "iopub.status.busy": "2021-07-16T09:01:43.845723Z",
     "iopub.status.idle": "2021-07-16T09:01:43.858778Z",
     "shell.execute_reply": "2021-07-16T09:01:43.858228Z"
    },
    "tags": [
     "pybryt"
    ]
   },
   "outputs": [],
   "source": [
    "with pybryt.check(pybryt_reference(3, 9)):\n",
    "    compute_velocity(1, 2, [5, 10, 12, 15, 16]), acc_array, time_array"
   ]
  },
  {
   "cell_type": "code",
   "execution_count": null,
   "metadata": {
    "execution": {
     "iopub.execute_input": "2021-07-16T09:01:43.862540Z",
     "iopub.status.busy": "2021-07-16T09:01:43.862014Z",
     "iopub.status.idle": "2021-07-16T09:01:43.905364Z",
     "shell.execute_reply": "2021-07-16T09:01:43.903853Z"
    },
    "tags": [
     "okpy"
    ]
   },
   "outputs": [],
   "source": [
    "grade = ok.grade('exercise-3_9')"
   ]
  },
  {
   "cell_type": "markdown",
   "metadata": {},
   "source": [
    "## File writing\n",
    "\n",
    "Writing a file in Python is simple. First, we open the file in writing mode (`f = open(filename, 'w')`). After that, we just collect the text we want to write in one or more strings, and, for each string, use a statement along the lines of\n",
    "\n",
    "```python\n",
    "outfile.write(string)\n",
    "```"
   ]
  },
  {
   "cell_type": "markdown",
   "metadata": {},
   "source": [
    "The write function does not add a newline character so you may have to do that explicitly:\n",
    "\n",
    "```python\n",
    "outfile.write(string + ’\\n’)\n",
    "```"
   ]
  },
  {
   "cell_type": "markdown",
   "metadata": {},
   "source": [
    "That’s it! Compose the strings and write! Let's do an example. Write a nested list (table) to a file:"
   ]
  },
  {
   "cell_type": "code",
   "execution_count": null,
   "metadata": {
    "execution": {
     "iopub.execute_input": "2021-07-16T09:01:43.922519Z",
     "iopub.status.busy": "2021-07-16T09:01:43.921979Z",
     "iopub.status.idle": "2021-07-16T09:01:43.930942Z",
     "shell.execute_reply": "2021-07-16T09:01:43.930488Z"
    }
   },
   "outputs": [],
   "source": [
    "# Let's define some table of data\n",
    "data = [[0.75, 0.29619813, -0.29619813, -0.75],\n",
    "        [0.29619813, 0.11697778, -0.11697778, -0.29619813],\n",
    "        [-0.29619813, -0.11697778, 0.11697778, 0.29619813],\n",
    "        [-0.75, -0.29619813, 0.29619813, 0.75]]\n",
    "\n",
    "# Open the file for writing. Notice the \"w\" indicates we are writing!\n",
    "outfile = open(\"tmp_table.dat\", \"w\")\n",
    "for row in data:\n",
    "    for column in row:\n",
    "        outfile.write(\"%14.8f\" % column)\n",
    "    outfile.write(\"\\n\")   # ensure newline\n",
    "outfile.close()"
   ]
  },
  {
   "cell_type": "markdown",
   "metadata": {},
   "source": [
    "And that's it - run the above cell and take a look at the file that was generated in your Azure library clone."
   ]
  },
  {
   "cell_type": "code",
   "execution_count": null,
   "metadata": {
    "execution": {
     "iopub.execute_input": "2021-07-16T09:01:43.934604Z",
     "iopub.status.busy": "2021-07-16T09:01:43.934087Z",
     "iopub.status.idle": "2021-07-16T09:01:44.083688Z",
     "shell.execute_reply": "2021-07-16T09:01:44.077868Z"
    },
    "tags": [
     "okpy"
    ]
   },
   "outputs": [],
   "source": [
    "ok.score()"
   ]
  }
 ],
 "metadata": {
  "celltoolbar": "Tags",
  "kernelspec": {
   "display_name": "Python 3",
   "language": "python",
   "name": "python3"
  },
  "language_info": {
   "codemirror_mode": {
    "name": "ipython",
    "version": 3
   },
   "file_extension": ".py",
   "mimetype": "text/x-python",
   "name": "python",
   "nbconvert_exporter": "python",
   "pygments_lexer": "ipython3",
   "version": "3.8.10"
  }
 },
 "nbformat": 4,
 "nbformat_minor": 4
}
